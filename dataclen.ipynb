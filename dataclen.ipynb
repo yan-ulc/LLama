{
 "cells": [
  {
   "cell_type": "code",
   "execution_count": 1,
   "metadata": {},
   "outputs": [],
   "source": [
    "import pandas as pd"
   ]
  },
  {
   "cell_type": "code",
   "execution_count": 2,
   "metadata": {},
   "outputs": [
    {
     "data": {
      "text/html": [
       "<div>\n",
       "<style scoped>\n",
       "    .dataframe tbody tr th:only-of-type {\n",
       "        vertical-align: middle;\n",
       "    }\n",
       "\n",
       "    .dataframe tbody tr th {\n",
       "        vertical-align: top;\n",
       "    }\n",
       "\n",
       "    .dataframe thead th {\n",
       "        text-align: right;\n",
       "    }\n",
       "</style>\n",
       "<table border=\"1\" class=\"dataframe\">\n",
       "  <thead>\n",
       "    <tr style=\"text-align: right;\">\n",
       "      <th></th>\n",
       "      <th>Id</th>\n",
       "      <th>Sentiment</th>\n",
       "      <th>Text Tweet</th>\n",
       "    </tr>\n",
       "  </thead>\n",
       "  <tbody>\n",
       "    <tr>\n",
       "      <th>0</th>\n",
       "      <td>1</td>\n",
       "      <td>negative</td>\n",
       "      <td>Jelek filmnya... apalagi si ernest gak mutu bg...</td>\n",
       "    </tr>\n",
       "    <tr>\n",
       "      <th>1</th>\n",
       "      <td>2</td>\n",
       "      <td>negative</td>\n",
       "      <td>Film king Arthur ini film paling jelek dari se...</td>\n",
       "    </tr>\n",
       "    <tr>\n",
       "      <th>2</th>\n",
       "      <td>3</td>\n",
       "      <td>negative</td>\n",
       "      <td>@beexkuanlin Sepanjang film gwa berkata kasar ...</td>\n",
       "    </tr>\n",
       "    <tr>\n",
       "      <th>3</th>\n",
       "      <td>4</td>\n",
       "      <td>negative</td>\n",
       "      <td>Ane ga suka fast and furious..menurutku kok je...</td>\n",
       "    </tr>\n",
       "    <tr>\n",
       "      <th>4</th>\n",
       "      <td>5</td>\n",
       "      <td>negative</td>\n",
       "      <td>@baekhyun36 kan gua ga tau film nya, lu bilang...</td>\n",
       "    </tr>\n",
       "    <tr>\n",
       "      <th>...</th>\n",
       "      <td>...</td>\n",
       "      <td>...</td>\n",
       "      <td>...</td>\n",
       "    </tr>\n",
       "    <tr>\n",
       "      <th>195</th>\n",
       "      <td>196</td>\n",
       "      <td>positive</td>\n",
       "      <td>Fargo juga adaptasi dari film yang cukup berha...</td>\n",
       "    </tr>\n",
       "    <tr>\n",
       "      <th>196</th>\n",
       "      <td>197</td>\n",
       "      <td>positive</td>\n",
       "      <td>637.000 waw ini sangat keren flm horor dng jum...</td>\n",
       "    </tr>\n",
       "    <tr>\n",
       "      <th>197</th>\n",
       "      <td>198</td>\n",
       "      <td>positive</td>\n",
       "      <td>@filmziarah film yang tenang dan menghanyutkan...</td>\n",
       "    </tr>\n",
       "    <tr>\n",
       "      <th>198</th>\n",
       "      <td>199</td>\n",
       "      <td>positive</td>\n",
       "      <td>Film yg amat menarik. Kisah cinta &amp; kesetiaan ...</td>\n",
       "    </tr>\n",
       "    <tr>\n",
       "      <th>199</th>\n",
       "      <td>200</td>\n",
       "      <td>positive</td>\n",
       "      <td>Nntn @filmziarah , film bagus, ada kali 5 meni...</td>\n",
       "    </tr>\n",
       "  </tbody>\n",
       "</table>\n",
       "<p>200 rows × 3 columns</p>\n",
       "</div>"
      ],
      "text/plain": [
       "      Id Sentiment                                         Text Tweet\n",
       "0      1  negative  Jelek filmnya... apalagi si ernest gak mutu bg...\n",
       "1      2  negative  Film king Arthur ini film paling jelek dari se...\n",
       "2      3  negative  @beexkuanlin Sepanjang film gwa berkata kasar ...\n",
       "3      4  negative  Ane ga suka fast and furious..menurutku kok je...\n",
       "4      5  negative  @baekhyun36 kan gua ga tau film nya, lu bilang...\n",
       "..   ...       ...                                                ...\n",
       "195  196  positive  Fargo juga adaptasi dari film yang cukup berha...\n",
       "196  197  positive  637.000 waw ini sangat keren flm horor dng jum...\n",
       "197  198  positive  @filmziarah film yang tenang dan menghanyutkan...\n",
       "198  199  positive  Film yg amat menarik. Kisah cinta & kesetiaan ...\n",
       "199  200  positive  Nntn @filmziarah , film bagus, ada kali 5 meni...\n",
       "\n",
       "[200 rows x 3 columns]"
      ]
     },
     "execution_count": 2,
     "metadata": {},
     "output_type": "execute_result"
    }
   ],
   "source": [
    "df = pd.read_csv(\"dataset_tweet_sentiment_opini_film.csv\")\n",
    "df"
   ]
  },
  {
   "cell_type": "code",
   "execution_count": 14,
   "metadata": {},
   "outputs": [
    {
     "data": {
      "text/html": [
       "<div>\n",
       "<style scoped>\n",
       "    .dataframe tbody tr th:only-of-type {\n",
       "        vertical-align: middle;\n",
       "    }\n",
       "\n",
       "    .dataframe tbody tr th {\n",
       "        vertical-align: top;\n",
       "    }\n",
       "\n",
       "    .dataframe thead th {\n",
       "        text-align: right;\n",
       "    }\n",
       "</style>\n",
       "<table border=\"1\" class=\"dataframe\">\n",
       "  <thead>\n",
       "    <tr style=\"text-align: right;\">\n",
       "      <th></th>\n",
       "      <th>Id</th>\n",
       "      <th>Sentiment</th>\n",
       "      <th>Text Tweet</th>\n",
       "    </tr>\n",
       "  </thead>\n",
       "  <tbody>\n",
       "    <tr>\n",
       "      <th>0</th>\n",
       "      <td>1</td>\n",
       "      <td>0</td>\n",
       "      <td>Jelek filmnya... apalagi si ernest gak mutu bg...</td>\n",
       "    </tr>\n",
       "    <tr>\n",
       "      <th>1</th>\n",
       "      <td>2</td>\n",
       "      <td>0</td>\n",
       "      <td>Film king Arthur ini film paling jelek dari se...</td>\n",
       "    </tr>\n",
       "    <tr>\n",
       "      <th>2</th>\n",
       "      <td>3</td>\n",
       "      <td>0</td>\n",
       "      <td>@beexkuanlin Sepanjang film gwa berkata kasar ...</td>\n",
       "    </tr>\n",
       "    <tr>\n",
       "      <th>3</th>\n",
       "      <td>4</td>\n",
       "      <td>0</td>\n",
       "      <td>Ane ga suka fast and furious..menurutku kok je...</td>\n",
       "    </tr>\n",
       "    <tr>\n",
       "      <th>4</th>\n",
       "      <td>5</td>\n",
       "      <td>0</td>\n",
       "      <td>@baekhyun36 kan gua ga tau film nya, lu bilang...</td>\n",
       "    </tr>\n",
       "    <tr>\n",
       "      <th>...</th>\n",
       "      <td>...</td>\n",
       "      <td>...</td>\n",
       "      <td>...</td>\n",
       "    </tr>\n",
       "    <tr>\n",
       "      <th>195</th>\n",
       "      <td>196</td>\n",
       "      <td>1</td>\n",
       "      <td>Fargo juga adaptasi dari film yang cukup berha...</td>\n",
       "    </tr>\n",
       "    <tr>\n",
       "      <th>196</th>\n",
       "      <td>197</td>\n",
       "      <td>1</td>\n",
       "      <td>637.000 waw ini sangat keren flm horor dng jum...</td>\n",
       "    </tr>\n",
       "    <tr>\n",
       "      <th>197</th>\n",
       "      <td>198</td>\n",
       "      <td>1</td>\n",
       "      <td>@filmziarah film yang tenang dan menghanyutkan...</td>\n",
       "    </tr>\n",
       "    <tr>\n",
       "      <th>198</th>\n",
       "      <td>199</td>\n",
       "      <td>1</td>\n",
       "      <td>Film yg amat menarik. Kisah cinta &amp; kesetiaan ...</td>\n",
       "    </tr>\n",
       "    <tr>\n",
       "      <th>199</th>\n",
       "      <td>200</td>\n",
       "      <td>1</td>\n",
       "      <td>Nntn @filmziarah , film bagus, ada kali 5 meni...</td>\n",
       "    </tr>\n",
       "  </tbody>\n",
       "</table>\n",
       "<p>200 rows × 3 columns</p>\n",
       "</div>"
      ],
      "text/plain": [
       "      Id  Sentiment                                         Text Tweet\n",
       "0      1          0  Jelek filmnya... apalagi si ernest gak mutu bg...\n",
       "1      2          0  Film king Arthur ini film paling jelek dari se...\n",
       "2      3          0  @beexkuanlin Sepanjang film gwa berkata kasar ...\n",
       "3      4          0  Ane ga suka fast and furious..menurutku kok je...\n",
       "4      5          0  @baekhyun36 kan gua ga tau film nya, lu bilang...\n",
       "..   ...        ...                                                ...\n",
       "195  196          1  Fargo juga adaptasi dari film yang cukup berha...\n",
       "196  197          1  637.000 waw ini sangat keren flm horor dng jum...\n",
       "197  198          1  @filmziarah film yang tenang dan menghanyutkan...\n",
       "198  199          1  Film yg amat menarik. Kisah cinta & kesetiaan ...\n",
       "199  200          1  Nntn @filmziarah , film bagus, ada kali 5 meni...\n",
       "\n",
       "[200 rows x 3 columns]"
      ]
     },
     "execution_count": 14,
     "metadata": {},
     "output_type": "execute_result"
    }
   ],
   "source": [
    "df[\"Sentiment\"] = df[\"Sentiment\"].map({\"positive\":1, \"negative\":0})\n",
    "   \n",
    "df\n"
   ]
  },
  {
   "cell_type": "code",
   "execution_count": 10,
   "metadata": {},
   "outputs": [
    {
     "name": "stdout",
     "output_type": "stream",
     "text": [
      "[[ 1  2  3  4]\n",
      " [ 5  6  7  8]\n",
      " [ 9 10 11 12]\n",
      " [13 14 15 16]]\n",
      "[[[ 1  2]\n",
      "  [ 3  4]]\n",
      "\n",
      " [[ 5  6]\n",
      "  [ 7  8]]\n",
      "\n",
      " [[ 9 10]\n",
      "  [11 12]]\n",
      "\n",
      " [[13 14]\n",
      "  [15 16]]]\n",
      "[[[ 1  2]\n",
      "  [ 5  6]\n",
      "  [ 9 10]\n",
      "  [13 14]]\n",
      "\n",
      " [[ 3  4]\n",
      "  [ 7  8]\n",
      "  [11 12]\n",
      "  [15 16]]]\n"
     ]
    }
   ],
   "source": [
    "import numpy as np\n",
    "x = [[1,2,3,4],\n",
    "    [5,6,7,8],\n",
    "    [9,10,11,12],\n",
    "    [13,14,15,16]]\n",
    "x = np.array(x)\n",
    "reshape1 = x.reshape(x.shape[0], 2, 2)\n",
    "reshape = reshape.transpose(1,0,2)\n",
    "print(x)\n",
    "print(reshape1)\n",
    "print(reshape)\n"
   ]
  },
  {
   "cell_type": "code",
   "execution_count": null,
   "metadata": {},
   "outputs": [],
   "source": [
    "def softmax(x):\n",
    "    exp = np.exp(x)\n",
    "    return exp / np.sum(exp, axis=1, keepdims=True)"
   ]
  },
  {
   "cell_type": "code",
   "execution_count": 88,
   "metadata": {},
   "outputs": [],
   "source": [
    "import numpy as np\n",
    "def Feedforward(x):\n",
    "    matmul = np.matmul\n",
    "    x = np.array(x)\n",
    "    dx = x.shape[1]\n",
    "    dx = dx *4\n",
    "    w1 = np.random.randn(len(x[0]),dx)\n",
    "    b1 = np.random.randn(len(x[0]),dx)\n",
    "    Logits = matmul(x, w1) + b1\n",
    "    belah = Logits.shape[1]//2\n",
    "    x1 = Logits[:,:belah]\n",
    "    x2 = Logits[:,belah:]\n",
    "    Logits = SwingGlu(x1,x2)\n",
    "    w2 = np.random.randn(*Logits.shape)\n",
    "    b2 = np.random.randn()\n",
    "    linear = matmul(Logits, w2.T) + b2\n",
    "    output = linear\n",
    "    return output\n",
    "def sigmoid(x):\n",
    "    return 1 / (1 + np.exp(-x))\n",
    "def swish(x):\n",
    "    return x * sigmoid(x)    \n",
    "def SwingGlu(x1,x2):\n",
    "    return  x2 * swish(x1) "
   ]
  },
  {
   "cell_type": "code",
   "execution_count": 89,
   "metadata": {},
   "outputs": [
    {
     "name": "stdout",
     "output_type": "stream",
     "text": [
      "(4, 4)\n"
     ]
    }
   ],
   "source": [
    "import numpy as np\n",
    "x = [[1,2,3,4],\n",
    "    [5,6,7,8],\n",
    "    [9,10,11,12],\n",
    "    [13,14,15,16]]\n",
    "x= np.array(x)\n",
    "dx = x.shape[1]\n",
    "\n",
    "print(Feedforward(x).shape)\n",
    "\n",
    "\n",
    "\n",
    "\n"
   ]
  },
  {
   "cell_type": "code",
   "execution_count": null,
   "metadata": {},
   "outputs": [
    {
     "ename": "ValueError",
     "evalue": "invalid literal for int() with base 10: 'jelek'",
     "output_type": "error",
     "traceback": [
      "\u001b[1;31m---------------------------------------------------------------------------\u001b[0m",
      "\u001b[1;31mValueError\u001b[0m                                Traceback (most recent call last)",
      "Cell \u001b[1;32mIn[102], line 46\u001b[0m\n\u001b[0;32m     44\u001b[0m     \u001b[38;5;28;01mfor\u001b[39;00m j, kata \u001b[38;5;129;01min\u001b[39;00m \u001b[38;5;28menumerate\u001b[39m(token[i]):\n\u001b[0;32m     45\u001b[0m         batas \u001b[38;5;241m=\u001b[39m \u001b[38;5;28mmin\u001b[39m(\u001b[38;5;28mlen\u001b[39m(kata), max_len\u001b[38;5;241m+\u001b[39m\u001b[38;5;241m1\u001b[39m)\n\u001b[1;32m---> 46\u001b[0m         \u001b[43mx\u001b[49m\u001b[43m[\u001b[49m\u001b[43mi\u001b[49m\u001b[43m,\u001b[49m\u001b[43m \u001b[49m\u001b[43m:\u001b[49m\u001b[43mbatas\u001b[49m\u001b[43m]\u001b[49m \u001b[38;5;241m=\u001b[39m kata[:batas]\n\u001b[0;32m     47\u001b[0m \u001b[38;5;28mprint\u001b[39m(x)\n\u001b[0;32m     51\u001b[0m \u001b[38;5;66;03m# for i, text in enumerate(token):\u001b[39;00m\n\u001b[0;32m     52\u001b[0m \u001b[38;5;66;03m#     print(i, text)\u001b[39;00m\n",
      "\u001b[1;31mValueError\u001b[0m: invalid literal for int() with base 10: 'jelek'"
     ]
    }
   ],
   "source": [
    "import numpy as np\n",
    "import pandas as pd\n",
    "import re\n",
    "def embedding_matriks(vocab, d):\n",
    "    embedding = {} \n",
    "    for kata in vocab:\n",
    "        embedding[kata] = np.random.randn(d)\n",
    "    return embedding\n",
    "\n",
    "def tokenize(texts):\n",
    "    vocab = set()\n",
    "    for text in texts:\n",
    "        vocab.update(text.split())\n",
    "    vocab = list(vocab)\n",
    "    vocab_size = len(vocab)\n",
    "    tokenized_texts = []\n",
    "    for text in texts:\n",
    "        tokens = tokens.split()\n",
    "        tokenized_texts.append(tokens)\n",
    "    return vocab, tokenized_texts\n",
    "\n",
    "def clean_text(text):\n",
    "    text = text.lower()\n",
    "    text = re.sub(r\"[^a-zA-Z0-9\\s]\", \"\", text)\n",
    "    return text\n",
    "\n",
    "data = pd.read_csv(\"file_baru.csv\")\n",
    "data[\"Clean\"] = data[\"Text Tweet\"].apply(clean_text) \n",
    "texts = data[\"Clean\"].tolist()\n",
    "labels =  data[\"Sentiment\"].tolist()\n",
    "d = 512\n",
    "\n",
    "\n",
    "token = []\n",
    "for i in texts:\n",
    "    token.append(i.split())\n",
    "panjang_kalimat = []\n",
    "for i in token:\n",
    "    panjang_kalimat.append(len(i))\n",
    "max_len = max(len_token)\n",
    "\n",
    "x = np.zeros((len(texts), max_len), dtype=int)\n",
    "for i , kalimat in enumerate(token):\n",
    "    for j, kata in enumerate(token[i]):\n",
    "        batas = min(len(kata), max_len)\n",
    "        x[i, :batas] = kata[:batas]\n",
    "print(x)\n",
    "    \n",
    "    \n",
    "   \n",
    "# for i, text in enumerate(token):\n",
    "#     print(i, text)\n",
    "\n",
    "    \n",
    "\n",
    "\n",
    "\n",
    "\n",
    "\n",
    "\n",
    "\n",
    "\n",
    "\n",
    "\n",
    "\n",
    "\n",
    "\n"
   ]
  },
  {
   "cell_type": "code",
   "execution_count": 48,
   "metadata": {},
   "outputs": [
    {
     "name": "stdout",
     "output_type": "stream",
     "text": [
      "{('a', 'k', 'u', '</w>'): 1}\n",
      "{('a', 'k', 'u', '</w>'): 1, ('s', 'u', 'k', 'a', '</w>'): 1}\n",
      "{('a', 'k', 'u', '</w>'): 1, ('s', 'u', 'k', 'a', '</w>'): 1, ('m', 'a', 'k', 'a', 'n', '</w>'): 1}\n",
      "{('a', 'k', 'u', '</w>'): 1, ('s', 'u', 'k', 'a', '</w>'): 1, ('m', 'a', 'k', 'a', 'n', '</w>'): 1, ('n', 'a', 's', 'i', '</w>'): 1}\n",
      "{('a', 'k', 'u', 's', 'u', 'k', 'a', 'm', 'a', 'k', 'a', 'n', 'n', 'a', 's', 'i'): 1, ('d', 'i', 'a', '</w>'): 1}\n",
      "{('a', 'k', 'u', 's', 'u', 'k', 'a', 'm', 'a', 'k', 'a', 'n', 'n', 'a', 's', 'i'): 1, ('d', 'i', 'a', '</w>'): 1, ('s', 'u', 'k', 'a', '</w>'): 1}\n",
      "{('a', 'k', 'u', 's', 'u', 'k', 'a', 'm', 'a', 'k', 'a', 'n', 'n', 'a', 's', 'i'): 1, ('d', 'i', 'a', '</w>'): 1, ('s', 'u', 'k', 'a', '</w>'): 1, ('m', 'a', 'k', 'a', 'n', '</w>'): 1}\n",
      "{('a', 'k', 'u', 's', 'u', 'k', 'a', 'm', 'a', 'k', 'a', 'n', 'n', 'a', 's', 'i'): 1, ('d', 'i', 'a', '</w>'): 1, ('s', 'u', 'k', 'a', '</w>'): 1, ('m', 'a', 'k', 'a', 'n', '</w>'): 1, ('a', 'y', 'a', 'm', '</w>'): 1}\n"
     ]
    }
   ],
   "source": [
    "\n",
    "vocab = {} \n",
    "for i in corpus:\n",
    "        for j in i: \n",
    "            chars = list(j) + ['</w>'] \n",
    "            token_tuple = tuple(chars) \n",
    "            if token_tuple in vocab: \n",
    "                vocab[token_tuple] += 1\n",
    "            else:\n",
    "                vocab[token_tuple] = 1 \n",
    "                print(vocab)\n",
    "    \n",
    "                \n",
    "    # while True:\n",
    "        new_vocab = {}\n",
    "        pair_freq = {} \n",
    "        for token, freq in vocab.items():   \n",
    "            for i in range(len(token)-1):  \n",
    "                pair = (token[i], token[i+1]) \n",
    "                if pair in pair_freq: \n",
    "                    pair_freq[pair] += freq\n",
    "                else:\n",
    "                    pair_freq[pair] = freq\n",
    "        \n",
    "        best_pair  = max(pair_freq, key=pair_freq.get )\n",
    "       \n",
    "        new_token = []\n",
    "        for token, freq in list(vocab.items()):\n",
    "            for i in range(len(token)-1):\n",
    "\n",
    "                npair =  token[i] + token[i+1]\n",
    "                if npair == best_pair:\n",
    "                    new_token.append(npair)\n",
    "                else :\n",
    "                    new_token.append(token[i])\n",
    "\n",
    "        new_token = tuple(new_token)\n",
    "        new_vocab[new_token] = freq\n",
    "        vocab = new_vocab\n",
    "        del new_vocab\n",
    "\n",
    "    \n",
    "\n",
    "\n",
    "\n",
    "            \n",
    "                   \n",
    "                   \n",
    "               \n",
    "                    \n",
    "                    \n",
    "\n",
    "                \n",
    "           \n",
    "\n",
    "\n",
    "\n",
    "\n",
    "\n",
    "    \n",
    "\n",
    "\n",
    "      \n",
    "\n",
    "\n",
    "\n"
   ]
  },
  {
   "cell_type": "code",
   "execution_count": 1,
   "metadata": {},
   "outputs": [
    {
     "name": "stdout",
     "output_type": "stream",
     "text": [
      "{('ak',): 0, ('aku',): 1, ('aku', '</w>'): 2, ('s',): 3, ('su',): 4, ('suk',): 5, ('suka',): 6, ('suka', '</w>'): 7, ('d',): 8, ('di',): 9, ('dim',): 10, ('dima',): 11, ('dima', 'n'): 12, ('dimana',): 13, ('dimana', '</w>'): 14, ('n',): 15, ('na',): 16, ('nas',): 17, ('nasi',): 18, ('nasi</w>',): 19, ('dim', 'ak'): 20, ('dim', 'aka'): 21, ('dimakan',): 22, ('dimakan', '</w>'): 23, ('a',): 24, ('ay',): 25, ('aya',): 26, ('ayam',): 27, ('ayam', '</w>'): 28, ('m',): 29, ('mak',): 30, ('maka',): 31, ('makan',): 32, ('makan</w>',): 33, ('dime',): 34, ('dimej',): 35, ('dimeja',): 36, ('dimeja', '</w>'): 37}\n",
      "[['aku', 'suka', 'dimana', 'nasi'], ['nasi', 'dimakan', 'ayam'], ['makan', 'dimeja', 'makan']]\n"
     ]
    }
   ],
   "source": [
    "corpus = [[\"aku\", \"suka\", \"dimana\", \"nasi\"], [\"nasi\", \"dimakan\", \"ayam\"], [\"makan\", \"dimeja\" ,\"makan\"]]\n",
    "def tokenizer(corpus):\n",
    "    vocab = {}\n",
    "    for kalimat in corpus:\n",
    "        for kata in kalimat:\n",
    "            char = list(kata) + [\"</w>\"]\n",
    "            char = tuple(char)\n",
    "            if char in vocab:\n",
    "                vocab[char] += 1\n",
    "            else:\n",
    "                vocab[char] = 1\n",
    "    while True:\n",
    "        pair_freq = {}\n",
    "        for token, freq in vocab.items():\n",
    "            for i in range(len(token) - 1):\n",
    "                pair = (token[i], token[i+1])\n",
    "                if pair in pair_freq:\n",
    "                    pair_freq[pair] += freq\n",
    "                else:\n",
    "                    pair_freq[pair] = freq\n",
    "        best_value = max(pair_freq.values())\n",
    "        best_pair = max(pair_freq, key=pair_freq.get)\n",
    "\n",
    "        if best_value < 2:\n",
    "            break\n",
    "\n",
    "        new_vocab = {}\n",
    "        for token, freq in vocab.items():\n",
    "            new_token = []\n",
    "            i = 0\n",
    "            while i < len(token):\n",
    "                if i < len(token) - 1 and (token[i], token[i+1]) == best_pair:\n",
    "                    new_token.append(token[i] + token[i+1])\n",
    "                    new_vocab[tuple(new_token)] = freq\n",
    "                    i += 2\n",
    "\n",
    "                else:\n",
    "                    new_token.append(token[i])\n",
    "                    i += 1\n",
    "                new_vocab[tuple(new_token)] = freq\n",
    "\n",
    "        vocab = new_vocab\n",
    "        vocab_index = {}\n",
    "        for i, token in enumerate(vocab.keys()):\n",
    "            vocab_index[token] = i\n",
    "        \n",
    "    return vocab_index\n",
    "\n",
    "    \n",
    "vocab = tokenizer(corpus)\n",
    "\n",
    "print(vocab)\n",
    "print(corpus)\n",
    "\n",
    "\n"
   ]
  },
  {
   "cell_type": "code",
   "execution_count": null,
   "metadata": {},
   "outputs": [
    {
     "name": "stdout",
     "output_type": "stream",
     "text": [
      "{'</w>': 0, 'a': 1, 'ak': 2, 'aka': 3, 'aku': 4, 'ay': 5, 'aya': 6, 'ayam': 7, 'd': 8, 'di': 9, 'dim': 10, 'dima': 11, 'dimakan': 12, 'dimana': 13, 'dime': 14, 'dimej': 15, 'dimeja': 16, 'm': 17, 'mak': 18, 'maka': 19, 'makan': 20, 'makan</w>': 21, 'n': 22, 'na': 23, 'nas': 24, 'nasi': 25, 'nasi</w>': 26, 's': 27, 'su': 28, 'suk': 29, 'suka': 30, '[UNK]': 31}\n"
     ]
    }
   ],
   "source": [
    "def flatten_vocab(vocab):\n",
    "    token_set = set()\n",
    "    for token_tuple in vocab.keys():\n",
    "        for t in token_tuple:\n",
    "            token_set.add(t)\n",
    "            \n",
    "    vocab_dict = {token: idx for idx, token in enumerate(sorted(token_set))}\n",
    "    vocab_dict[\"[UNK]\"] = len(vocab_dict)  # optional: token unknown\n",
    "    return vocab_dict\n",
    "\n",
    "vocab_dict = flatten_vocab(vocab)\n",
    "print(vocab_dict)\n"
   ]
  },
  {
   "cell_type": "code",
   "execution_count": 24,
   "metadata": {},
   "outputs": [
    {
     "name": "stdout",
     "output_type": "stream",
     "text": [
      "[['aku', 'suka', 'dimana', 'nasi'], ['nasi', 'dimakan', 'ayam'], ['makan', 'dimeja', 'makan']]\n",
      "{'</w>': 0, 'a': 1, 'ak': 2, 'aka': 3, 'aku': 4, 'ay': 5, 'aya': 6, 'ayam': 7, 'd': 8, 'di': 9, 'dim': 10, 'dima': 11, 'dimakan': 12, 'dimana': 13, 'dime': 14, 'dimej': 15, 'dimeja': 16, 'm': 17, 'mak': 18, 'maka': 19, 'makan': 20, 'makan</w>': 21, 'n': 22, 'na': 23, 'nas': 24, 'nasi': 25, 'nasi</w>': 26, 's': 27, 'su': 28, 'suk': 29, 'suka': 30, '[UNK]': 31}\n",
      "[[4, 0, 30, 0, 13, 0, 26], [26, 11, 31, 1, 22, 0, 7, 0], [21, 16, 0, 21]]\n",
      "tensor([[ 4,  0, 30,  0, 13,  0, 26,  0],\n",
      "        [26, 11, 31,  1, 22,  0,  7,  0],\n",
      "        [21, 16,  0, 21,  0,  0,  0,  0]])\n"
     ]
    }
   ],
   "source": [
    "import torch\n",
    "from torch.nn.utils.rnn import pad_sequence\n",
    "\n",
    "def encode_word(word, vocab_dict):\n",
    "    tokens = list(word) + [\"</w>\"]\n",
    "    while True:\n",
    "        merged = False\n",
    "        for i in range(len(tokens)-1):\n",
    "            pair = tokens[i] + tokens[i+1]\n",
    "            if pair in vocab_dict:\n",
    "                tokens = tokens[:i] + [pair] + tokens[i+2:]\n",
    "                merged = True\n",
    "                break\n",
    "        if not merged:\n",
    "            break\n",
    "\n",
    "    token_ids = []\n",
    "    for t in tokens:\n",
    "        if t in vocab_dict:\n",
    "            token_ids.append(vocab_dict[t])\n",
    "        else:\n",
    "            for c in t:\n",
    "                if c in vocab_dict:\n",
    "                    token_ids.append(vocab_dict[c])\n",
    "                else:\n",
    "                    token_ids.append(vocab_dict['[UNK]'])\n",
    "    return token_ids\n",
    "\n",
    "def encode_corpus(corpus, vocab_dict):\n",
    "    encoded = []\n",
    "    for sentence in corpus:\n",
    "        encoded_sentence = []\n",
    "        for word in sentence:\n",
    "            encoded_sentence.extend(encode_word(word, vocab_dict))\n",
    "        encoded.append(encoded_sentence)\n",
    "    return encoded\n",
    "\n",
    "# contoh corpus\n",
    "token = encode_corpus(corpus, vocab_dict)\n",
    "print(corpus)\n",
    "print(vocab_dict)\n",
    "max_len = len(max(token))\n",
    "print(token)\n",
    "\n",
    "\n",
    "\n",
    "    # ubah list jadi tensor satu per satu\n",
    "tensor_token = [torch.tensor(seq) for seq in token]\n",
    "\n",
    "# padding jadi batch tensor\n",
    "padded_batch = pad_sequence(tensor_token, batch_first=True, padding_value=0)\n",
    "\n",
    "print(padded_batch)\n",
    "d = 64\n",
    "\n",
    "\n",
    "\n"
   ]
  },
  {
   "cell_type": "code",
   "execution_count": null,
   "metadata": {},
   "outputs": [
    {
     "name": "stdout",
     "output_type": "stream",
     "text": [
      "(32, 64)\n"
     ]
    },
    {
     "ename": "NameError",
     "evalue": "name 'batch' is not defined",
     "output_type": "error",
     "traceback": [
      "\u001b[1;31m---------------------------------------------------------------------------\u001b[0m",
      "\u001b[1;31mNameError\u001b[0m                                 Traceback (most recent call last)",
      "Cell \u001b[1;32mIn[26], line 13\u001b[0m\n\u001b[0;32m     10\u001b[0m     embedding_matriks \u001b[38;5;241m=\u001b[39m embedding[batch]\n\u001b[0;32m     11\u001b[0m     \u001b[38;5;28;01mreturn\u001b[39;00m embedding_matriks \n\u001b[1;32m---> 13\u001b[0m embedding \u001b[38;5;241m=\u001b[39m \u001b[43mword_embedding\u001b[49m\u001b[43m(\u001b[49m\u001b[43mpadded_batch\u001b[49m\u001b[43m,\u001b[49m\u001b[43m \u001b[49m\u001b[43me_matriks\u001b[49m\u001b[43m)\u001b[49m\n\u001b[0;32m     14\u001b[0m \u001b[38;5;28mprint\u001b[39m(embedding)\n",
      "Cell \u001b[1;32mIn[26], line 10\u001b[0m, in \u001b[0;36mword_embedding\u001b[1;34m(token, embedding)\u001b[0m\n\u001b[0;32m      9\u001b[0m \u001b[38;5;28;01mdef\u001b[39;00m \u001b[38;5;21mword_embedding\u001b[39m(token, embedding):\n\u001b[1;32m---> 10\u001b[0m     embedding_matriks \u001b[38;5;241m=\u001b[39m embedding[\u001b[43mbatch\u001b[49m]\n\u001b[0;32m     11\u001b[0m     \u001b[38;5;28;01mreturn\u001b[39;00m embedding_matriks\n",
      "\u001b[1;31mNameError\u001b[0m: name 'batch' is not defined"
     ]
    }
   ],
   "source": [
    "import numpy as np\n",
    "def embedding_matriks(vocab, d):\n",
    "    embedding = np.array(np.random.randn(len(vocab), d))\n",
    "    return embedding\n",
    "\n",
    "e_matriks = embedding_matriks(vocab_dict, d)\n",
    "print(e_matriks.shape)\n",
    "\n",
    "def word_embedding(batch_size, len_token, e_matriks):\n",
    "    embedding_matriks = embedding[batch]\n",
    "    return embedding_matriks \n",
    "\n",
    "embedding = word_embedding(padded_batch, e_matriks)\n",
    "print(embedding)\n",
    "\n",
    "Z\n",
    "\n",
    "\n",
    "\n",
    "\n"
   ]
  },
  {
   "cell_type": "code",
   "execution_count": null,
   "metadata": {},
   "outputs": [],
   "source": []
  },
  {
   "cell_type": "code",
   "execution_count": 52,
   "metadata": {},
   "outputs": [
    {
     "name": "stdout",
     "output_type": "stream",
     "text": [
      "-2\n",
      "True\n"
     ]
    }
   ],
   "source": [
    "def isPalindrome (x: int):\n",
    "       yam =list(str(x))\n",
    "       yam = [int(i) for i in yam ]\n",
    "       for i in (yam):\n",
    "        print(-i-1)\n",
    "        if yam[i] == yam[-i-1]:\n",
    "         return True\n",
    "        else:\n",
    "         return False\n",
    "       \n",
    "       \n",
    "\n",
    "\n",
    "x = 121\n",
    "x = isPalindrome(x)\n",
    "print(x)"
   ]
  },
  {
   "cell_type": "code",
   "execution_count": null,
   "metadata": {},
   "outputs": [
    {
     "name": "stdout",
     "output_type": "stream",
     "text": [
      "8\n"
     ]
    }
   ],
   "source": [
    "def romanToInt(s: str) -> int:\n",
    "    roman = { 'I':1, 'V':5, 'X':10, 'L':50, 'C':100, 'D':500, 'M':1000}\n",
    "\n",
    "    total = 0\n",
    "    prev = 0\n",
    "    for i in reversed(s):\n",
    "        curr = roman[i]\n",
    "        if curr < prev:\n",
    "            total -= curr\n",
    "        else:\n",
    "            total += curr\n",
    "        prev = curr\n",
    "\n",
    "    return total \n",
    "            \n",
    "                \n",
    "        \n",
    "                \n",
    "    \n",
    "S = \"VIII\"\n",
    "chi = romanToInt(S)\n",
    "print(chi)\n",
    "\n",
    "    "
   ]
  },
  {
   "cell_type": "code",
   "execution_count": 53,
   "metadata": {},
   "outputs": [
    {
     "name": "stdout",
     "output_type": "stream",
     "text": [
      "A\n",
      "B\n",
      "C\n",
      "D\n",
      "ABCD\n"
     ]
    }
   ],
   "source": [
    "s = \"ABCD\"\n",
    "for i in (s):\n",
    "    print(i)\n",
    "print(s)"
   ]
  },
  {
   "cell_type": "code",
   "execution_count": null,
   "metadata": {},
   "outputs": [
    {
     "name": "stdout",
     "output_type": "stream",
     "text": [
      "None\n"
     ]
    }
   ],
   "source": [
    "def isValid( s: str) -> bool:\n",
    "    pair = {')': '(', ']': '[', '}': '{'}\n",
    "    total = []\n",
    "    for i in s:\n",
    "        if i == '(' or i == '{' or i == '[':\n",
    "            total.append(i)\n",
    "        elif i == ')' or i == '}' or i == ']':\n",
    "            if total[-1]  == pair[i]:\n",
    "                total.pop()\n",
    "            else:\n",
    "                return False\n",
    "    if len(total) == 0:\n",
    "        return True\n",
    "    else:\n",
    "        return False\n",
    "    \n",
    "                \n",
    "\n",
    "            \n",
    "        \n",
    "            \n",
    "\n",
    "\n",
    "\n",
    "s = \"[\"\n",
    "C = isValid(s)\n",
    "print(C)\n",
    "\n"
   ]
  },
  {
   "cell_type": "code",
   "execution_count": 108,
   "metadata": {},
   "outputs": [
    {
     "name": "stdout",
     "output_type": "stream",
     "text": [
      "olleh\n",
      "['o', 'l', 'l', 'e', 'h']\n",
      "['o', 'l', 'l', 'e', 'h']\n"
     ]
    }
   ],
   "source": [
    "def reverseString( s: [str]) -> None:\n",
    "        ayam = \"\".join(reversed(s))\n",
    "        chik = []\n",
    "        print(ayam)\n",
    "        for i in ayam:\n",
    "            chik.append(i)\n",
    "        print(chik)\n",
    "        return chik\n",
    "    \n",
    "s= [\"h\",\"e\",\"l\",\"l\",\"o\"]\n",
    "print(reverseString(s))"
   ]
  },
  {
   "cell_type": "code",
   "execution_count": null,
   "metadata": {},
   "outputs": [
    {
     "ename": "AttributeError",
     "evalue": "'list' object has no attribute 'shape'",
     "output_type": "error",
     "traceback": [
      "\u001b[1;31m---------------------------------------------------------------------------\u001b[0m",
      "\u001b[1;31mAttributeError\u001b[0m                            Traceback (most recent call last)",
      "Cell \u001b[1;32mIn[1], line 32\u001b[0m\n\u001b[0;32m      1\u001b[0m x \u001b[38;5;241m=\u001b[39m [[ \u001b[38;5;241m709\u001b[39m,  \u001b[38;5;241m503\u001b[39m,  \u001b[38;5;241m114\u001b[39m, \u001b[38;5;241m1318\u001b[39m,  \u001b[38;5;241m480\u001b[39m, \u001b[38;5;241m1358\u001b[39m,  \u001b[38;5;241m523\u001b[39m,  \u001b[38;5;241m981\u001b[39m,  \u001b[38;5;241m227\u001b[39m,   \u001b[38;5;241m22\u001b[39m, \u001b[38;5;241m1043\u001b[39m,  \u001b[38;5;241m500\u001b[39m, \u001b[38;5;241m1224\u001b[39m,   \u001b[38;5;241m41\u001b[39m,\n\u001b[0;32m      2\u001b[0m      \u001b[38;5;241m0\u001b[39m,    \u001b[38;5;241m0\u001b[39m,    \u001b[38;5;241m0\u001b[39m,    \u001b[38;5;241m0\u001b[39m,    \u001b[38;5;241m0\u001b[39m,    \u001b[38;5;241m0\u001b[39m,    \u001b[38;5;241m0\u001b[39m,    \u001b[38;5;241m0\u001b[39m,    \u001b[38;5;241m0\u001b[39m,    \u001b[38;5;241m0\u001b[39m,    \u001b[38;5;241m0\u001b[39m,    \u001b[38;5;241m0\u001b[39m,    \u001b[38;5;241m0\u001b[39m,    \u001b[38;5;241m0\u001b[39m,\n\u001b[0;32m      3\u001b[0m      \u001b[38;5;241m0\u001b[39m,    \u001b[38;5;241m0\u001b[39m,    \u001b[38;5;241m0\u001b[39m,    \u001b[38;5;241m0\u001b[39m,    \u001b[38;5;241m0\u001b[39m,    \u001b[38;5;241m0\u001b[39m,    \u001b[38;5;241m0\u001b[39m,    \u001b[38;5;241m0\u001b[39m],\n\u001b[1;32m   (...)\u001b[0m\n\u001b[0;32m     29\u001b[0m   \u001b[38;5;241m1500\u001b[39m, \u001b[38;5;241m1073\u001b[39m, \u001b[38;5;241m1356\u001b[39m, \u001b[38;5;241m1462\u001b[39m,  \u001b[38;5;241m214\u001b[39m, \u001b[38;5;241m1429\u001b[39m,  \u001b[38;5;241m367\u001b[39m, \u001b[38;5;241m1354\u001b[39m,  \u001b[38;5;241m227\u001b[39m,  \u001b[38;5;241m947\u001b[39m,   \u001b[38;5;241m12\u001b[39m,  \u001b[38;5;241m840\u001b[39m,   \u001b[38;5;241m12\u001b[39m,    \u001b[38;5;241m0\u001b[39m,\n\u001b[0;32m     30\u001b[0m      \u001b[38;5;241m0\u001b[39m,    \u001b[38;5;241m0\u001b[39m,    \u001b[38;5;241m0\u001b[39m,    \u001b[38;5;241m0\u001b[39m,    \u001b[38;5;241m0\u001b[39m,    \u001b[38;5;241m0\u001b[39m,    \u001b[38;5;241m0\u001b[39m,    \u001b[38;5;241m0\u001b[39m]]\n\u001b[1;32m---> 32\u001b[0m \u001b[38;5;28mprint\u001b[39m(\u001b[43mx\u001b[49m\u001b[38;5;241;43m.\u001b[39;49m\u001b[43mshape\u001b[49m)\n",
      "\u001b[1;31mAttributeError\u001b[0m: 'list' object has no attribute 'shape'"
     ]
    }
   ],
   "source": []
  },
  {
   "cell_type": "code",
   "execution_count": 2,
   "metadata": {},
   "outputs": [
    {
     "name": "stdout",
     "output_type": "stream",
     "text": [
      "[[[42 35 17 39 31 68 94 76 33 70 95  4 74 59 67  7]\n",
      "  [ 1 71 54 67 47 80 80 97 72 62 56 38 96  7 12  1]\n",
      "  [19 81 74 17 32 72 77 49 13  1 73 61 49 39  0 37]\n",
      "  [72  0 67 76 26 67 23  0 70 95 27 27 95 29 24 29]\n",
      "  [35 51 30 32 80 75 56  0 31 11 84 26 52  2 96 82]\n",
      "  [ 1 58 62 95 80 18 40 28 18 97 52 54 18 21  4 69]\n",
      "  [10 20 20 86 16 17 13 76  6 93 55 70 44 68 47 22]\n",
      "  [83 58 82 76 78 59 49 78 60 13 30 43 23 61 20 98]]\n",
      "\n",
      " [[78 27 14 99 32 61 28  9 40 92 74 20 42 59 81 58]\n",
      "  [91 65 56 57 46 48  6 88 59 56  0 31 53 99 51 35]\n",
      "  [10 12 70 80 51 94 25  1 82 75 48 77 63 68 41 22]\n",
      "  [34 59 97 11 65 59 13 72 78 40  0 73 90 97 13 41]\n",
      "  [23 44 47 13 89 76 85 27 90 97 37 96 64 19 38 60]\n",
      "  [99 49 42 23 33  0 34 93 55 88 61 25 47 15 59 38]\n",
      "  [89 47 86 30 69 81 15 34 15 64 83 74 32 20 84 26]\n",
      "  [74 35 73 93 30 57 57 19 93 99 16 82 80 12 51 16]]\n",
      "\n",
      " [[98 43 56 65  7 45 24 42  7 58 59 54  6 95 65 61]\n",
      "  [50 17 17 14 16 95 71 69 70 69 97 69 39  6 33 86]\n",
      "  [93 45 69 30 63 47 11 58 64 33 32 56 48 11 54 12]\n",
      "  [17 82 90 86 35 65 44 70 84 49 63  4 57 20 27  4]\n",
      "  [64 32 59 21 31 94 92 65 22  8 15 86 21 45 81 21]\n",
      "  [36 70 30 82 89 69  9 32 34 18  5 94 62 13 64 63]\n",
      "  [85 80 12 74 56 95 91 86 59 75 57  7 83  2 43 67]\n",
      "  [24 70 87 15 61 41 14 83 14 61 20 63 40 57 18 26]]\n",
      "\n",
      " [[97 22 94 44 28 25 29 19  1 58 33  5 34  3 19 11]\n",
      "  [84 77 68 38 72 61  1  5  7 44 86 54 29  2 59 27]\n",
      "  [85 95 62 36 89 93 82 15 51  1 21 82 38 41 29 62]\n",
      "  [45 35 77 27  2 37  6 46 12 35  0 25 31 49 37 63]\n",
      "  [27 87 13 95  0 35 41 34 93 49 92 48 35 42 44  9]\n",
      "  [69 92 93 63 45 71 81 16 17  0 77 75 89 85 67 89]\n",
      "  [57 61 73 62 84 70 70  3 13 93 56 18 23  9 96 44]\n",
      "  [72 70 37 40 38 52 23 66 16 93 78 95 10 96 13 64]]]\n"
     ]
    }
   ],
   "source": [
    "import numpy as np\n",
    "\n",
    "dummy_data = np.random.randint(0, 100, size=(4, 8, 16))\n",
    "print(dummy_data)\n"
   ]
  },
  {
   "cell_type": "code",
   "execution_count": null,
   "metadata": {},
   "outputs": [],
   "source": []
  },
  {
   "cell_type": "code",
   "execution_count": 4,
   "metadata": {},
   "outputs": [
    {
     "data": {
      "text/plain": [
       "(4, 8, 4, 4)"
      ]
     },
     "execution_count": 4,
     "metadata": {},
     "output_type": "execute_result"
    }
   ],
   "source": [
    "w= np.random.rand(*dummy_data.shape)\n",
    "w = w.reshape(4,8,4,4)\n",
    "w.shape"
   ]
  },
  {
   "cell_type": "code",
   "execution_count": null,
   "metadata": {},
   "outputs": [],
   "source": [
    "def rope(x):\n",
    "    \n"
   ]
  },
  {
   "cell_type": "code",
   "execution_count": null,
   "metadata": {},
   "outputs": [],
   "source": [
    "def GMHSA(x,d, num_head = 4, head_dim = 8, num_group = 2):\n",
    "    wq = np.random.randn(d,d)\n",
    "    wk = np.random.rand(d,d)\n",
    "    wv = np.random.rand(d,d)\n",
    "\n",
    "    Q = x @ wq.T \n",
    "    K = x @ wk.T\n",
    "    V = x @ wv.T\n",
    "\n",
    "    Q = Q.reshape(10,36,2,4,8).transpose(0,2,1,3,4)\n",
    "    K = K.reshape(10,36,2,4,8).transpose(0,2,1,3,4)\n",
    "    V = V.reshape(10,36,2,4,8).transpose(0,2,1,3,4)\n",
    "    \n",
    "    Q = rope(Q, dims= 2)\n",
    "    K = rope(K,dims= 2 )"
   ]
  },
  {
   "cell_type": "markdown",
   "metadata": {},
   "source": []
  },
  {
   "cell_type": "code",
   "execution_count": 1,
   "metadata": {},
   "outputs": [
    {
     "name": "stdout",
     "output_type": "stream",
     "text": [
      "✔️ Berhasil menyimpan konten ke i.txt\n"
     ]
    }
   ],
   "source": [
    "import requests\n",
    "\n",
    "url = \"https://www.gutenberg.org/files/2554/2554-0.txt\"\n",
    "resp = requests.get(url)\n",
    "resp.raise_for_status()\n",
    "\n",
    "with open(\"i.txt\", \"w\", encoding=\"utf-8\") as f:\n",
    "    f.write(resp.text)\n",
    "\n",
    "print(\"✔️ Berhasil menyimpan konten ke i.txt\")\n"
   ]
  },
  {
   "cell_type": "code",
   "execution_count": 6,
   "metadata": {},
   "outputs": [
    {
     "name": "stdout",
     "output_type": "stream",
     "text": [
      "Vocab: {'hello</w>': 0, 'world</w>': 1, 'there</w>': 2, '[UNK]': 3}\n",
      "Encoded: [[3, 3, 3, 3, 3, 3, 3, 3, 3, 3, 3, 3, 3, 3, 3, 3, 3, 3], [3, 3, 3, 3, 3, 3, 3, 3, 3, 3, 3, 3, 3, 3, 3, 3, 3, 3], [3, 3, 3, 3, 3, 3, 3, 3, 3, 3, 3, 3, 3, 3, 3, 3, 3, 3]]\n"
     ]
    }
   ],
   "source": [
    "from BPE_tokenizer import BPETokenizer\n",
    "\n",
    "corpus = [[\"hello\", \"world\"], [\"hello\", \"there\"], [\"world\", \"there\"]]\n",
    "\n",
    "tokenizer = BPETokenizer(min_pair_freq=2)\n",
    "tokenizer.fit(corpus)\n",
    "\n",
    "print(\"Vocab:\", tokenizer.get_vocab())\n",
    "print(\"Encoded:\", tokenizer.encode(corpus))"
   ]
  },
  {
   "cell_type": "code",
   "execution_count": null,
   "metadata": {},
   "outputs": [],
   "source": [
    "'dim': 256,\n",
    "'n_layers': 4,\n",
    "'n_heads': 4,\n",
    "'n_kv_heads': 2,\n",
    "'hidden_dim': 768,\n",
    "'max_seq_len': 128,\n",
    "'learning_rate': 1e-4,\n",
    "'weight_decay': 0.01,\n",
    "'batch_size': 32,\n",
    "'num_epochs': 5"
   ]
  },
  {
   "cell_type": "code",
   "execution_count": 8,
   "metadata": {},
   "outputs": [
    {
     "name": "stdout",
     "output_type": "stream",
     "text": [
      "Vocab: {'aku</w>': 0, 'makan</w>': 1, 'i': 2, '</w>': 3, 't': 4, 'd': 5, 'u': 6, 'r': 7, 'n': 8, 'a': 9, 's': 10, '[UNK]': 11}\n",
      "Encoded: [[9, 11, 6, 3, 11, 9, 11, 9, 8, 3]]\n"
     ]
    }
   ],
   "source": [
    "corpus = [[\"aku\", \"makan\"], [\"aku\", \"tidur\"], [\"makan\", \"nasi\"]]\n",
    "\n",
    "tokenizer = BPETokenizer(min_pair_freq=2)\n",
    "tokenizer.fit(corpus)\n",
    "\n",
    "print(\"Vocab:\", tokenizer.get_vocab())\n",
    "\n",
    "encoded = tokenizer.encode([[\"aku\", \"makan\"]])\n",
    "print(\"Encoded:\", encoded)\n",
    "\n",
    "\n"
   ]
  },
  {
   "cell_type": "code",
   "execution_count": 1,
   "metadata": {},
   "outputs": [
    {
     "ename": "AttributeError",
     "evalue": "'dict' object has no attribute 'encode_corpus'",
     "output_type": "error",
     "traceback": [
      "\u001b[1;31m---------------------------------------------------------------------------\u001b[0m",
      "\u001b[1;31mAttributeError\u001b[0m                            Traceback (most recent call last)",
      "Cell \u001b[1;32mIn[1], line 12\u001b[0m\n\u001b[0;32m      8\u001b[0m dummy_sentence \u001b[38;5;241m=\u001b[39m [[\u001b[38;5;124m\"\u001b[39m\u001b[38;5;124mnasi\u001b[39m\u001b[38;5;124m\"\u001b[39m, \u001b[38;5;124m\"\u001b[39m\u001b[38;5;124mdimakan\u001b[39m\u001b[38;5;124m\"\u001b[39m, \u001b[38;5;124m\"\u001b[39m\u001b[38;5;124mayam\u001b[39m\u001b[38;5;124m\"\u001b[39m]]\n\u001b[0;32m     10\u001b[0m \u001b[38;5;66;03m# 3. Encode\u001b[39;00m\n\u001b[1;32m---> 12\u001b[0m encoded_corpus \u001b[38;5;241m=\u001b[39m \u001b[43mtokenizer\u001b[49m\u001b[38;5;241;43m.\u001b[39;49m\u001b[43mencode_corpus\u001b[49m(corpus)\n\u001b[0;32m     13\u001b[0m \u001b[38;5;28mprint\u001b[39m(\u001b[38;5;124m\"\u001b[39m\u001b[38;5;124mEncoded:\u001b[39m\u001b[38;5;124m\"\u001b[39m, encoded)\n",
      "\u001b[1;31mAttributeError\u001b[0m: 'dict' object has no attribute 'encode_corpus'"
     ]
    }
   ],
   "source": [
    "import pickle\n",
    "\n",
    "# 1. Load model dari file\n",
    "with open(\"bpe_model.pkl\", \"rb\") as f:\n",
    "    tokenizer = pickle.load(f)\n",
    "\n",
    "# 2. Dummy data dari dataset\n",
    "dummy_sentence = [[\"nasi\", \"dimakan\", \"ayam\"]]\n",
    "\n",
    "# 3. Encode\n",
    "\n",
    "encoded_corpus = tokenizer.encode_corpus(corpus)\n",
    "print(\"Encoded:\", encoded)\n",
    "\n",
    "\n"
   ]
  },
  {
   "cell_type": "code",
   "execution_count": 14,
   "metadata": {},
   "outputs": [
    {
     "name": "stdout",
     "output_type": "stream",
     "text": [
      "✅ Berhasil memuat model.\n",
      "Tipe objek: <class 'llama_from_scratch.BPETokenizer'>\n",
      "Atribut dalam model: ['__class__', '__delattr__', '__dict__', '__dir__', '__doc__', '__eq__', '__format__', '__ge__', '__getattribute__', '__getstate__', '__gt__', '__hash__', '__init__', '__init_subclass__', '__le__', '__lt__', '__module__', '__ne__', '__new__', '__reduce__', '__reduce_ex__', '__repr__', '__setattr__', '__sizeof__', '__str__', '__subclasshook__', '__weakref__', 'encode', 'encode_word', 'fit', 'vocab', 'vocab_index', 'vocab_size']\n"
     ]
    },
    {
     "ename": "AttributeError",
     "evalue": "'BPETokenizer' object has no attribute 'eval'",
     "output_type": "error",
     "traceback": [
      "\u001b[1;31m---------------------------------------------------------------------------\u001b[0m",
      "\u001b[1;31mAttributeError\u001b[0m                            Traceback (most recent call last)",
      "Cell \u001b[1;32mIn[14], line 16\u001b[0m\n\u001b[0;32m     13\u001b[0m \u001b[38;5;28mprint\u001b[39m(\u001b[38;5;124m\"\u001b[39m\u001b[38;5;124mAtribut dalam model:\u001b[39m\u001b[38;5;124m\"\u001b[39m, \u001b[38;5;28mdir\u001b[39m(model))\n\u001b[0;32m     15\u001b[0m \u001b[38;5;66;03m# Set model ke mode evaluasi\u001b[39;00m\n\u001b[1;32m---> 16\u001b[0m \u001b[43mmodel\u001b[49m\u001b[38;5;241;43m.\u001b[39;49m\u001b[43meval\u001b[49m()  \u001b[38;5;66;03m# pastikan ini adalah model, bukan tokenizer\u001b[39;00m\n\u001b[0;32m     18\u001b[0m \u001b[38;5;66;03m# Ambil tokenizer dari dalam model\u001b[39;00m\n\u001b[0;32m     19\u001b[0m tokenizer \u001b[38;5;241m=\u001b[39m model\u001b[38;5;241m.\u001b[39mtokenizer  \u001b[38;5;66;03m# atau model.BPETokenizer, sesuai struktur kamu\u001b[39;00m\n",
      "\u001b[1;31mAttributeError\u001b[0m: 'BPETokenizer' object has no attribute 'eval'"
     ]
    }
   ],
   "source": [
    "import pickle\n",
    "import torch\n",
    "\n",
    "# Load model dari file\n",
    "try:\n",
    "    with open(\"LLama.pkl\", \"rb\") as f:\n",
    "        model = pickle.load(f)\n",
    "    print(\"✅ Berhasil memuat model.\")\n",
    "except Exception as e:\n",
    "    print(\"❌ Gagal memuat model:\", e)\n",
    "    exit()\n",
    "print(\"Tipe objek:\", type(model))\n",
    "print(\"Atribut dalam model:\", dir(model))\n",
    "\n",
    "# Set model ke mode evaluasi\n",
    "model.eval()  # pastikan ini adalah model, bukan tokenizer\n",
    "\n",
    "# Ambil tokenizer dari dalam model\n",
    "tokenizer = model.tokenizer  # atau model.BPETokenizer, sesuai struktur kamu\n",
    "\n",
    "# Input prompt\n",
    "prompt = \"he made his\"\n",
    "input_ids = tokenizer.encode(prompt)\n",
    "input_tensor = torch.tensor([input_ids], dtype=torch.long)\n",
    "\n",
    "# Prediksi token selanjutnya\n",
    "with torch.no_grad():\n",
    "    logits = model(input_tensor)\n",
    "    next_token_id = torch.argmax(logits[:, -1], dim=-1).item()\n",
    "    predicted_token = tokenizer.decode([next_token_id])\n",
    "\n",
    "print(\"Prediksi token selanjutnya:\", predicted_token)\n"
   ]
  },
  {
   "cell_type": "code",
   "execution_count": 25,
   "metadata": {},
   "outputs": [
    {
     "name": "stdout",
     "output_type": "stream",
     "text": [
      " Berhasil memuat file LLama.pkl.\n"
     ]
    }
   ],
   "source": [
    "import pickle\n",
    "\n",
    "try:\n",
    "    with open(\"LLama.pkl\", \"rb\") as f:\n",
    "        obj = pickle.load(f)\n",
    "    print(\" Berhasil memuat file LLama.pkl.\")\n",
    "except Exception as e:\n",
    "    print(\" Gagal memuat file LLama.pkl:\", e)\n"
   ]
  },
  {
   "cell_type": "code",
   "execution_count": 23,
   "metadata": {},
   "outputs": [
    {
     "name": "stdout",
     "output_type": "stream",
     "text": [
      "<class 'dict'>\n",
      "['__class__', '__class_getitem__', '__contains__', '__delattr__', '__delitem__', '__dir__', '__doc__', '__eq__', '__format__', '__ge__', '__getattribute__', '__getitem__', '__getstate__', '__gt__', '__hash__', '__init__', '__init_subclass__', '__ior__', '__iter__', '__le__', '__len__', '__lt__', '__ne__', '__new__', '__or__', '__reduce__', '__reduce_ex__', '__repr__', '__reversed__', '__ror__', '__setattr__', '__setitem__', '__sizeof__', '__str__', '__subclasshook__', 'clear', 'copy', 'fromkeys', 'get', 'items', 'keys', 'pop', 'popitem', 'setdefault', 'update', 'values']\n",
      "9540\n"
     ]
    }
   ],
   "source": [
    "import pickle\n",
    "\n",
    "with open(\"bpe_model.pkl\", \"rb\") as f:\n",
    "    bpe_model = pickle.load(f)\n",
    "\n",
    "print(type(bpe_model))\n",
    "print(dir(bpe_model))\n",
    "\n",
    "\n",
    "\n",
    "\n",
    "# Tampilkan 10 item pertama\n",
    "import pickle\n",
    "\n",
    "with open(\"llama_model/tokenizer.pkl\", \"rb\") as f:\n",
    "    tokenizer = pickle.load(f)\n",
    "\n",
    "vocab =tokenizer.vocab  # token -> id\n",
    "print(len(vocab))\n",
    "\n"
   ]
  },
  {
   "cell_type": "code",
   "execution_count": 29,
   "metadata": {},
   "outputs": [
    {
     "name": "stderr",
     "output_type": "stream",
     "text": [
      "c:\\Users\\USER DK\\AppData\\Local\\Programs\\Python\\Python311\\Lib\\site-packages\\tqdm\\auto.py:21: TqdmWarning: IProgress not found. Please update jupyter and ipywidgets. See https://ipywidgets.readthedocs.io/en/stable/user_install.html\n",
      "  from .autonotebook import tqdm as notebook_tqdm\n",
      "INFO:datasets:PyTorch version 2.6.0 available.\n",
      "INFO:datasets:TensorFlow version 2.19.0 available.\n",
      "c:\\Users\\USER DK\\AppData\\Local\\Programs\\Python\\Python311\\Lib\\site-packages\\huggingface_hub\\file_download.py:143: UserWarning: `huggingface_hub` cache-system uses symlinks by default to efficiently store duplicated files but your machine does not support them in C:\\Users\\USER DK\\.cache\\huggingface\\hub\\datasets--squad. Caching files will still work but in a degraded version that might require more space on your disk. This warning can be disabled by setting the `HF_HUB_DISABLE_SYMLINKS_WARNING` environment variable. For more details, see https://huggingface.co/docs/huggingface_hub/how-to-cache#limitations.\n",
      "To support symlinks on Windows, you either need to activate Developer Mode or to run Python as an administrator. In order to activate developer mode, see this article: https://docs.microsoft.com/en-us/windows/apps/get-started/enable-your-device-for-development\n",
      "  warnings.warn(message)\n",
      "Generating train split: 100%|██████████| 87599/87599 [00:00<00:00, 237274.88 examples/s]\n",
      "Generating validation split: 100%|██████████| 10570/10570 [00:00<00:00, 274500.75 examples/s]\n"
     ]
    }
   ],
   "source": [
    "from datasets import load_dataset\n",
    "\n",
    "dataset = load_dataset('squad')"
   ]
  },
  {
   "cell_type": "code",
   "execution_count": 30,
   "metadata": {},
   "outputs": [
    {
     "name": "stdout",
     "output_type": "stream",
     "text": [
      "✅ Dataset converted and saved as 'squad_train_qa.json' and 'squad_val_qa.json'\n"
     ]
    }
   ],
   "source": [
    "from datasets import load_dataset\n",
    "import json\n",
    "\n",
    "# Load SQuAD v1.1\n",
    "dataset = load_dataset(\"squad\")\n",
    "\n",
    "def convert_to_qa_format(dataset_split):\n",
    "    formatted_data = []\n",
    "    for sample in dataset_split:\n",
    "        question = sample[\"question\"].strip()\n",
    "        context = sample[\"context\"].strip()\n",
    "        answer = sample[\"answers\"][\"text\"][0].strip()\n",
    "\n",
    "        input_text = f\"### Question:\\n{question}\\n\\n### Context:\\n{context}\"\n",
    "        target_text = answer\n",
    "\n",
    "        formatted_data.append({\n",
    "            \"input\": input_text,\n",
    "            \"target\": target_text\n",
    "        })\n",
    "\n",
    "    return formatted_data\n",
    "\n",
    "# Convert train and validation\n",
    "train_data = convert_to_qa_format(dataset[\"train\"])\n",
    "val_data = convert_to_qa_format(dataset[\"validation\"])\n",
    "\n",
    "# Save ke file JSON\n",
    "with open(\"squad_train_qa.json\", \"w\", encoding=\"utf-8\") as f:\n",
    "    json.dump(train_data, f, indent=2, ensure_ascii=False)\n",
    "\n",
    "with open(\"squad_val_qa.json\", \"w\", encoding=\"utf-8\") as f:\n",
    "    json.dump(val_data, f, indent=2, ensure_ascii=False)\n",
    "\n",
    "print(\"✅ Dataset converted and saved as 'squad_train_qa.json' and 'squad_val_qa.json'\")\n"
   ]
  },
  {
   "cell_type": "code",
   "execution_count": 12,
   "metadata": {},
   "outputs": [
    {
     "ename": "NameError",
     "evalue": "name 'vocab' is not defined",
     "output_type": "error",
     "traceback": [
      "\u001b[1;31m---------------------------------------------------------------------------\u001b[0m",
      "\u001b[1;31mNameError\u001b[0m                                 Traceback (most recent call last)",
      "Cell \u001b[1;32mIn[12], line 8\u001b[0m\n\u001b[0;32m      5\u001b[0m     tokenizer \u001b[38;5;241m=\u001b[39m pickle\u001b[38;5;241m.\u001b[39mload(f)\n\u001b[0;32m      7\u001b[0m tokenizer \u001b[38;5;241m=\u001b[39m BPETokenizer()\n\u001b[1;32m----> 8\u001b[0m tokenizer\u001b[38;5;241m.\u001b[39mvocab \u001b[38;5;241m=\u001b[39m \u001b[43mvocab\u001b[49m\n\u001b[0;32m     10\u001b[0m text \u001b[38;5;241m=\u001b[39m \u001b[38;5;124m\"\u001b[39m\u001b[38;5;124mhello world\u001b[39m\u001b[38;5;124m\"\u001b[39m\n\u001b[0;32m     11\u001b[0m tokens \u001b[38;5;241m=\u001b[39m tokenizer\u001b[38;5;241m.\u001b[39mencode(text)\n",
      "\u001b[1;31mNameError\u001b[0m: name 'vocab' is not defined"
     ]
    }
   ],
   "source": [
    "import pickle\n",
    "from llama_model.llama_from_scratch import BPETokenizer\n",
    "\n",
    "with open('llama_model/tokenizer.pkl', 'rb') as f:\n",
    "    tokenizer = pickle.load(f)\n",
    "\n",
    "tokenizer = BPETokenizer()\n",
    "tokenizer.vocab = vocab\n",
    "\n",
    "text = \"hello world\"\n",
    "tokens = tokenizer.encode(text)\n",
    "print(\"Token IDs:\", tokens)\n",
    "\n",
    "# Kalau ingin lihat token string-nya (opsional)\n",
    "decoded = tokenizer.decode(tokens)\n",
    "print(\"Decoded:\", decoded)\n",
    "\n",
    "\n",
    "\n",
    "\n"
   ]
  },
  {
   "cell_type": "code",
   "execution_count": 26,
   "metadata": {},
   "outputs": [
    {
     "name": "stdout",
     "output_type": "stream",
     "text": [
      "<class 'llama_model.llama_from_scratch.BPETokenizer'>\n",
      "['__class__', '__delattr__', '__dict__', '__dir__', '__doc__', '__eq__', '__format__', '__ge__', '__getattribute__', '__getstate__', '__gt__', '__hash__', '__init__', '__init_subclass__', '__le__', '__lt__', '__module__', '__ne__', '__new__', '__reduce__', '__reduce_ex__', '__repr__', '__setattr__', '__sizeof__', '__str__', '__subclasshook__', '__weakref__', 'decode', 'encode', 'encode_word', 'fit', 'vocab', 'vocab_index', 'vocab_size']\n",
      "{'!': 0, '!)</w>': 1, '!--and</w>': 2, '!...</w>': 3, '!...”</w>': 4, '!</w>': 5, '!’</w>': 6, '!”--and</w>': 7, '!”</w>': 8, '(': 9, '(Cough,</w>': 10, '(as</w>': 11, '(for</w>': 12, '(he</w>': 13, '(she</w>': 14, '(which</w>': 15, ')': 16, '),</w>': 17, ').</w>': 18, ')</w>': 19, '*****</w>': 20, '***</w>': 21, ',': 22, ',...</w>': 23, ',</w>': 24, ',’</w>': 25, ',”</w>': 26, '-': 27, '--': 28, '----': 29, '----</w>': 30, '--I</w>': 31, '--a</w>': 32, '--all</w>': 33, '--an</w>': 34, '--and</w>': 35, '--as</w>': 36, '--but</w>': 37, '--have</w>': 38, '--he</w>': 39, '--how</w>': 40, '--in</w>': 41, '--it</w>': 42, '--long</w>': 43, '--no</w>': 44, '--she</w>': 45, '--simply</w>': 46, '--so</w>': 47, '--that’s</w>': 48, '--the</w>': 49, '--there</w>': 50, '--they</w>': 51, '--to</w>': 52, '--what</w>': 53, '--which</w>': 54, '--who</w>': 55, '--‘': 56, '--“': 57, '--“and</w>': 58, '--“it’s</w>': 59, '-coloured</w>': 60, '-haired</w>': 61, '-la': 62, '-looking</w>': 63, '-r': 64, '-stained</w>': 65, '-up</w>': 66, '.': 67, '.)</w>': 68, '...!”</w>': 69, '....': 70, '....</w>': 71, '....’”</w>': 72, '....”</w>': 73, '...</w>': 74, '...?</w>': 75, '...?”</w>': 76, '...”</w>': 77, '.</w>': 78, '.’</w>': 79, '.’”</w>': 80, '.”</w>': 81, '0': 82, '1': 83, '18': 84, '186': 85, '2': 86, '3': 87, '4': 88, '47,</w>': 89, '4</w>': 90, '5': 91, '8': 92, '9': 93, '9</w>': 94, ':</w>': 95, ';': 96, ';</w>': 97, '</w>': 98, '?': 99, '?--and</w>': 100, '?...</w>': 101, '?...”</w>': 102, '?</w>': 103, '?’</w>': 104, '?”</w>': 105, 'A': 106, 'A</w>': 107, 'AND</w>': 108, 'ART</w>': 109, 'Afanasy</w>': 110, 'Afanasyv': 111, 'After</w>': 112, 'Afterwards</w>': 113, 'Again': 114, 'Again</w>': 115, 'Against</w>': 116, 'Ah,</w>': 117, 'Al': 118, 'Alex': 119, 'Alexandr</w>': 120, 'Alexandrovna,</w>': 121, 'Alexandrovna.</w>': 122, 'Alexandrovna</w>': 123, 'Alexandrovna’s</w>': 124, 'All</w>': 125, 'Allow</w>': 126, 'Almost</w>': 127, 'Aly': 128, 'Alyona</w>': 129, 'Am</w>': 130, 'Amalia</w>': 131, 'America,</w>': 132, 'American</w>': 133, 'Among</w>': 134, 'An': 135, 'An</w>': 136, 'And,</w>': 137, 'And</w>': 138, 'Andrey</w>': 139, 'Any</w>': 140, 'Anyway,</w>': 141, 'Anyway</w>': 142, 'Are</w>': 143, 'As': 144, 'As</w>': 145, 'At</w>': 146, 'Avdotya</w>': 147, 'B': 148, 'Babushkin’s</w>': 149, 'Bakaleyev’s</w>': 150, 'Be': 151, 'Because</w>': 152, 'Behind</w>': 153, 'Bending</w>': 154, 'Bes': 155, 'Besides,</w>': 156, 'Besides</w>': 157, 'Better</w>': 158, 'Both</w>': 159, 'Bother</w>': 160, 'Boulev': 161, 'Brid': 162, 'But,</w>': 163, 'But</w>': 164, 'By</w>': 165, 'C': 166, 'CH': 167, 'CHAPTER</w>': 168, 'CRIME</w>': 169, 'Can</w>': 170, 'Captain,</w>': 171, 'Captain,”</w>': 172, 'Catch</w>': 173, 'Cathedr': 174, 'Certain': 175, 'Ch': 176, 'Christi': 177, 'Com': 178, 'Come,</w>': 179, 'Come</w>': 180, 'Con': 181, 'Confes': 182, 'Confound</w>': 183, 'Crist': 184, 'Cristal': 185, 'Cy': 186, 'D': 187, 'Dar': 188, 'Darya</w>': 189, 'Did</w>': 190, 'Didn’t</w>': 191, 'Dmitri': 192, 'Dmitri,</w>': 193, 'Dmitri</w>': 194, 'Do</w>': 195, 'Does</w>': 196, 'Don’t</w>': 197, 'Dostoevsk': 198, 'Dostoevsky</w>': 199, 'Douni': 200, 'Dounia': 201, 'Dounia,</w>': 202, 'Dounia,”</w>': 203, 'Dounia....</w>': 204, 'Dounia.</w>': 205, 'Dounia</w>': 206, 'Dounia?</w>': 207, 'Dounia?”</w>': 208, 'Dounia’s</w>': 209, 'Drun': 210, 'Duclida': 211, 'Dush': 212, 'Dushkin,</w>': 213, 'Dushkin</w>': 214, 'Dushkin’s</w>': 215, 'E': 216, 'E</w>': 217, 'Economic</w>': 218, 'Egyp': 219, 'Eh': 220, 'Eh!</w>': 221, 'Eh?</w>': 222, 'Either</w>': 223, 'En': 224, 'Eng': 225, 'English</w>': 226, 'Enough!</w>': 227, 'Even</w>': 228, 'Every': 229, 'Everyone</w>': 230, 'Evid': 231, 'Ex': 232, 'Exc': 233, 'Excuse</w>': 234, 'Explosive</w>': 235, 'F': 236, 'Fear': 237, 'Fin': 238, 'Fir': 239, 'First</w>': 240, 'Fomitch,</w>': 241, 'Fomitch.</w>': 242, 'Fomitch</w>': 243, 'Foo!</w>': 244, 'For': 245, 'For</w>': 246, 'Forgi': 247, 'Forgive</w>': 248, 'Fort': 249, 'Fortun': 250, 'Frants': 251, 'Frantsovna</w>': 252, 'Fren': 253, 'From</w>': 254, 'Fyod': 255, 'Fyodorovna</w>': 256, 'G': 257, 'Gener': 258, 'Ger': 259, 'German,</w>': 260, 'German.</w>': 261, 'German</w>': 262, 'Get</w>': 263, 'Give</w>': 264, 'Gl': 265, 'Go': 266, 'Go</w>': 267, 'God': 268, 'God!</w>': 269, 'God!”</w>': 270, 'God,</w>': 271, 'God</w>': 272, 'God’s</w>': 273, 'Going</w>': 274, 'Good-by': 275, 'Good-bye': 276, 'Good-bye!”</w>': 277, 'Good-bye,</w>': 278, 'Good</w>': 279, 'Gr': 280, 'Granted,</w>': 281, 'Grigor': 282, 'Grigoriev': 283, 'H': 284, 'Had</w>': 285, 'Half': 286, 'Half</w>': 287, 'Har': 288, 'Harlamov': 289, 'Harlamov’s</w>': 290, 'Have</w>': 291, 'Hay</w>': 292, 'He': 293, 'He,</w>': 294, 'He-he-he!”</w>': 295, 'He</w>': 296, 'Heav': 297, 'Hence</w>': 298, 'Her': 299, 'Her</w>': 300, 'Here,</w>': 301, 'Here</w>': 302, 'Here’s</w>': 303, 'Heruvimov': 304, 'He’s</w>': 305, 'His</w>': 306, 'Hm!</w>': 307, 'Hm...</w>': 308, 'Honoured</w>': 309, 'How,</w>': 310, 'How</w>': 311, 'I': 312, 'I,</w>': 313, 'I...</w>': 314, 'I.</w>': 315, 'I</w>': 316, 'I?”</w>': 317, 'II</w>': 318, 'III</w>': 319, 'IV</w>': 320, 'If</w>': 321, 'Ilya</w>': 322, 'In': 323, 'In</w>': 324, 'Inde': 325, 'Indeed</w>': 326, 'Instantly</w>': 327, 'Is</w>': 328, 'Island': 329, 'It,</w>': 330, 'It</w>': 331, 'It’s</w>': 332, 'Ivan': 333, 'Ivan</w>': 334, 'Ivanov': 335, 'Ivanovitch</w>': 336, 'Ivanovna': 337, 'Ivanovna,</w>': 338, 'Ivanovna,”</w>': 339, 'Ivanovna.</w>': 340, 'Ivanovna.”</w>': 341, 'Ivanovna</w>': 342, 'Ivanovna?”</w>': 343, 'Ivanovna’s</w>': 344, 'I’d</w>': 345, 'I’ll</w>': 346, 'I’m</w>': 347, 'I’ve</w>': 348, 'J': 349, 'Jove,</w>': 350, 'Just</w>': 351, 'K': 352, 'K----</w>': 353, 'KO': 354, 'Kapernaumov': 355, 'Karl</w>': 356, 'Katerina</w>': 357, 'Ko': 358, 'Koch,</w>': 359, 'Koch.</w>': 360, 'Koch</w>': 361, 'Kol': 362, 'Kolomensky</w>': 363, 'Kozel,</w>': 364, 'Kozel’s</w>': 365, 'L': 366, 'Lad': 367, 'Last</w>': 368, 'Lat': 369, 'Later</w>': 370, 'Le': 371, 'Leave</w>': 372, 'Lebeziatnikov': 373, 'Lebeziatnikov,</w>': 374, 'Lebeziatnikov</w>': 375, 'Let': 376, 'Let</w>': 377, 'Let’s</w>': 378, 'Li': 379, 'Lida': 380, 'Lida,</w>': 381, 'Lida</w>': 382, 'Lie</w>': 383, 'Lieuten': 384, 'Lieutenant</w>': 385, 'Lif': 386, 'Lippevechsel': 387, 'Lippevechsel</w>': 388, 'Lippevechsel’s</w>': 389, 'List': 390, 'Listen!”</w>': 391, 'Listen,</w>': 392, 'Little</w>': 393, 'Lizavet': 394, 'Lizaveta,</w>': 395, 'Lizaveta.</w>': 396, 'Lizaveta</w>': 397, 'Lizaveta’s</w>': 398, 'Look,</w>': 399, 'Look</w>': 400, 'Looking</w>': 401, 'Lor': 402, 'Lord,</w>': 403, 'Lu': 404, 'Ludwig': 405, 'Ludwigovna,</w>': 406, 'Ludwigovna...”</w>': 407, 'Luise</w>': 408, 'Luzhin': 409, 'Luzhin,</w>': 410, 'Luzhin.</w>': 411, 'Luzhin</w>': 412, 'Luzhin?</w>': 413, 'Luzhin’s</w>': 414, 'M': 415, 'Mad': 416, 'Madame</w>': 417, 'Make</w>': 418, 'Man</w>': 419, 'Many</w>': 420, 'Mar': 421, 'Marfa</w>': 422, 'Market,</w>': 423, 'Market.</w>': 424, 'Market</w>': 425, 'Marmeladov': 426, 'Marmeladov,</w>': 427, 'Marmeladov.</w>': 428, 'Marmeladov</w>': 429, 'Marmeladov’s</w>': 430, 'May': 431, 'Meanwhile</w>': 432, 'Mer': 433, 'Mi': 434, 'Mihail': 435, 'Mikolk': 436, 'Mikolka,</w>': 437, 'Mikolka.</w>': 438, 'Mikolka</w>': 439, 'Mitka!</w>': 440, 'Mor': 441, 'More': 442, 'Moreover,</w>': 443, 'Mosc': 444, 'Moscow</w>': 445, 'Most</w>': 446, 'Mother</w>': 447, 'Mr.</w>': 448, 'My</w>': 449, 'N': 450, 'NI': 451, 'Nastasy': 452, 'Nastasya': 453, 'Nastasya,</w>': 454, 'Nastasya...</w>': 455, 'Nastasya.</w>': 456, 'Nastasya</w>': 457, 'Nastasya’s</w>': 458, 'Ne': 459, 'Near</w>': 460, 'Nev': 461, 'Neva,</w>': 462, 'Neva.</w>': 463, 'Nikifor': 464, 'Nikodim</w>': 465, 'Nikola': 466, 'Nikolay,</w>': 467, 'Nikolay</w>': 468, 'Nikolay’s</w>': 469, 'No': 470, 'No,</w>': 471, 'No...</w>': 472, 'No.</w>': 473, 'No</w>': 474, 'Not</w>': 475, 'Nothing</w>': 476, 'Now,</w>': 477, 'Now</w>': 478, 'Number</w>': 479, 'O': 480, 'O</w>': 481, 'Of</w>': 482, 'Oh,</w>': 483, 'On': 484, 'On</w>': 485, 'Once</w>': 486, 'One,</w>': 487, 'One</w>': 488, 'Only</w>': 489, 'Open,</w>': 490, 'Or</w>': 491, 'Ostr': 492, 'Ostrov,</w>': 493, 'Our</w>': 494, 'P': 495, 'PART</w>': 496, 'PR': 497, 'PUNISHMENT</w>': 498, 'Pal': 499, 'Palais</w>': 500, 'Palmerston': 501, 'Pashenk': 502, 'Pashenka,</w>': 503, 'Pashenka</w>': 504, 'Pav': 505, 'Pavl': 506, 'Pavlovna</w>': 507, 'Pavlovna’s</w>': 508, 'People</w>': 509, 'Per': 510, 'Perhaps</w>': 511, 'Peski': 512, 'Pestryakov': 513, 'Pestryakov,</w>': 514, 'Pestryakov</w>': 515, 'Petersburg': 516, 'Petersburg,</w>': 517, 'Petersburg.</w>': 518, 'Petersburg</w>': 519, 'Petr': 520, 'Petrov': 521, 'Petrovitch': 522, 'Petrovitch!”</w>': 523, 'Petrovitch,</w>': 524, 'Petrovitch.</w>': 525, 'Petrovitch</w>': 526, 'Petrovitch?”</w>': 527, 'Petrovitch’s</w>': 528, 'Petrovna': 529, 'Petrovna,</w>': 530, 'Petrovna,”</w>': 531, 'Petrovna</w>': 532, 'Petrovna?”</w>': 533, 'Petrovna’s</w>': 534, 'Polenk': 535, 'Polenka': 536, 'Polenka,</w>': 537, 'Polenka</w>': 538, 'Porfir': 539, 'Porfiry,</w>': 540, 'Porfiry</w>': 541, 'Potchinkov’s</w>': 542, 'Pr': 543, 'Praskovya</w>': 544, 'Pri': 545, 'Prokofitch': 546, 'Prokofitch,</w>': 547, 'Prokofitch,”</w>': 548, 'Prospe': 549, 'Prospect,</w>': 550, 'Pulcheria</w>': 551, 'Pushkin</w>': 552, 'Putting</w>': 553, 'Pyotr</w>': 554, 'Qu': 555, 'Quite</w>': 556, 'R': 557, 'RI': 558, 'Raskolnikov': 559, 'Raskolnikov,</w>': 560, 'Raskolnikov--“': 561, 'Raskolnikov.</w>': 562, 'Raskolnikov;</w>': 563, 'Raskolnikov</w>': 564, 'Raskolnikov’s</w>': 565, 'Razumihin': 566, 'Razumihin,</w>': 567, 'Razumihin,”</w>': 568, 'Razumihin.</w>': 569, 'Razumihin.”</w>': 570, 'Razumihin;</w>': 571, 'Razumihin</w>': 572, 'Razumihin’s</w>': 573, 'Rem': 574, 'Rodi': 575, 'Rodion': 576, 'Rodion</w>': 577, 'Rodya': 578, 'Rodya!</w>': 579, 'Rodya,</w>': 580, 'Rodya,”</w>': 581, 'Rodya....”</w>': 582, 'Rodya.</w>': 583, 'Rodya</w>': 584, 'Rodya?”</w>': 585, 'Rodya’s</w>': 586, 'Roman': 587, 'Romanovitch</w>': 588, 'Romanovna': 589, 'Romanovna,</w>': 590, 'Romanovna.</w>': 591, 'Romanovna</w>': 592, 'Romanovna’s</w>': 593, 'Russia.</w>': 594, 'Russian</w>': 595, 'S': 596, 'Sadovy</w>': 597, 'Se': 598, 'See</w>': 599, 'Seeing</w>': 600, 'Semyon': 601, 'Semyon</w>': 602, 'Semyonovitch</w>': 603, 'Semyonovna': 604, 'Semyonovna,</w>': 605, 'Semyonovna.</w>': 606, 'Semyonovna</w>': 607, 'Sen': 608, 'Several</w>': 609, 'Shall</w>': 610, 'She,</w>': 611, 'She</w>': 612, 'She’s</w>': 613, 'Shi': 614, 'Should</w>': 615, 'Si': 616, 'Sil': 617, 'Simp': 618, 'Since</w>': 619, 'Sit</w>': 620, 'Six</w>': 621, 'So</w>': 622, 'Sofya</w>': 623, 'Some': 624, 'Some</w>': 625, 'Someone</w>': 626, 'Something</w>': 627, 'Sometimes</w>': 628, 'Somewhere</w>': 629, 'Soni': 630, 'Sonia!</w>': 631, 'Sonia,</w>': 632, 'Sonia.</w>': 633, 'Sonia</w>': 634, 'Sonia’s</w>': 635, 'Soon</w>': 636, 'Sta': 637, 'Stay,</w>': 638, 'Str': 639, 'Strange</w>': 640, 'Street.</w>': 641, 'Such</w>': 642, 'Sudd': 643, 'Suddenly</w>': 644, 'Sup': 645, 'Suppose</w>': 646, 'Surely</w>': 647, 'Svidrigaïlov': 648, 'Svidrigaïlov</w>': 649, 'Svidrigaïlov’s</w>': 650, 'T': 651, 'T</w>': 652, 'TE': 653, 'TRANSLATOR’S</w>': 654, 'Take</w>': 655, 'Taking</w>': 656, 'Talk</w>': 657, 'Tchebar': 658, 'Tchebarov,</w>': 659, 'Tchebarov</w>': 660, 'Tell</w>': 661, 'Th': 662, 'That</w>': 663, 'That’s</w>': 664, 'The': 665, 'The</w>': 666, 'Then,</w>': 667, 'Then</w>': 668, 'There': 669, 'There,</w>': 670, 'There</w>': 671, 'There’ll</w>': 672, 'There’s</w>': 673, 'These</w>': 674, 'They</w>': 675, 'They’': 676, 'They’ve</w>': 677, 'This</w>': 678, 'Though</w>': 679, 'Three</w>': 680, 'Through</w>': 681, 'Thy</w>': 682, 'Ti': 683, 'Till</w>': 684, 'To</w>': 685, 'Tur': 686, 'Turn</w>': 687, 'Two</w>': 688, 'U': 689, 'U,</w>': 690, 'U...</w>': 691, 'U.</w>': 692, 'U</w>': 693, 'Un': 694, 'Under</w>': 695, 'V': 696, 'V----</w>': 697, 'V</w>': 698, 'VI</w>': 699, 'VII</w>': 700, 'Vahrush': 701, 'Vahrushin,</w>': 702, 'Vahrushin,”</w>': 703, 'Vas': 704, 'Vassil': 705, 'Vassilyevsky</w>': 706, 'Very</w>': 707, 'Vrazumihin,</w>': 708, 'W': 709, 'Wait</w>': 710, 'Was</w>': 711, 'We': 712, 'We</w>': 713, 'Well,</w>': 714, 'Well</w>': 715, 'Were</w>': 716, 'We’ve</w>': 717, 'Wh': 718, 'What</w>': 719, 'What’s</w>': 720, 'When</w>': 721, 'Where</w>': 722, 'Which</w>': 723, 'While</w>': 724, 'Who</w>': 725, 'Who’s</w>': 726, 'Why,</w>': 727, 'Why</w>': 728, 'Will</w>': 729, 'With</w>': 730, 'Without</w>': 731, 'Would</w>': 732, 'X': 733, 'Y': 734, 'Yes,</w>': 735, 'Yes?</w>': 736, 'Yester': 737, 'Yesterday</w>': 738, 'Yet</w>': 739, 'You': 740, 'You,</w>': 741, 'You</w>': 742, 'Your</w>': 743, 'You’ll</w>': 744, 'You’re</w>': 745, 'You’ve</w>': 746, 'Yusupov</w>': 747, 'Z': 748, 'Zaharov': 749, 'Zaharovitch,</w>': 750, 'Zaharovitch</w>': 751, 'Zametov': 752, 'Zametov,</w>': 753, 'Zametov.</w>': 754, 'Zametov.”</w>': 755, 'Zametov;</w>': 756, 'Zametov</w>': 757, 'Zametov’s</w>': 758, 'Zaraï': 759, 'Zarnitsy': 760, 'Zossimov': 761, 'Zossimov,</w>': 762, 'Zossimov.</w>': 763, 'Zossimov</w>': 764, '[*]</w>': 765, '_': 766, '_,</w>': 767, '_,”</w>': 768, '_.</w>': 769, '_.”</w>': 770, '_</w>': 771, '_?</w>': 772, '_drap</w>': 773, '_experiment': 774, '_fiancé': 775, '_fiancé_,”</w>': 776, '_fiancé_</w>': 777, '_he_</w>': 778, '_seem': 779, '_seems_</w>': 780, '_sein</w>': 781, '_that': 782, '_that_</w>': 783, '_the': 784, '_the</w>': 785, '_the_</w>': 786, '_this_</w>': 787, '_words_,</w>': 788, '_would</w>': 789, '_’</w>': 790, 'a': 791, 'a!</w>': 792, 'a,</w>': 793, 'a,”</w>': 794, 'a.</w>': 795, 'a;</w>': 796, 'a</w>': 797, 'a?</w>': 798, 'a?”</w>': 799, 'ab': 800, 'ab</w>': 801, 'aband': 802, 'abandon</w>': 803, 'able,</w>': 804, 'able.</w>': 805, 'able</w>': 806, 'ably</w>': 807, 'about': 808, 'about,</w>': 809, 'about....</w>': 810, 'about.</w>': 811, 'about</w>': 812, 'about?</w>': 813, 'about?”</w>': 814, 'above</w>': 815, 'abroad</w>': 816, 'abrup': 817, 'abruptly.</w>': 818, 'abruptly</w>': 819, 'abscess</w>': 820, 'absence,</w>': 821, 'absence</w>': 822, 'absol': 823, 'absolutely</w>': 824, 'absorbed</w>': 825, 'absur': 826, 'absurd</w>': 827, 'abuse.</w>': 828, 'abuse</w>': 829, 'ac': 830, 'acc': 831, 'accep': 832, 'accept,</w>': 833, 'accept</w>': 834, 'accid': 835, 'accident</w>': 836, 'accidentally</w>': 837, 'accompan': 838, 'accompanied</w>': 839, 'accor': 840, 'accordance</w>': 841, 'according</w>': 842, 'accoun': 843, 'account,</w>': 844, 'account.</w>': 845, 'account</w>': 846, 'accur': 847, 'accursed</w>': 848, 'accused</w>': 849, 'accustomed</w>': 850, 'ace': 851, 'ace.</w>': 852, 'ace</w>': 853, 'aceful</w>': 854, 'ach': 855, 'ach</w>': 856, 'ached</w>': 857, 'ack</w>': 858, 'acle': 859, 'acquaint': 860, 'acquaintance': 861, 'acquaintance.</w>': 862, 'acquaintance</w>': 863, 'acquaintances</w>': 864, 'acquir': 865, 'acros': 866, 'across</w>': 867, 'act</w>': 868, 'action,</w>': 869, 'action</w>': 870, 'actions</w>': 871, 'actu': 872, 'actual</w>': 873, 'actually</w>': 874, 'ad': 875, 'ad</w>': 876, 'add': 877, 'add</w>': 878, 'added,</w>': 879, 'added.</w>': 880, 'added</w>': 881, 'addres': 882, 'address,</w>': 883, 'address.</w>': 884, 'address</w>': 885, 'addressed</w>': 886, 'addressing</w>': 887, 'ade</w>': 888, 'aded</w>': 889, 'adic': 890, 'ading</w>': 891, 'adm': 892, 'admit': 893, 'admit</w>': 894, 'admon': 895, 'ador': 896, 'adorned</w>': 897, 'adv': 898, 'advanc': 899, 'advance,</w>': 900, 'advance.</w>': 901, 'advance</w>': 902, 'advant': 903, 'advantage</w>': 904, 'advice</w>': 905, 'advise</w>': 906, 'af': 907, 'aff': 908, 'affably</w>': 909, 'affair': 910, 'affair</w>': 911, 'affairs</w>': 912, 'affe': 913, 'affectation</w>': 914, 'affected</w>': 915, 'affor': 916, 'affron': 917, 'affronted,</w>': 918, 'afraid': 919, 'afraid,</w>': 920, 'afraid.</w>': 921, 'afraid</w>': 922, 'after': 923, 'after,</w>': 924, 'after</w>': 925, 'afterno': 926, 'afterward': 927, 'afterwards,</w>': 928, 'afterwards.</w>': 929, 'afterwards</w>': 930, 'ag': 931, 'again': 932, 'again!</w>': 933, 'again!”</w>': 934, 'again,</w>': 935, 'again,”</w>': 936, 'again....</w>': 937, 'again...</w>': 938, 'again.</w>': 939, 'again.”</w>': 940, 'again</w>': 941, 'again?</w>': 942, 'against</w>': 943, 'age,</w>': 944, 'age.</w>': 945, 'age</w>': 946, 'aged</w>': 947, 'ages</w>': 948, 'agg': 949, 'aggriev': 950, 'agit': 951, 'agitation.</w>': 952, 'agn': 953, 'ago': 954, 'ago!</w>': 955, 'ago,</w>': 956, 'ago,”</w>': 957, 'ago.</w>': 958, 'ago.”</w>': 959, 'ago</w>': 960, 'agon': 961, 'agonis': 962, 'agonising</w>': 963, 'agonisingly</w>': 964, 'agony</w>': 965, 'agre': 966, 'agree': 967, 'agree</w>': 968, 'agreeable</w>': 969, 'agreed</w>': 970, 'agreement</w>': 971, 'ah': 972, 'ah!</w>': 973, 'ah,</w>': 974, 'ai': 975, 'aim': 976, 'aim</w>': 977, 'aimlessly</w>': 978, 'ain,</w>': 979, 'ain</w>': 980, 'ained</w>': 981, 'aint': 982, 'air': 983, 'air.</w>': 984, 'air</w>': 985, 'aj': 986, 'ajar.</w>': 987, 'ak': 988, 'aking</w>': 989, 'akov': 990, 'al': 991, 'al,</w>': 992, 'al...</w>': 993, 'al.</w>': 994, 'al.”</w>': 995, 'al</w>': 996, 'alarm': 997, 'alarm,</w>': 998, 'alarm.</w>': 999, 'alarmed.</w>': 1000, 'alarmed</w>': 1001, 'aled</w>': 1002, 'ali': 1003, 'aling</w>': 1004, 'alit': 1005, 'ality,</w>': 1006, 'ality.</w>': 1007, 'ality</w>': 1008, 'alive--': 1009, 'alive</w>': 1010, 'all': 1011, 'all!...</w>': 1012, 'all!</w>': 1013, 'all!”</w>': 1014, 'all,</w>': 1015, 'all,”</w>': 1016, 'all....</w>': 1017, 'all...</w>': 1018, 'all.</w>': 1019, 'all</w>': 1020, 'all?</w>': 1021, 'allop': 1022, 'allow</w>': 1023, 'allowed</w>': 1024, 'ally,</w>': 1025, 'ally.</w>': 1026, 'ally</w>': 1027, 'almost</w>': 1028, 'alms</w>': 1029, 'alone': 1030, 'alone!”</w>': 1031, 'alone,</w>': 1032, 'alone,”</w>': 1033, 'alone.</w>': 1034, 'alone;</w>': 1035, 'alone</w>': 1036, 'along': 1037, 'along!</w>': 1038, 'along!”</w>': 1039, 'along,</w>': 1040, 'along,”</w>': 1041, 'along</w>': 1042, 'aloud,</w>': 1043, 'aloud.</w>': 1044, 'aloud</w>': 1045, 'alread': 1046, 'already!</w>': 1047, 'already,</w>': 1048, 'already.</w>': 1049, 'already</w>': 1050, 'als</w>': 1051, 'also,</w>': 1052, 'also</w>': 1053, 'alth</w>': 1054, 'although</w>': 1055, 'altogether': 1056, 'altogether,</w>': 1057, 'altogether...</w>': 1058, 'altogether.</w>': 1059, 'altogether</w>': 1060, 'alway': 1061, 'always</w>': 1062, 'am': 1063, 'am!</w>': 1064, 'am,</w>': 1065, 'am.</w>': 1066, 'am</w>': 1067, 'amaz': 1068, 'amazed</w>': 1069, 'amazement.</w>': 1070, 'amazement</w>': 1071, 'ame</w>': 1072, 'amed</w>': 1073, 'amis': 1074, 'amn</w>': 1075, 'among</w>': 1076, 'amongst</w>': 1077, 'amoun': 1078, 'amuse': 1079, 'amuse</w>': 1080, 'amusement</w>': 1081, 'an': 1082, 'an,</w>': 1083, 'an.</w>': 1084, 'an</w>': 1085, 'analysi': 1086, 'anc': 1087, 'ance': 1088, 'ance!</w>': 1089, 'ance,</w>': 1090, 'ance.</w>': 1091, 'ance;</w>': 1092, 'ance</w>': 1093, 'anced</w>': 1094, 'ances</w>': 1095, 'ancing</w>': 1096, 'and': 1097, 'and,</w>': 1098, 'and-': 1099, 'and...</w>': 1100, 'and</w>': 1101, 'ane': 1102, 'ang': 1103, 'ang</w>': 1104, 'ange</w>': 1105, 'angel': 1106, 'angel!</w>': 1107, 'anger</w>': 1108, 'angri': 1109, 'angrily</w>': 1110, 'angry': 1111, 'angry,</w>': 1112, 'angry</w>': 1113, 'anguish,</w>': 1114, 'anguish</w>': 1115, 'ani': 1116, 'anic': 1117, 'anim': 1118, 'ank': 1119, 'ank</w>': 1120, 'ann': 1121, 'annihilated</w>': 1122, 'anno': 1123, 'announced</w>': 1124, 'annoy': 1125, 'annoy</w>': 1126, 'annoyance.</w>': 1127, 'another': 1128, 'another,</w>': 1129, 'another.</w>': 1130, 'another</w>': 1131, 'answ': 1132, 'answer': 1133, 'answer.</w>': 1134, 'answer</w>': 1135, 'answered,</w>': 1136, 'answered.</w>': 1137, 'answered</w>': 1138, 'answering</w>': 1139, 'ant': 1140, 'ant,</w>': 1141, 'ant.</w>': 1142, 'ant</w>': 1143, 'anted,</w>': 1144, 'anted</w>': 1145, 'anticip': 1146, 'anting</w>': 1147, 'antly,</w>': 1148, 'antly.</w>': 1149, 'antly</w>': 1150, 'anxi': 1151, 'anxie': 1152, 'anxiet': 1153, 'anxiety': 1154, 'anxiety,</w>': 1155, 'anxiety</w>': 1156, 'anxious</w>': 1157, 'anxiously</w>': 1158, 'any': 1159, 'any</w>': 1160, 'anybody</w>': 1161, 'anyone': 1162, 'anyone,</w>': 1163, 'anyone.</w>': 1164, 'anyone</w>': 1165, 'anyone’s</w>': 1166, 'anything': 1167, 'anything,</w>': 1168, 'anything....”</w>': 1169, 'anything.</w>': 1170, 'anything</w>': 1171, 'anyway,</w>': 1172, 'anyway,”</w>': 1173, 'an’t</w>': 1174, 'ap': 1175, 'ap.</w>': 1176, 'apart,</w>': 1177, 'apart</w>': 1178, 'apol': 1179, 'app': 1180, 'apparent</w>': 1181, 'apparently</w>': 1182, 'appe': 1183, 'appeal</w>': 1184, 'appear': 1185, 'appear</w>': 1186, 'appearance': 1187, 'appearance,</w>': 1188, 'appearance</w>': 1189, 'appeared</w>': 1190, 'appet': 1191, 'appro': 1192, 'approach': 1193, 'approach</w>': 1194, 'approached</w>': 1195, 'approaching</w>': 1196, 'ar': 1197, 'ar,</w>': 1198, 'ar.</w>': 1199, 'ar</w>': 1200, 'ard': 1201, 'ard,</w>': 1202, 'ard.</w>': 1203, 'ard;</w>': 1204, 'ard</w>': 1205, 'are!”</w>': 1206, 'are,</w>': 1207, 'are.</w>': 1208, 'are</w>': 1209, 'ared</w>': 1210, 'argu': 1211, 'argum': 1212, 'aring</w>': 1213, 'arithmetic': 1214, 'arly</w>': 1215, 'arm': 1216, 'arm,</w>': 1217, 'arm.</w>': 1218, 'arm</w>': 1219, 'armho': 1220, 'arms,</w>': 1221, 'arms.</w>': 1222, 'arms</w>': 1223, 'arou': 1224, 'around</w>': 1225, 'aroused</w>': 1226, 'arr': 1227, 'arrang': 1228, 'arrange</w>': 1229, 'arranged</w>': 1230, 'arrest': 1231, 'arrest</w>': 1232, 'arrested.</w>': 1233, 'arri': 1234, 'arriv': 1235, 'arrival.</w>': 1236, 'arrival</w>': 1237, 'arrived</w>': 1238, 'arrow': 1239, 'ars</w>': 1240, 'arti': 1241, 'artic': 1242, 'article</w>': 1243, 'articles</w>': 1244, 'articul': 1245, 'articulat': 1246, 'articulated</w>': 1247, 'articulating</w>': 1248, 'ary,</w>': 1249, 'ary</w>': 1250, 'as': 1251, 'as,</w>': 1252, 'as</w>': 1253, 'ascending</w>': 1254, 'ase</w>': 1255, 'ash': 1256, 'ash</w>': 1257, 'asham': 1258, 'ashamed': 1259, 'ashamed.</w>': 1260, 'ashamed</w>': 1261, 'ashenk': 1262, 'asi': 1263, 'aside</w>': 1264, 'ask': 1265, 'ask</w>': 1266, 'askance</w>': 1267, 'asked,</w>': 1268, 'asked.</w>': 1269, 'asked</w>': 1270, 'asking.</w>': 1271, 'asking</w>': 1272, 'askovya</w>': 1273, 'asks</w>': 1274, 'asleep': 1275, 'asleep,</w>': 1276, 'asleep.</w>': 1277, 'asleep</w>': 1278, 'asmuch</w>': 1279, 'ass</w>': 1280, 'asser': 1281, 'assist': 1282, 'assistance</w>': 1283, 'assistant</w>': 1284, 'assume</w>': 1285, 'assur': 1286, 'assure</w>': 1287, 'assured</w>': 1288, 'ast': 1289, 'ast,</w>': 1290, 'ast</w>': 1291, 'aston': 1292, 'astonish': 1293, 'astonished</w>': 1294, 'astonishing</w>': 1295, 'astonishment,</w>': 1296, 'astonishment.</w>': 1297, 'astonishment</w>': 1298, 'asy</w>': 1299, 'at': 1300, 'at,</w>': 1301, 'at.</w>': 1302, 'at</w>': 1303, 'ate,</w>': 1304, 'ate.</w>': 1305, 'ate</w>': 1306, 'ated,</w>': 1307, 'ated.</w>': 1308, 'ated.”</w>': 1309, 'ated</w>': 1310, 'ately,</w>': 1311, 'ately</w>': 1312, 'aterin': 1313, 'ather': 1314, 'ather,</w>': 1315, 'ati': 1316, 'atic': 1317, 'ating</w>': 1318, 'ation': 1319, 'ation,</w>': 1320, 'ation,”</w>': 1321, 'ation....</w>': 1322, 'ation.</w>': 1323, 'ation</w>': 1324, 'ation?”</w>': 1325, 'ations,</w>': 1326, 'ations</w>': 1327, 'ative.</w>': 1328, 'ative</w>': 1329, 'atmosphere</w>': 1330, 'ator': 1331, 'ator</w>': 1332, 'attac': 1333, 'attacked</w>': 1334, 'attacking</w>': 1335, 'attemp': 1336, 'attempt</w>': 1337, 'attempting</w>': 1338, 'atten': 1339, 'attending</w>': 1340, 'attenti': 1341, 'attention': 1342, 'attention,</w>': 1343, 'attention.</w>': 1344, 'attention;</w>': 1345, 'attention</w>': 1346, 'attentive</w>': 1347, 'attentively,</w>': 1348, 'attentively.</w>': 1349, 'attentively</w>': 1350, 'attered</w>': 1351, 'attire.</w>': 1352, 'attire</w>': 1353, 'attrac': 1354, 'attracted</w>': 1355, 'attraction</w>': 1356, 'attractive</w>': 1357, 'atur': 1358, 'au': 1359, 'audi': 1360, 'auth': 1361, 'author': 1362, 'author</w>': 1363, 'autum': 1364, 'av': 1365, 'ave</w>': 1366, 'aver': 1367, 'average</w>': 1368, 'aversion,</w>': 1369, 'aving</w>': 1370, 'avo': 1371, 'avoid</w>': 1372, 'avoided</w>': 1373, 'aw': 1374, 'awa': 1375, 'awaiting</w>': 1376, 'awake</w>': 1377, 'aware</w>': 1378, 'away': 1379, 'away!</w>': 1380, 'away!”</w>': 1381, 'away,</w>': 1382, 'away,”</w>': 1383, 'away...</w>': 1384, 'away.</w>': 1385, 'away;</w>': 1386, 'away</w>': 1387, 'awe</w>': 1388, 'awful</w>': 1389, 'awfully</w>': 1390, 'awkwardly</w>': 1391, 'ax': 1392, 'axe': 1393, 'axe,</w>': 1394, 'axe.</w>': 1395, 'axe;</w>': 1396, 'axe</w>': 1397, 'ay</w>': 1398, 'az': 1399, 'azan</w>': 1400, 'aï': 1401, 'a’s</w>': 1402, 'b': 1403, 'b</w>': 1404, 'ba': 1405, 'bab': 1406, 'bac': 1407, 'back': 1408, 'back,</w>': 1409, 'back.</w>': 1410, 'back.”</w>': 1411, 'back</w>': 1412, 'back?”</w>': 1413, 'backwards</w>': 1414, 'bad': 1415, 'bad.</w>': 1416, 'bad</w>': 1417, 'badly</w>': 1418, 'bags</w>': 1419, 'bal': 1420, 'ball': 1421, 'balloon</w>': 1422, 'ban': 1423, 'banging</w>': 1424, 'bank': 1425, 'bank,</w>': 1426, 'bank.</w>': 1427, 'bank</w>': 1428, 'banks</w>': 1429, 'bar': 1430, 'bar</w>': 1431, 'bare': 1432, 'bare-headed</w>': 1433, 'bare</w>': 1434, 'barefoo': 1435, 'barge,</w>': 1436, 'barri': 1437, 'barter</w>': 1438, 'bas': 1439, 'base,</w>': 1440, 'base</w>': 1441, 'bash': 1442, 'basin</w>': 1443, 'bath': 1444, 'battered</w>': 1445, 'baw': 1446, 'bawling</w>': 1447, 'bb': 1448, 'bbed</w>': 1449, 'bbing</w>': 1450, 'be': 1451, 'be!</w>': 1452, 'be!”</w>': 1453, 'be,</w>': 1454, 'be.</w>': 1455, 'be.”</w>': 1456, 'be;</w>': 1457, 'be</w>': 1458, 'be?”</w>': 1459, 'bear</w>': 1460, 'beard,</w>': 1461, 'bearing</w>': 1462, 'beast': 1463, 'beast,</w>': 1464, 'beast</w>': 1465, 'beat': 1466, 'beat</w>': 1467, 'beating,</w>': 1468, 'beating</w>': 1469, 'beats</w>': 1470, 'beaut': 1471, 'beauti': 1472, 'beautiful</w>': 1473, 'beauty</w>': 1474, 'became</w>': 1475, 'because,</w>': 1476, 'because...</w>': 1477, 'because</w>': 1478, 'become</w>': 1479, 'becoming</w>': 1480, 'bed': 1481, 'bed,</w>': 1482, 'bed.</w>': 1483, 'bed</w>': 1484, 'bedroom,</w>': 1485, 'bedroom.</w>': 1486, 'beef,</w>': 1487, 'been': 1488, 'been</w>': 1489, 'beer': 1490, 'beer,</w>': 1491, 'beer.</w>': 1492, 'beer</w>': 1493, 'befor': 1494, 'before': 1495, 'before,</w>': 1496, 'before.</w>': 1497, 'before</w>': 1498, 'beforehand': 1499, 'beforehand</w>': 1500, 'beg': 1501, 'beg</w>': 1502, 'began,</w>': 1503, 'began.</w>': 1504, 'began</w>': 1505, 'beggar': 1506, 'beggar...</w>': 1507, 'beggar</w>': 1508, 'beggary</w>': 1509, 'begged</w>': 1510, 'begin': 1511, 'begin</w>': 1512, 'beginning,</w>': 1513, 'beginning.</w>': 1514, 'beginning</w>': 1515, 'begun,</w>': 1516, 'begun.</w>': 1517, 'begun</w>': 1518, 'beha': 1519, 'behave</w>': 1520, 'behavi': 1521, 'behaviour,</w>': 1522, 'behaviour.”</w>': 1523, 'behaviour</w>': 1524, 'behind,</w>': 1525, 'behind</w>': 1526, 'being</w>': 1527, 'beli': 1528, 'believ': 1529, 'believe,</w>': 1530, 'believe</w>': 1531, 'believed</w>': 1532, 'bell,</w>': 1533, 'bell.</w>': 1534, 'bell</w>': 1535, 'belong': 1536, 'belongs</w>': 1537, 'below': 1538, 'below,</w>': 1539, 'below.</w>': 1540, 'below</w>': 1541, 'ben': 1542, 'bench,</w>': 1543, 'bench</w>': 1544, 'bending</w>': 1545, 'benef': 1546, 'benefactor': 1547, 'benefic': 1548, 'benefit,</w>': 1549, 'benefit</w>': 1550, 'benevol': 1551, 'bent</w>': 1552, 'ber': 1553, 'ber,</w>': 1554, 'ber</w>': 1555, 'besee': 1556, 'beside</w>': 1557, 'besides,</w>': 1558, 'besides</w>': 1559, 'besought</w>': 1560, 'best,</w>': 1561, 'best</w>': 1562, 'bet': 1563, 'bet</w>': 1564, 'betra': 1565, 'betray</w>': 1566, 'betroth': 1567, 'better': 1568, 'better,</w>': 1569, 'better....</w>': 1570, 'better.</w>': 1571, 'better</w>': 1572, 'between</w>': 1573, 'bewilder': 1574, 'bewildered,</w>': 1575, 'bewildered</w>': 1576, 'beyond</w>': 1577, 'bi': 1578, 'bid</w>': 1579, 'big</w>': 1580, 'bilit': 1581, 'billi': 1582, 'billiards</w>': 1583, 'bing</w>': 1584, 'bir': 1585, 'bit': 1586, 'bit</w>': 1587, 'biting</w>': 1588, 'bits</w>': 1589, 'bitter': 1590, 'bitter,</w>': 1591, 'bitter</w>': 1592, 'bitterly</w>': 1593, 'bitterness</w>': 1594, 'bl': 1595, 'blac': 1596, 'black': 1597, 'black-': 1598, 'black</w>': 1599, 'blade</w>': 1600, 'blam': 1601, 'blame</w>': 1602, 'blan': 1603, 'blank</w>': 1604, 'blankly</w>': 1605, 'ble': 1606, 'ble,</w>': 1607, 'ble</w>': 1608, 'bled</w>': 1609, 'bleed': 1610, 'bleed</w>': 1611, 'bles': 1612, 'bless</w>': 1613, 'blessing</w>': 1614, 'bling</w>': 1615, 'blo': 1616, 'block</w>': 1617, 'bloo': 1618, 'blood': 1619, 'blood,</w>': 1620, 'blood,”</w>': 1621, 'blood-stained</w>': 1622, 'blood...</w>': 1623, 'blood.</w>': 1624, 'blood</w>': 1625, 'blood?”</w>': 1626, 'blow.</w>': 1627, 'blow</w>': 1628, 'blowing</w>': 1629, 'blows!</w>': 1630, 'blows.</w>': 1631, 'blows</w>': 1632, 'blue,</w>': 1633, 'blue</w>': 1634, 'blunt</w>': 1635, 'blur': 1636, 'blurted</w>': 1637, 'blush</w>': 1638, 'blushing</w>': 1639, 'bly,</w>': 1640, 'bly.</w>': 1641, 'bly</w>': 1642, 'bo': 1643, 'boat': 1644, 'bod': 1645, 'bodi': 1646, 'bodies</w>': 1647, 'body,</w>': 1648, 'body.</w>': 1649, 'body</w>': 1650, 'body’s</w>': 1651, 'boiled</w>': 1652, 'bol': 1653, 'bold': 1654, 'boldly</w>': 1655, 'bon': 1656, 'bondage</w>': 1657, 'boo': 1658, 'book': 1659, 'book</w>': 1660, 'book?”</w>': 1661, 'books</w>': 1662, 'boot': 1663, 'boot,</w>': 1664, 'booths</w>': 1665, 'boots.</w>': 1666, 'boots</w>': 1667, 'bor': 1668, 'borrow</w>': 1669, 'bosom</w>': 1670, 'both</w>': 1671, 'bott': 1672, 'bottle,</w>': 1673, 'bottles</w>': 1674, 'bottom</w>': 1675, 'bought</w>': 1676, 'boulev': 1677, 'boulevard.</w>': 1678, 'boun': 1679, 'bound</w>': 1680, 'bout</w>': 1681, 'bow,</w>': 1682, 'bowed</w>': 1683, 'box': 1684, 'box,</w>': 1685, 'box.</w>': 1686, 'box</w>': 1687, 'boxes</w>': 1688, 'boy': 1689, 'boy,</w>': 1690, 'boy,”</w>': 1691, 'boy.</w>': 1692, 'boy</w>': 1693, 'boys</w>': 1694, 'br': 1695, 'brain': 1696, 'brain,</w>': 1697, 'brain</w>': 1698, 'brains</w>': 1699, 'bran': 1700, 'brandish': 1701, 'bre': 1702, 'brea': 1703, 'bread': 1704, 'bread,</w>': 1705, 'bread</w>': 1706, 'break': 1707, 'break</w>': 1708, 'breaking</w>': 1709, 'breast.</w>': 1710, 'breath': 1711, 'breath,</w>': 1712, 'breath.</w>': 1713, 'breath</w>': 1714, 'breathe': 1715, 'breathe.</w>': 1716, 'breathed</w>': 1717, 'breathing</w>': 1718, 'bri': 1719, 'bribe': 1720, 'bricks</w>': 1721, 'brid': 1722, 'bride': 1723, 'bridge.</w>': 1724, 'bridge</w>': 1725, 'brief</w>': 1726, 'brigh': 1727, 'bright': 1728, 'bright</w>': 1729, 'brightly</w>': 1730, 'bring</w>': 1731, 'bringing</w>': 1732, 'bro': 1733, 'broc': 1734, 'broke</w>': 1735, 'broken': 1736, 'broken.</w>': 1737, 'broken</w>': 1738, 'brother': 1739, 'brother,</w>': 1740, 'brother,”</w>': 1741, 'brother.</w>': 1742, 'brother</w>': 1743, 'brother’s</w>': 1744, 'brough': 1745, 'brought</w>': 1746, 'brown</w>': 1747, 'brows,</w>': 1748, 'bru': 1749, 'bruise': 1750, 'brush': 1751, 'brut': 1752, 'brute,</w>': 1753, 'bs</w>': 1754, 'bu': 1755, 'buck': 1756, 'buil': 1757, 'building</w>': 1758, 'built,</w>': 1759, 'built.</w>': 1760, 'bul': 1761, 'bull': 1762, 'bunch</w>': 1763, 'bundle,</w>': 1764, 'bundle</w>': 1765, 'bur': 1766, 'burden.</w>': 1767, 'burden</w>': 1768, 'bureau': 1769, 'buried</w>': 1770, 'burn</w>': 1771, 'burning</w>': 1772, 'burst</w>': 1773, 'bus': 1774, 'business': 1775, 'business!</w>': 1776, 'business!”</w>': 1777, 'business,</w>': 1778, 'business.</w>': 1779, 'business.”</w>': 1780, 'business</w>': 1781, 'busy</w>': 1782, 'but': 1783, 'but,</w>': 1784, 'but...</w>': 1785, 'but...”</w>': 1786, 'but</w>': 1787, 'butt': 1788, 'button': 1789, 'bux': 1790, 'buy</w>': 1791, 'by,</w>': 1792, 'by.</w>': 1793, 'by;</w>': 1794, 'by</w>': 1795, 'c': 1796, 'c</w>': 1797, 'ca': 1798, 'cab': 1799, 'cab</w>': 1800, 'cal': 1801, 'calam': 1802, 'calcul': 1803, 'calculated</w>': 1804, 'call': 1805, 'call</w>': 1806, 'called</w>': 1807, 'calling</w>': 1808, 'calls</w>': 1809, 'calm': 1810, 'calm.</w>': 1811, 'calmly,</w>': 1812, 'calmly.</w>': 1813, 'calmly</w>': 1814, 'cam': 1815, 'came,</w>': 1816, 'came.</w>': 1817, 'came</w>': 1818, 'can': 1819, 'can,”</w>': 1820, 'can....</w>': 1821, 'can.</w>': 1822, 'can</w>': 1823, 'canal,</w>': 1824, 'canal</w>': 1825, 'cand': 1826, 'candid</w>': 1827, 'candle-': 1828, 'candle-end</w>': 1829, 'candle</w>': 1830, 'cannot</w>': 1831, 'can’t': 1832, 'can’t</w>': 1833, 'cap': 1834, 'cap,</w>': 1835, 'cap.</w>': 1836, 'cap</w>': 1837, 'capable</w>': 1838, 'cape,</w>': 1839, 'capit': 1840, 'capital,</w>': 1841, 'capital</w>': 1842, 'capri': 1843, 'car': 1844, 'cards</w>': 1845, 'care': 1846, 'care!</w>': 1847, 'care.</w>': 1848, 'care</w>': 1849, 'career</w>': 1850, 'careful': 1851, 'careful</w>': 1852, 'carefully.</w>': 1853, 'carefully</w>': 1854, 'carri': 1855, 'carriag': 1856, 'carriage,</w>': 1857, 'carriage</w>': 1858, 'carried</w>': 1859, 'carry</w>': 1860, 'carrying</w>': 1861, 'cart': 1862, 'cart,</w>': 1863, 'cart-': 1864, 'cart.</w>': 1865, 'cart</w>': 1866, 'cas': 1867, 'case': 1868, 'case,</w>': 1869, 'case...</w>': 1870, 'case.</w>': 1871, 'case</w>': 1872, 'cases,</w>': 1873, 'cases.</w>': 1874, 'cases</w>': 1875, 'cash': 1876, 'cast</w>': 1877, 'casu': 1878, 'casually</w>': 1879, 'cat': 1880, 'catch</w>': 1881, 'catching</w>': 1882, 'cau': 1883, 'caught</w>': 1884, 'cause</w>': 1885, 'caused</w>': 1886, 'causes</w>': 1887, 'cauti': 1888, 'cautious</w>': 1889, 'cautiously.</w>': 1890, 'cautiously</w>': 1891, 'ce': 1892, 'ce,</w>': 1893, 'ce.</w>': 1894, 'ce</w>': 1895, 'ce?</w>': 1896, 'ceas': 1897, 'ceased</w>': 1898, 'ced</w>': 1899, 'ceed': 1900, 'ceeded</w>': 1901, 'cei': 1902, 'ceiling.</w>': 1903, 'cely</w>': 1904, 'cent': 1905, 'cer': 1906, 'ceremon': 1907, 'certain': 1908, 'certain</w>': 1909, 'certainly</w>': 1910, 'certainty</w>': 1911, 'certificate</w>': 1912, 'ces</w>': 1913, 'ch': 1914, 'ch,</w>': 1915, 'ch.</w>': 1916, 'ch</w>': 1917, 'cha': 1918, 'chain,</w>': 1919, 'chain</w>': 1920, 'chains,</w>': 1921, 'chair': 1922, 'chair,</w>': 1923, 'chair.</w>': 1924, 'chair</w>': 1925, 'chairs,</w>': 1926, 'chairs</w>': 1927, 'chal': 1928, 'challenging</w>': 1929, 'champagn': 1930, 'champagne</w>': 1931, 'chance,</w>': 1932, 'chance</w>': 1933, 'chanced</w>': 1934, 'chang': 1935, 'change</w>': 1936, 'changed</w>': 1937, 'chapel,</w>': 1938, 'char': 1939, 'character': 1940, 'character!</w>': 1941, 'character,</w>': 1942, 'character.</w>': 1943, 'character</w>': 1944, 'characterist': 1945, 'characteristic': 1946, 'charit': 1947, 'charming</w>': 1948, 'chased</w>': 1949, 'chat': 1950, 'chatter': 1951, 'chatter</w>': 1952, 'chattered</w>': 1953, 'che': 1954, 'cheap</w>': 1955, 'cheapest,</w>': 1956, 'checked</w>': 1957, 'ched</w>': 1958, 'chee': 1959, 'cheek': 1960, 'cheeks</w>': 1961, 'cheer': 1962, 'cheer</w>': 1963, 'cheerful,</w>': 1964, 'chemise</w>': 1965, 'cher': 1966, 'ches,</w>': 1967, 'ches</w>': 1968, 'chest': 1969, 'chest,</w>': 1970, 'chest.</w>': 1971, 'chest</w>': 1972, 'chi': 1973, 'chief': 1974, 'chief</w>': 1975, 'chil': 1976, 'child': 1977, 'child,</w>': 1978, 'child.</w>': 1979, 'child</w>': 1980, 'childish</w>': 1981, 'childr': 1982, 'children,</w>': 1983, 'children.</w>': 1984, 'children</w>': 1985, 'children’s</w>': 1986, 'child’s</w>': 1987, 'chill</w>': 1988, 'chin.</w>': 1989, 'chin</w>': 1990, 'ching</w>': 1991, 'cho': 1992, 'choked</w>': 1993, 'chol': 1994, 'choo': 1995, 'chop': 1996, 'chur': 1997, 'church</w>': 1998, 'ch’s.</w>': 1999, 'ci': 2000, 'ciful</w>': 2001, 'cigarett': 2002, 'cigarette': 2003, 'cigarette</w>': 2004, 'cing</w>': 2005, 'cious</w>': 2006, 'cip': 2007, 'cir': 2008, 'circle': 2009, 'circul': 2010, 'circumst': 2011, 'circumstanc': 2012, 'circumstance</w>': 2013, 'circumstances</w>': 2014, 'circumstantial</w>': 2015, 'civil</w>': 2016, 'ck': 2017, 'ck,</w>': 2018, 'ck.</w>': 2019, 'ck</w>': 2020, 'cked</w>': 2021, 'cken</w>': 2022, 'cking</w>': 2023, 'cks</w>': 2024, 'cl': 2025, 'clam': 2026, 'clank': 2027, 'clas': 2028, 'class</w>': 2029, 'clean': 2030, 'clean,</w>': 2031, 'clean-shaven</w>': 2032, 'clean.</w>': 2033, 'clean</w>': 2034, 'cleanlin': 2035, 'cleanliness</w>': 2036, 'clear': 2037, 'clear,</w>': 2038, 'clear,”</w>': 2039, 'clear.</w>': 2040, 'clear</w>': 2041, 'cleared</w>': 2042, 'clearer</w>': 2043, 'clearing</w>': 2044, 'clearly</w>': 2045, 'cleft</w>': 2046, 'clen': 2047, 'clenched</w>': 2048, 'clerk': 2049, 'clerk,</w>': 2050, 'clerk.</w>': 2051, 'clerk</w>': 2052, 'clerks</w>': 2053, 'clever': 2054, 'clever</w>': 2055, 'cling</w>': 2056, 'clinging</w>': 2057, 'clo': 2058, 'clock</w>': 2059, 'clos': 2060, 'close,</w>': 2061, 'close</w>': 2062, 'closed</w>': 2063, 'closely,</w>': 2064, 'closer</w>': 2065, 'closing</w>': 2066, 'cloth': 2067, 'clothes,</w>': 2068, 'clothes--': 2069, 'clothes.</w>': 2070, 'clothes;</w>': 2071, 'clothes</w>': 2072, 'clothes?</w>': 2073, 'clou': 2074, 'clouds</w>': 2075, 'clu': 2076, 'clum': 2077, 'clumsy,</w>': 2078, 'clut': 2079, 'clutch</w>': 2080, 'clutched</w>': 2081, 'co': 2082, 'coachman,</w>': 2083, 'coachman</w>': 2084, 'coar': 2085, 'coarse</w>': 2086, 'coat': 2087, 'coat,</w>': 2088, 'coat-': 2089, 'coat.</w>': 2090, 'coat</w>': 2091, 'coats,</w>': 2092, 'coats</w>': 2093, 'cock': 2094, 'cock-sparrow!</w>': 2095, 'coffe': 2096, 'coffee</w>': 2097, 'coher': 2098, 'coinci': 2099, 'coincid': 2100, 'col': 2101, 'cold,</w>': 2102, 'cold.</w>': 2103, 'cold</w>': 2104, 'coll': 2105, 'collar</w>': 2106, 'collected</w>': 2107, 'colour': 2108, 'colour,</w>': 2109, 'colourless,</w>': 2110, 'colours</w>': 2111, 'com': 2112, 'combed</w>': 2113, 'come!</w>': 2114, 'come,</w>': 2115, 'come,”</w>': 2116, 'come.</w>': 2117, 'come</w>': 2118, 'come?</w>': 2119, 'come?”</w>': 2120, 'comes</w>': 2121, 'comfor': 2122, 'comfort': 2123, 'comfort,</w>': 2124, 'comfort</w>': 2125, 'comfortab': 2126, 'comfortably</w>': 2127, 'coming,</w>': 2128, 'coming.</w>': 2129, 'coming</w>': 2130, 'comm': 2131, 'common': 2132, 'common</w>': 2133, 'commonplac': 2134, 'communic': 2135, 'comp': 2136, 'compan': 2137, 'companion,</w>': 2138, 'companion</w>': 2139, 'company,</w>': 2140, 'company.</w>': 2141, 'company</w>': 2142, 'compared</w>': 2143, 'compas': 2144, 'compassion': 2145, 'compassion.</w>': 2146, 'compassion</w>': 2147, 'compensate</w>': 2148, 'competent</w>': 2149, 'complain': 2150, 'comple': 2151, 'complet': 2152, 'complete': 2153, 'complete</w>': 2154, 'completely.</w>': 2155, 'completely</w>': 2156, 'compos': 2157, 'compressed,</w>': 2158, 'comrade</w>': 2159, 'comrades</w>': 2160, 'con': 2161, 'conc': 2162, 'conce': 2163, 'conceal</w>': 2164, 'concealed</w>': 2165, 'conceiv': 2166, 'conceived</w>': 2167, 'concentr': 2168, 'concentrated</w>': 2169, 'concentration</w>': 2170, 'concertina</w>': 2171, 'conclu': 2172, 'conclud': 2173, 'concluded,</w>': 2174, 'concluded</w>': 2175, 'conclusion': 2176, 'conclusions,</w>': 2177, 'conclusive</w>': 2178, 'conclusively</w>': 2179, 'condem': 2180, 'condemned</w>': 2181, 'condescending</w>': 2182, 'conditi': 2183, 'condition': 2184, 'condition,</w>': 2185, 'condition:</w>': 2186, 'condition</w>': 2187, 'condu': 2188, 'conduct</w>': 2189, 'conf': 2190, 'confes': 2191, 'confess</w>': 2192, 'confid': 2193, 'confound</w>': 2194, 'confounded</w>': 2195, 'confron': 2196, 'confu': 2197, 'confusion,</w>': 2198, 'confusion.</w>': 2199, 'confusion</w>': 2200, 'conne': 2201, 'conom': 2202, 'cons': 2203, 'consci': 2204, 'conscience': 2205, 'conscience-': 2206, 'conscious': 2207, 'conscious,</w>': 2208, 'conscious</w>': 2209, 'consciousness,</w>': 2210, 'consciousness.</w>': 2211, 'consciousness</w>': 2212, 'consent,</w>': 2213, 'consent</w>': 2214, 'consented</w>': 2215, 'consequ': 2216, 'consi': 2217, 'consider': 2218, 'consider</w>': 2219, 'considerable</w>': 2220, 'consideration</w>': 2221, 'considered</w>': 2222, 'considering</w>': 2223, 'consist': 2224, 'consisted</w>': 2225, 'consisting</w>': 2226, 'consol': 2227, 'consolation</w>': 2228, 'conspicu': 2229, 'constable</w>': 2230, 'constantly</w>': 2231, 'constitutes</w>': 2232, 'constrained</w>': 2233, 'consul': 2234, 'consumption,</w>': 2235, 'consumption</w>': 2236, 'consumptive</w>': 2237, 'cont': 2238, 'contemp': 2239, 'contempt,</w>': 2240, 'contempt</w>': 2241, 'contemptible</w>': 2242, 'contemptu': 2243, 'contemptuous</w>': 2244, 'contemptuously</w>': 2245, 'continu': 2246, 'continual</w>': 2247, 'continually</w>': 2248, 'continued,</w>': 2249, 'continued</w>': 2250, 'contorted</w>': 2251, 'contr': 2252, 'contradic': 2253, 'contrary,</w>': 2254, 'contrary</w>': 2255, 'contri': 2256, 'control</w>': 2257, 'controlled</w>': 2258, 'conv': 2259, 'conven': 2260, 'convenient</w>': 2261, 'conversation': 2262, 'conversation,</w>': 2263, 'conversation.</w>': 2264, 'conversation</w>': 2265, 'conversations</w>': 2266, 'conveyed</w>': 2267, 'conviction</w>': 2268, 'convictions,</w>': 2269, 'convictions</w>': 2270, 'convinc': 2271, 'convinced</w>': 2272, 'convincing</w>': 2273, 'convul': 2274, 'coo': 2275, 'cop': 2276, 'cope': 2277, 'copeck': 2278, 'copecks!</w>': 2279, 'copecks,</w>': 2280, 'copecks,”</w>': 2281, 'copecks.</w>': 2282, 'copecks</w>': 2283, 'copper': 2284, 'copper</w>': 2285, 'coppers</w>': 2286, 'cor': 2287, 'corn': 2288, 'corner': 2289, 'corner,</w>': 2290, 'corner.</w>': 2291, 'corner;</w>': 2292, 'corner</w>': 2293, 'correc': 2294, 'correct': 2295, 'correct</w>': 2296, 'corrected</w>': 2297, 'corrid': 2298, 'cost</w>': 2299, 'costs</w>': 2300, 'cott': 2301, 'cotton</w>': 2302, 'cough': 2303, 'cough!)</w>': 2304, 'cough,</w>': 2305, 'cough</w>': 2306, 'coughed</w>': 2307, 'coughing,</w>': 2308, 'coughing</w>': 2309, 'coul': 2310, 'could,</w>': 2311, 'could.</w>': 2312, 'could</w>': 2313, 'couldn’t</w>': 2314, 'coun': 2315, 'counsell': 2316, 'count</w>': 2317, 'counted</w>': 2318, 'counten': 2319, 'counter</w>': 2320, 'counting</w>': 2321, 'country</w>': 2322, 'couple</w>': 2323, 'cour': 2324, 'courage</w>': 2325, 'course': 2326, 'course!</w>': 2327, 'course,</w>': 2328, 'course...</w>': 2329, 'course.</w>': 2330, 'course</w>': 2331, 'court': 2332, 'court,</w>': 2333, 'courte': 2334, 'courty': 2335, 'courtyard</w>': 2336, 'courtyards</w>': 2337, 'covered</w>': 2338, 'covering</w>': 2339, 'cow': 2340, 'cowar': 2341, 'cr': 2342, 'cra': 2343, 'crack': 2344, 'crack,</w>': 2345, 'crack</w>': 2346, 'cracked</w>': 2347, 'cracking</w>': 2348, 'cram': 2349, 'cramped</w>': 2350, 'crav': 2351, 'craz': 2352, 'crazy</w>': 2353, 'cre': 2354, 'cream</w>': 2355, 'creat': 2356, 'created</w>': 2357, 'creature': 2358, 'creature</w>': 2359, 'cred': 2360, 'credit</w>': 2361, 'crept</w>': 2362, 'cri': 2363, 'cried,</w>': 2364, 'cried.</w>': 2365, 'cried</w>': 2366, 'cries</w>': 2367, 'crim': 2368, 'crime,</w>': 2369, 'crime</w>': 2370, 'crimes</w>': 2371, 'criminal': 2372, 'criminal</w>': 2373, 'criminals</w>': 2374, 'crims': 2375, 'crinol': 2376, 'critic': 2377, 'criticism,</w>': 2378, 'criticism</w>': 2379, 'cros': 2380, 'cross,</w>': 2381, 'cross-': 2382, 'cross.</w>': 2383, 'cross</w>': 2384, 'crossed</w>': 2385, 'crossing</w>': 2386, 'crow': 2387, 'crowbar.</w>': 2388, 'crowd': 2389, 'crowd,</w>': 2390, 'crowd.</w>': 2391, 'crowd</w>': 2392, 'crowded</w>': 2393, 'crowds</w>': 2394, 'cru': 2395, 'cruci': 2396, 'crucified,</w>': 2397, 'cruel</w>': 2398, 'crush</w>': 2399, 'crushe': 2400, 'crushed,</w>': 2401, 'crushed</w>': 2402, 'crushing</w>': 2403, 'crust</w>': 2404, 'cry,</w>': 2405, 'cry.</w>': 2406, 'cry</w>': 2407, 'crying,</w>': 2408, 'crying</w>': 2409, 'ct': 2410, 'ct,</w>': 2411, 'ct.</w>': 2412, 'ct</w>': 2413, 'cted,</w>': 2414, 'cted</w>': 2415, 'ctedly</w>': 2416, 'cti': 2417, 'cting</w>': 2418, 'ction,</w>': 2419, 'ction.</w>': 2420, 'ction</w>': 2421, 'ctions</w>': 2422, 'ctive</w>': 2423, 'ctly</w>': 2424, 'cu': 2425, 'cucum': 2426, 'cuffs,</w>': 2427, 'cul': 2428, 'culture</w>': 2429, 'cun': 2430, 'cunning,</w>': 2431, 'cunning</w>': 2432, 'cup': 2433, 'cup</w>': 2434, 'cupbo': 2435, 'cupboard</w>': 2436, 'cupola</w>': 2437, 'cur': 2438, 'curi': 2439, 'curios': 2440, 'curiosity.</w>': 2441, 'curious.”</w>': 2442, 'curious</w>': 2443, 'curiously</w>': 2444, 'curled</w>': 2445, 'curse</w>': 2446, 'cursed</w>': 2447, 'curses</w>': 2448, 'curt': 2449, 'curtain</w>': 2450, 'curts': 2451, 'curtsied</w>': 2452, 'curtsying</w>': 2453, 'custom': 2454, 'cut</w>': 2455, 'cy</w>': 2456, 'cynic': 2457, 'd': 2458, 'd!</w>': 2459, 'd!”</w>': 2460, 'd,</w>': 2461, 'd,”</w>': 2462, 'd....</w>': 2463, 'd...</w>': 2464, 'd.</w>': 2465, 'd.”</w>': 2466, 'd;</w>': 2467, 'd</w>': 2468, 'da': 2469, 'dain': 2470, 'dam': 2471, 'dames': 2472, 'damn': 2473, 'damn</w>': 2474, 'dance</w>': 2475, 'danced</w>': 2476, 'dand': 2477, 'dandy</w>': 2478, 'dang': 2479, 'dangerous</w>': 2480, 'dar': 2481, 'dare</w>': 2482, 'dared</w>': 2483, 'daresay</w>': 2484, 'dark': 2485, 'dark,</w>': 2486, 'dark;</w>': 2487, 'dark</w>': 2488, 'darkening</w>': 2489, 'darker</w>': 2490, 'darkness.</w>': 2491, 'darkness</w>': 2492, 'darling,</w>': 2493, 'darted</w>': 2494, 'dashed</w>': 2495, 'daughter': 2496, 'daughter,</w>': 2497, 'daughter.</w>': 2498, 'daughter</w>': 2499, 'daughters</w>': 2500, 'daughter’s</w>': 2501, 'day': 2502, 'day,</w>': 2503, 'day-': 2504, 'day-dream': 2505, 'day.</w>': 2506, 'day.”</w>': 2507, 'day</w>': 2508, 'days,</w>': 2509, 'days.</w>': 2510, 'days</w>': 2511, 'dd': 2512, 'dding</w>': 2513, 'de': 2514, 'de</w>': 2515, 'dead': 2516, 'dead,</w>': 2517, 'dead,”</w>': 2518, 'dead.</w>': 2519, 'dead</w>': 2520, 'deal': 2521, 'deal,</w>': 2522, 'deal.</w>': 2523, 'deal.’</w>': 2524, 'deal</w>': 2525, 'dealt</w>': 2526, 'dear': 2527, 'dear,</w>': 2528, 'dear</w>': 2529, 'dearest</w>': 2530, 'death': 2531, 'death,</w>': 2532, 'death.</w>': 2533, 'death</w>': 2534, 'deb': 2535, 'debt,</w>': 2536, 'debt</w>': 2537, 'debts,</w>': 2538, 'dec': 2539, 'decei': 2540, 'deceived,</w>': 2541, 'deceived</w>': 2542, 'deci': 2543, 'decid': 2544, 'decide</w>': 2545, 'decided.</w>': 2546, 'decided</w>': 2547, 'decision': 2548, 'decision</w>': 2549, 'decisive</w>': 2550, 'decked</w>': 2551, 'decl': 2552, 'declar': 2553, 'declaration</w>': 2554, 'declare</w>': 2555, 'declared</w>': 2556, 'decor': 2557, 'ded</w>': 2558, 'deed': 2559, 'deeds</w>': 2560, 'deep': 2561, 'deep,</w>': 2562, 'deep</w>': 2563, 'deeply</w>': 2564, 'def': 2565, 'defi': 2566, 'defiant</w>': 2567, 'definit': 2568, 'definite</w>': 2569, 'degrad': 2570, 'degrading</w>': 2571, 'degre': 2572, 'degrees</w>': 2573, 'deje': 2574, 'dela': 2575, 'delay,</w>': 2576, 'deli': 2577, 'deliber': 2578, 'deliberately,</w>': 2579, 'deliberately</w>': 2580, 'delicat': 2581, 'delicate</w>': 2582, 'delight': 2583, 'delighted.</w>': 2584, 'delighted</w>': 2585, 'delightful</w>': 2586, 'deliri': 2587, 'delirious': 2588, 'delirious,</w>': 2589, 'delirious?</w>': 2590, 'delirium': 2591, 'delirium,</w>': 2592, 'delirium,”</w>': 2593, 'delirium.</w>': 2594, 'delirium</w>': 2595, 'deliver': 2596, 'demand': 2597, 'demand</w>': 2598, 'den': 2599, 'den</w>': 2600, 'dens': 2601, 'dent</w>': 2602, 'deny</w>': 2603, 'dep': 2604, 'departure,</w>': 2605, 'depend</w>': 2606, 'depended</w>': 2607, 'dependent</w>': 2608, 'depends</w>': 2609, 'depres': 2610, 'der': 2611, 'der,</w>': 2612, 'der</w>': 2613, 'derang': 2614, 'deranged</w>': 2615, 'dered</w>': 2616, 'dering</w>': 2617, 'derly</w>': 2618, 'des': 2619, 'descending</w>': 2620, 'descri': 2621, 'described</w>': 2622, 'describing</w>': 2623, 'deser': 2624, 'deserted.</w>': 2625, 'deserted</w>': 2626, 'deserting</w>': 2627, 'deserve</w>': 2628, 'design,</w>': 2629, 'design</w>': 2630, 'desire</w>': 2631, 'despair': 2632, 'despair.</w>': 2633, 'despair:</w>': 2634, 'despair</w>': 2635, 'desper': 2636, 'desperate</w>': 2637, 'despic': 2638, 'despicable</w>': 2639, 'dest': 2640, 'destin': 2641, 'destined</w>': 2642, 'destitu': 2643, 'detail': 2644, 'detail</w>': 2645, 'details,</w>': 2646, 'details</w>': 2647, 'detained</w>': 2648, 'dete': 2649, 'determin': 2650, 'determination.</w>': 2651, 'determined</w>': 2652, 'dev': 2653, 'develop': 2654, 'developed</w>': 2655, 'development,</w>': 2656, 'devil': 2657, 'devil,</w>': 2658, 'devil</w>': 2659, 'devil?”</w>': 2660, 'devo': 2661, 'devote</w>': 2662, 'devoted</w>': 2663, 'di': 2664, 'dic': 2665, 'dict': 2666, 'did': 2667, 'did!</w>': 2668, 'did,</w>': 2669, 'did</w>': 2670, 'didn’t</w>': 2671, 'die</w>': 2672, 'died.</w>': 2673, 'died</w>': 2674, 'differ': 2675, 'difference</w>': 2676, 'different,</w>': 2677, 'different.</w>': 2678, 'different</w>': 2679, 'differently,</w>': 2680, 'difficult</w>': 2681, 'difficulties</w>': 2682, 'difficulty,</w>': 2683, 'difficulty</w>': 2684, 'dign': 2685, 'dignity,</w>': 2686, 'dignity.</w>': 2687, 'dim</w>': 2688, 'din': 2689, 'dine</w>': 2690, 'ding,</w>': 2691, 'ding.</w>': 2692, 'ding</w>': 2693, 'dinner': 2694, 'dinner,</w>': 2695, 'dinner.</w>': 2696, 'dinner</w>': 2697, 'dir': 2698, 'direc': 2699, 'direct': 2700, 'direct</w>': 2701, 'direction</w>': 2702, 'directions,</w>': 2703, 'directly': 2704, 'directly.</w>': 2705, 'directly</w>': 2706, 'dirt</w>': 2707, 'dirty,</w>': 2708, 'dirty</w>': 2709, 'dis': 2710, 'disa': 2711, 'disappe': 2712, 'disc': 2713, 'disconcerted.</w>': 2714, 'disconcerted</w>': 2715, 'discus': 2716, 'discuss</w>': 2717, 'discussion</w>': 2718, 'disea': 2719, 'disease,</w>': 2720, 'disease</w>': 2721, 'disgr': 2722, 'disgrace</w>': 2723, 'disgu': 2724, 'disguised</w>': 2725, 'disgust': 2726, 'disgust</w>': 2727, 'dish': 2728, 'dish</w>': 2729, 'dishe': 2730, 'dishon': 2731, 'dislike</w>': 2732, 'disma': 2733, 'dismay.</w>': 2734, 'dismay</w>': 2735, 'dismis': 2736, 'disor': 2737, 'disorder,</w>': 2738, 'disp': 2739, 'display</w>': 2740, 'displeasure.</w>': 2741, 'dispos': 2742, 'disposed</w>': 2743, 'disput': 2744, 'dispute</w>': 2745, 'dist': 2746, 'distance,</w>': 2747, 'distance.</w>': 2748, 'distance</w>': 2749, 'distant</w>': 2750, 'distin': 2751, 'distinct': 2752, 'distinctly': 2753, 'distinctly,</w>': 2754, 'distinctly</w>': 2755, 'distingu': 2756, 'distinguish</w>': 2757, 'distinguished</w>': 2758, 'distorted</w>': 2759, 'distr': 2760, 'distrac': 2761, 'distract</w>': 2762, 'distres': 2763, 'distressed</w>': 2764, 'distri': 2765, 'district.</w>': 2766, 'district</w>': 2767, 'distur': 2768, 'disturb</w>': 2769, 'diver': 2770, 'divided</w>': 2771, 'dizz': 2772, 'dly,</w>': 2773, 'dly.</w>': 2774, 'dly</w>': 2775, 'do': 2776, 'do!</w>': 2777, 'do,</w>': 2778, 'do.</w>': 2779, 'do</w>': 2780, 'do?</w>': 2781, 'do?”</w>': 2782, 'doctor': 2783, 'doctor,</w>': 2784, 'doctor,”</w>': 2785, 'doctor.</w>': 2786, 'doctor</w>': 2787, 'docum': 2788, 'does': 2789, 'does!</w>': 2790, 'does</w>': 2791, 'doesn’t</w>': 2792, 'dog': 2793, 'doing,</w>': 2794, 'doing</w>': 2795, 'doing?</w>': 2796, 'doing?”</w>': 2797, 'dom': 2798, 'dom</w>': 2799, 'done,</w>': 2800, 'done.</w>': 2801, 'done</w>': 2802, 'don’t</w>': 2803, 'door': 2804, 'door!</w>': 2805, 'door,</w>': 2806, 'door-': 2807, 'door.</w>': 2808, 'door;</w>': 2809, 'door</w>': 2810, 'door?</w>': 2811, 'door?”</w>': 2812, 'doors</w>': 2813, 'doorway,</w>': 2814, 'doorway.</w>': 2815, 'doorway</w>': 2816, 'doub': 2817, 'doubt': 2818, 'doubt,</w>': 2819, 'doubt</w>': 2820, 'doubtful</w>': 2821, 'doubts</w>': 2822, 'down': 2823, 'down,</w>': 2824, 'down,”</w>': 2825, 'down.</w>': 2826, 'down.”</w>': 2827, 'down;</w>': 2828, 'down</w>': 2829, 'downstair': 2830, 'downstairs!”</w>': 2831, 'downstairs.</w>': 2832, 'downstairs</w>': 2833, 'dozen': 2834, 'dozen</w>': 2835, 'dozens</w>': 2836, 'dr': 2837, 'dra': 2838, 'drag</w>': 2839, 'dragged</w>': 2840, 'dram': 2841, 'dram</w>': 2842, 'drank</w>': 2843, 'draw': 2844, 'draw</w>': 2845, 'drawers.</w>': 2846, 'drawers</w>': 2847, 'drawing</w>': 2848, 'drawn</w>': 2849, 'dre': 2850, 'dread': 2851, 'dread</w>': 2852, 'dreaded</w>': 2853, 'dream': 2854, 'dream,”</w>': 2855, 'dream</w>': 2856, 'dreamed</w>': 2857, 'dreamily.</w>': 2858, 'dreaming</w>': 2859, 'dreams</w>': 2860, 'dreamt</w>': 2861, 'dreamy</w>': 2862, 'dres': 2863, 'dress,</w>': 2864, 'dress</w>': 2865, 'dresse': 2866, 'dressed': 2867, 'dressed,</w>': 2868, 'dressed</w>': 2869, 'dressing-': 2870, 'dressing.</w>': 2871, 'drew</w>': 2872, 'dri': 2873, 'drin': 2874, 'drink': 2875, 'drink!</w>': 2876, 'drink,</w>': 2877, 'drink...</w>': 2878, 'drink</w>': 2879, 'drinking.</w>': 2880, 'drinking</w>': 2881, 'drive</w>': 2882, 'driven</w>': 2883, 'driving</w>': 2884, 'dro': 2885, 'drop.</w>': 2886, 'drop</w>': 2887, 'dropped</w>': 2888, 'dropping</w>': 2889, 'drops</w>': 2890, 'drove</w>': 2891, 'drown': 2892, 'drown</w>': 2893, 'drowning</w>': 2894, 'drowsiness</w>': 2895, 'drunk': 2896, 'drunk!</w>': 2897, 'drunk,</w>': 2898, 'drunk....</w>': 2899, 'drunk.</w>': 2900, 'drunk</w>': 2901, 'drunkar': 2902, 'drunkard,</w>': 2903, 'drunkard</w>': 2904, 'drunkards,</w>': 2905, 'drunken</w>': 2906, 'dry</w>': 2907, 'ds,</w>': 2908, 'ds.</w>': 2909, 'ds</w>': 2910, 'du': 2911, 'due</w>': 2912, 'dull': 2913, 'dull</w>': 2914, 'dum': 2915, 'during</w>': 2916, 'dusk</w>': 2917, 'dust</w>': 2918, 'dusty</w>': 2919, 'dut': 2920, 'duties</w>': 2921, 'duty,</w>': 2922, 'duty</w>': 2923, 'dy': 2924, 'dying.</w>': 2925, 'dying</w>': 2926, 'e': 2927, 'e!</w>': 2928, 'e!”</w>': 2929, 'e,</w>': 2930, 'e,”</w>': 2931, 'e-': 2932, 'e--': 2933, 'e--ha': 2934, 'e....</w>': 2935, 'e...</w>': 2936, 'e.</w>': 2937, 'e.”</w>': 2938, 'e;</w>': 2939, 'e</w>': 2940, 'e?</w>': 2941, 'e?”</w>': 2942, 'ea': 2943, 'each</w>': 2944, 'ead</w>': 2945, 'eager': 2946, 'eager</w>': 2947, 'eagerly</w>': 2948, 'ear': 2949, 'ear-r': 2950, 'ear-ring': 2951, 'ear-rings': 2952, 'ear-rings,</w>': 2953, 'ear-rings</w>': 2954, 'ear</w>': 2955, 'earli': 2956, 'earlier.</w>': 2957, 'early</w>': 2958, 'earn': 2959, 'earn</w>': 2960, 'earnest': 2961, 'earnest</w>': 2962, 'earnestly</w>': 2963, 'earning': 2964, 'earth,</w>': 2965, 'earth</w>': 2966, 'earthenware</w>': 2967, 'eas': 2968, 'easi': 2969, 'easier</w>': 2970, 'easily,</w>': 2971, 'easily.</w>': 2972, 'easily</w>': 2973, 'easy</w>': 2974, 'eat': 2975, 'eat,</w>': 2976, 'eat</w>': 2977, 'eaten</w>': 2978, 'eating-': 2979, 'eating-house</w>': 2980, 'eating</w>': 2981, 'ec': 2982, 'eccentric</w>': 2983, 'ech': 2984, 'echoed</w>': 2985, 'economic</w>': 2986, 'ecst': 2987, 'ecstas': 2988, 'ecstasy,</w>': 2989, 'ed': 2990, 'ed!</w>': 2991, 'ed!”</w>': 2992, 'ed,</w>': 2993, 'ed,”</w>': 2994, 'ed-': 2995, 'ed--': 2996, 'ed....</w>': 2997, 'ed...</w>': 2998, 'ed...”</w>': 2999, 'ed.</w>': 3000, 'ed.”</w>': 3001, 'ed:</w>': 3002, 'ed;</w>': 3003, 'ed</w>': 3004, 'ed?</w>': 3005, 'ed?”</w>': 3006, 'edge</w>': 3007, 'edges</w>': 3008, 'edly,</w>': 3009, 'edly.</w>': 3010, 'edly</w>': 3011, 'edr': 3012, 'educ': 3013, 'educated,</w>': 3014, 'educated</w>': 3015, 'education,</w>': 3016, 'education.</w>': 3017, 'education</w>': 3018, 'eem': 3019, 'eep</w>': 3020, 'ef': 3021, 'ef,</w>': 3022, 'ef</w>': 3023, 'effe': 3024, 'effect</w>': 3025, 'effort': 3026, 'effort,</w>': 3027, 'effort.</w>': 3028, 'effort</w>': 3029, 'efforts</w>': 3030, 'effusions</w>': 3031, 'efoo': 3032, 'egg': 3033, 'eh?</w>': 3034, 'eh?”</w>': 3035, 'ei': 3036, 'eigh': 3037, 'eight</w>': 3038, 'eighteen</w>': 3039, 'eighty</w>': 3040, 'either': 3041, 'either,</w>': 3042, 'either;</w>': 3043, 'either</w>': 3044, 'ek': 3045, 'el': 3046, 'el,</w>': 3047, 'el</w>': 3048, 'elb': 3049, 'elbow</w>': 3050, 'elbows</w>': 3051, 'elder</w>': 3052, 'eldest</w>': 3053, 'ele': 3054, 'element</w>': 3055, 'eleven</w>': 3056, 'eli': 3057, 'eling</w>': 3058, 'els.</w>': 3059, 'els</w>': 3060, 'else': 3061, 'else.</w>': 3062, 'else</w>': 3063, 'elt</w>': 3064, 'ely,</w>': 3065, 'ely.</w>': 3066, 'ely</w>': 3067, 'em': 3068, 'emb': 3069, 'embarrassed.</w>': 3070, 'embarrassed</w>': 3071, 'embarrassm': 3072, 'embarrassment</w>': 3073, 'embr': 3074, 'embrace</w>': 3075, 'embraced</w>': 3076, 'ement': 3077, 'ement,</w>': 3078, 'ement.</w>': 3079, 'ement</w>': 3080, 'ements</w>': 3081, 'emo': 3082, 'emon': 3083, 'emor': 3084, 'emotion</w>': 3085, 'emp': 3086, 'empha': 3087, 'emphasi': 3088, 'empl': 3089, 'emplo': 3090, 'employ': 3091, 'emptied</w>': 3092, 'empty.</w>': 3093, 'empty</w>': 3094, 'en': 3095, 'en!</w>': 3096, 'en!”</w>': 3097, 'en,</w>': 3098, 'en.</w>': 3099, 'en;</w>': 3100, 'en</w>': 3101, 'en?</w>': 3102, 'enc': 3103, 'ence': 3104, 'ence!</w>': 3105, 'ence,</w>': 3106, 'ence.</w>': 3107, 'ence.”</w>': 3108, 'ence;</w>': 3109, 'ence</w>': 3110, 'ence?</w>': 3111, 'enced</w>': 3112, 'ences.</w>': 3113, 'ences</w>': 3114, 'end': 3115, 'end!</w>': 3116, 'end,</w>': 3117, 'end.</w>': 3118, 'end</w>': 3119, 'end?</w>': 3120, 'ended</w>': 3121, 'ending</w>': 3122, 'endure</w>': 3123, 'ened</w>': 3124, 'energies</w>': 3125, 'energy</w>': 3126, 'eness,</w>': 3127, 'eness</w>': 3128, 'eng': 3129, 'engaged</w>': 3130, 'ening</w>': 3131, 'enjoy': 3132, 'enjoyment.</w>': 3133, 'enly</w>': 3134, 'enough': 3135, 'enough!”</w>': 3136, 'enough,</w>': 3137, 'enough,”</w>': 3138, 'enough.</w>': 3139, 'enough</w>': 3140, 'enrag': 3141, 'ens,</w>': 3142, 'ensor': 3143, 'ent': 3144, 'ent!</w>': 3145, 'ent,</w>': 3146, 'ent.</w>': 3147, 'ent</w>': 3148, 'ented</w>': 3149, 'enter</w>': 3150, 'entered</w>': 3151, 'enthusi': 3152, 'enthusiasm</w>': 3153, 'enti': 3154, 'entirely</w>': 3155, 'ently,</w>': 3156, 'ently.</w>': 3157, 'ently</w>': 3158, 'entr': 3159, 'entrance,</w>': 3160, 'entrance.</w>': 3161, 'entrance</w>': 3162, 'entre': 3163, 'entreati': 3164, 'entreating</w>': 3165, 'entry,</w>': 3166, 'entry.</w>': 3167, 'entry</w>': 3168, 'ents,</w>': 3169, 'ents.</w>': 3170, 'ents</w>': 3171, 'enty</w>': 3172, 'en’s</w>': 3173, 'en’t</w>': 3174, 'eople</w>': 3175, 'ep': 3176, 'ep</w>': 3177, 'eping</w>': 3178, 'ept</w>': 3179, 'equal</w>': 3180, 'er': 3181, 'er!</w>': 3182, 'er,</w>': 3183, 'er,”</w>': 3184, 'er....</w>': 3185, 'er...</w>': 3186, 'er.</w>': 3187, 'er:</w>': 3188, 'er;</w>': 3189, 'er</w>': 3190, 'er?</w>': 3191, 'ere</w>': 3192, 'ered.</w>': 3193, 'ered</w>': 3194, 'erha': 3195, 'eri': 3196, 'ering.</w>': 3197, 'ering</w>': 3198, 'erior</w>': 3199, 'err': 3200, 'error</w>': 3201, 'ers': 3202, 'ers,</w>': 3203, 'ers.</w>': 3204, 'ers</w>': 3205, 'ertain': 3206, 'ery</w>': 3207, 'er’s</w>': 3208, 'es': 3209, 'es!</w>': 3210, 'es)</w>': 3211, 'es,</w>': 3212, 'es,”</w>': 3213, 'es--': 3214, 'es....</w>': 3215, 'es...</w>': 3216, 'es.</w>': 3217, 'es.”</w>': 3218, 'es:</w>': 3219, 'es;</w>': 3220, 'es</w>': 3221, 'es?</w>': 3222, 'esca': 3223, 'escap': 3224, 'escape!</w>': 3225, 'escape.</w>': 3226, 'escape</w>': 3227, 'escor': 3228, 'especi': 3229, 'especially</w>': 3230, 'esqu': 3231, 'ess': 3232, 'ess!</w>': 3233, 'ess,</w>': 3234, 'ess.</w>': 3235, 'ess</w>': 3236, 'essen': 3237, 'essenti': 3238, 'essential</w>': 3239, 'est': 3240, 'est,</w>': 3241, 'est</w>': 3242, 'establish': 3243, 'establishments</w>': 3244, 'esteem': 3245, 'esteems</w>': 3246, 'estig': 3247, 'estimable</w>': 3248, 'esty</w>': 3249, 'es’</w>': 3250, 'et': 3251, 'et,</w>': 3252, 'et.</w>': 3253, 'et</w>': 3254, 'etc.</w>': 3255, 'eted</w>': 3256, 'eter': 3257, 'etern': 3258, 'ets,</w>': 3259, 'ets</w>': 3260, 'euten': 3261, 'ev': 3262, 'ev,</w>': 3263, 'ev</w>': 3264, 'eve</w>': 3265, 'even': 3266, 'even,</w>': 3267, 'even...</w>': 3268, 'even.</w>': 3269, 'even</w>': 3270, 'evening,</w>': 3271, 'evening.</w>': 3272, 'evening</w>': 3273, 'ever': 3274, 'ever,</w>': 3275, 'ever,”</w>': 3276, 'ever.</w>': 3277, 'ever;</w>': 3278, 'ever</w>': 3279, 'everlasting</w>': 3280, 'every': 3281, 'every</w>': 3282, 'everybody</w>': 3283, 'everyone,</w>': 3284, 'everyone</w>': 3285, 'everything': 3286, 'everything!</w>': 3287, 'everything!”</w>': 3288, 'everything,</w>': 3289, 'everything,”</w>': 3290, 'everything--': 3291, 'everything.</w>': 3292, 'everything;</w>': 3293, 'everything</w>': 3294, 'everywhere,</w>': 3295, 'evid': 3296, 'evidence,</w>': 3297, 'evidence</w>': 3298, 'evident': 3299, 'evident,</w>': 3300, 'evident.</w>': 3301, 'evident</w>': 3302, 'evidently</w>': 3303, 'evil': 3304, 'evsk': 3305, 'evsky</w>': 3306, 'ex': 3307, 'exac': 3308, 'exact': 3309, 'exactly</w>': 3310, 'exagger': 3311, 'exam': 3312, 'examination</w>': 3313, 'examine</w>': 3314, 'examined</w>': 3315, 'examining</w>': 3316, 'exc': 3317, 'exceedingly</w>': 3318, 'excell': 3319, 'excellenc': 3320, 'excellency</w>': 3321, 'excellent</w>': 3322, 'except</w>': 3323, 'exception': 3324, 'exceptional</w>': 3325, 'exceptionally</w>': 3326, 'excessive</w>': 3327, 'excessively</w>': 3328, 'exchang': 3329, 'exchange</w>': 3330, 'exchanged</w>': 3331, 'exchanging</w>': 3332, 'excit': 3333, 'excite</w>': 3334, 'excited': 3335, 'excited.</w>': 3336, 'excited</w>': 3337, 'excitement.</w>': 3338, 'excitement</w>': 3339, 'exclaim': 3340, 'exclaimed</w>': 3341, 'exclaiming,</w>': 3342, 'exclamations,</w>': 3343, 'exclamations</w>': 3344, 'exclusively</w>': 3345, 'excuse': 3346, 'excuse</w>': 3347, 'execu': 3348, 'exhau': 3349, 'exhausted,</w>': 3350, 'exhausted</w>': 3351, 'exhausti': 3352, 'exhi': 3353, 'exist': 3354, 'exp': 3355, 'expect': 3356, 'expect,</w>': 3357, 'expect</w>': 3358, 'expected,</w>': 3359, 'expected</w>': 3360, 'expecting</w>': 3361, 'expen': 3362, 'experi': 3363, 'experience,</w>': 3364, 'experience</w>': 3365, 'experienced</w>': 3366, 'experim': 3367, 'expl': 3368, 'explain': 3369, 'explain</w>': 3370, 'explained</w>': 3371, 'explan': 3372, 'explanation.</w>': 3373, 'explanation</w>': 3374, 'explo': 3375, 'explosi': 3376, 'explosive</w>': 3377, 'expres': 3378, 'express</w>': 3379, 'expressed</w>': 3380, 'expressing</w>': 3381, 'expression,</w>': 3382, 'expression.</w>': 3383, 'expression</w>': 3384, 'expressive</w>': 3385, 'expressly</w>': 3386, 'exter': 3387, 'extraordin': 3388, 'extraordinar': 3389, 'extraordinary</w>': 3390, 'extrem': 3391, 'extreme</w>': 3392, 'extremely</w>': 3393, 'ey': 3394, 'ey</w>': 3395, 'eye</w>': 3396, 'eyed</w>': 3397, 'eyes,</w>': 3398, 'eyes.</w>': 3399, 'eyes</w>': 3400, 'eys</w>': 3401, 'e’</w>': 3402, 'e’s</w>': 3403, 'f': 3404, 'f</w>': 3405, 'fa': 3406, 'fac': 3407, 'face,</w>': 3408, 'face.</w>': 3409, 'face;</w>': 3410, 'face</w>': 3411, 'faces,</w>': 3412, 'faces</w>': 3413, 'facing</w>': 3414, 'fact': 3415, 'fact,</w>': 3416, 'fact</w>': 3417, 'facts</w>': 3418, 'facul': 3419, 'faculties,</w>': 3420, 'fail': 3421, 'fail</w>': 3422, 'failed</w>': 3423, 'failing</w>': 3424, 'failure</w>': 3425, 'fain': 3426, 'faint': 3427, 'faint</w>': 3428, 'fainted</w>': 3429, 'fainting.</w>': 3430, 'fainting</w>': 3431, 'faintly,</w>': 3432, 'fair': 3433, 'fair</w>': 3434, 'fairly</w>': 3435, 'faith</w>': 3436, 'fal': 3437, 'fall': 3438, 'fall</w>': 3439, 'fallen</w>': 3440, 'falling.</w>': 3441, 'falling</w>': 3442, 'false</w>': 3443, 'falter': 3444, 'fam': 3445, 'fami': 3446, 'famil': 3447, 'famili': 3448, 'familiar': 3449, 'familiar</w>': 3450, 'family,</w>': 3451, 'family.</w>': 3452, 'family</w>': 3453, 'famous</w>': 3454, 'fan': 3455, 'fanc': 3456, 'fanci': 3457, 'fancied</w>': 3458, 'fancies,</w>': 3459, 'fancy!</w>': 3460, 'fancy,</w>': 3461, 'fancy</w>': 3462, 'fancy?”</w>': 3463, 'fantastic</w>': 3464, 'far': 3465, 'far</w>': 3466, 'fare</w>': 3467, 'farthing</w>': 3468, 'fascinated</w>': 3469, 'fashion': 3470, 'fashion.</w>': 3471, 'fashion</w>': 3472, 'fashionable</w>': 3473, 'fashionably</w>': 3474, 'fast': 3475, 'fast,</w>': 3476, 'fast</w>': 3477, 'fasten': 3478, 'fastened</w>': 3479, 'fastening,</w>': 3480, 'fastening</w>': 3481, 'fat': 3482, 'fat</w>': 3483, 'fate.</w>': 3484, 'fate</w>': 3485, 'father': 3486, 'father,</w>': 3487, 'father,”</w>': 3488, 'father.</w>': 3489, 'father</w>': 3490, 'father’s</w>': 3491, 'fatigu': 3492, 'faul': 3493, 'fault</w>': 3494, 'favour': 3495, 'favour</w>': 3496, 'favourable</w>': 3497, 'faw': 3498, 'fe': 3499, 'fear': 3500, 'fear,</w>': 3501, 'fear</w>': 3502, 'fearful</w>': 3503, 'fearfully</w>': 3504, 'feather': 3505, 'feather</w>': 3506, 'fee': 3507, 'feel': 3508, 'feel</w>': 3509, 'feeling,</w>': 3510, 'feeling.</w>': 3511, 'feeling</w>': 3512, 'feelings,</w>': 3513, 'feelings</w>': 3514, 'feels</w>': 3515, 'feet': 3516, 'feet,</w>': 3517, 'feet.</w>': 3518, 'feet</w>': 3519, 'fell</w>': 3520, 'fellow': 3521, 'fellow!</w>': 3522, 'fellow!”</w>': 3523, 'fellow,</w>': 3524, 'fellow</w>': 3525, 'fellows,</w>': 3526, 'fellows</w>': 3527, 'felt</w>': 3528, 'fem': 3529, 'fer': 3530, 'festi': 3531, 'festive</w>': 3532, 'fet': 3533, 'fetch</w>': 3534, 'fetched</w>': 3535, 'fetching</w>': 3536, 'fever': 3537, 'fever,</w>': 3538, 'fever.”</w>': 3539, 'fever</w>': 3540, 'feverish</w>': 3541, 'few</w>': 3542, 'ff': 3543, 'ff</w>': 3544, 'fi': 3545, 'fiancé': 3546, 'fic': 3547, 'fice</w>': 3548, 'fid': 3549, 'fied,</w>': 3550, 'fied</w>': 3551, 'fif': 3552, 'fifteen,</w>': 3553, 'fifteen</w>': 3554, 'fifth</w>': 3555, 'fifty,</w>': 3556, 'fifty-five</w>': 3557, 'fifty</w>': 3558, 'fig': 3559, 'figh': 3560, 'fighting,</w>': 3561, 'fighting</w>': 3562, 'figure</w>': 3563, 'figures</w>': 3564, 'fil': 3565, 'filled</w>': 3566, 'filling</w>': 3567, 'filth': 3568, 'filthy</w>': 3569, 'fin': 3570, 'final</w>': 3571, 'finally</w>': 3572, 'find</w>': 3573, 'finding</w>': 3574, 'finds</w>': 3575, 'fine</w>': 3576, 'fing': 3577, 'finger': 3578, 'finger</w>': 3579, 'fingers</w>': 3580, 'finished,</w>': 3581, 'finished</w>': 3582, 'finishing</w>': 3583, 'fir': 3584, 'fire</w>': 3585, 'fires': 3586, 'fires.”</w>': 3587, 'firm': 3588, 'firmly,</w>': 3589, 'firmly</w>': 3590, 'first': 3591, 'first,</w>': 3592, 'first-r': 3593, 'first-rat': 3594, 'first-rate</w>': 3595, 'first...</w>': 3596, 'first.</w>': 3597, 'first</w>': 3598, 'fish': 3599, 'fish,</w>': 3600, 'fist</w>': 3601, 'fists</w>': 3602, 'fit,</w>': 3603, 'fit.</w>': 3604, 'fit</w>': 3605, 'fits</w>': 3606, 'fitted</w>': 3607, 'five,</w>': 3608, 'five</w>': 3609, 'fix': 3610, 'fix</w>': 3611, 'fixed</w>': 3612, 'fixedly</w>': 3613, 'fl': 3614, 'fla': 3615, 'flam': 3616, 'flame-coloured</w>': 3617, 'flas': 3618, 'flash': 3619, 'flash,</w>': 3620, 'flash</w>': 3621, 'flashed</w>': 3622, 'flashing</w>': 3623, 'flat': 3624, 'flat,</w>': 3625, 'flat,”</w>': 3626, 'flat.</w>': 3627, 'flat</w>': 3628, 'flat?”</w>': 3629, 'flats</w>': 3630, 'flatter': 3631, 'flattering</w>': 3632, 'flaxen</w>': 3633, 'fle': 3634, 'fled</w>': 3635, 'fleet': 3636, 'flew</w>': 3637, 'fligh': 3638, 'flight</w>': 3639, 'fling</w>': 3640, 'flinging</w>': 3641, 'flo': 3642, 'floated</w>': 3643, 'floor,</w>': 3644, 'floor.</w>': 3645, 'floor</w>': 3646, 'floors</w>': 3647, 'flow': 3648, 'flow</w>': 3649, 'flowed</w>': 3650, 'flower</w>': 3651, 'flu': 3652, 'flung</w>': 3653, 'flush</w>': 3654, 'flushed,</w>': 3655, 'flushed</w>': 3656, 'fly.</w>': 3657, 'fly</w>': 3658, 'flying</w>': 3659, 'fo': 3660, 'fol': 3661, 'folded,</w>': 3662, 'folded</w>': 3663, 'folding</w>': 3664, 'folks</w>': 3665, 'foll': 3666, 'follow': 3667, 'followed.</w>': 3668, 'followed</w>': 3669, 'following</w>': 3670, 'follows</w>': 3671, 'fond</w>': 3672, 'fondly</w>': 3673, 'foo': 3674, 'food.</w>': 3675, 'food</w>': 3676, 'fool': 3677, 'fool!</w>': 3678, 'fool,</w>': 3679, 'fool</w>': 3680, 'foolish': 3681, 'foolish</w>': 3682, 'foolishness,</w>': 3683, 'foot': 3684, 'foot,</w>': 3685, 'foot</w>': 3686, 'footsteps</w>': 3687, 'for': 3688, 'for,</w>': 3689, 'for</w>': 3690, 'for?</w>': 3691, 'for?”</w>': 3692, 'forbi': 3693, 'forbidden</w>': 3694, 'force,</w>': 3695, 'forced</w>': 3696, 'forcing</w>': 3697, 'fore': 3698, 'forehead,</w>': 3699, 'forehead.</w>': 3700, 'forehead</w>': 3701, 'forei': 3702, 'foreign</w>': 3703, 'forge</w>': 3704, 'forget': 3705, 'forget</w>': 3706, 'forgetful': 3707, 'forgetfulness.</w>': 3708, 'forgetting</w>': 3709, 'forgi': 3710, 'forgive</w>': 3711, 'forgiven': 3712, 'forgiven</w>': 3713, 'forgiveness,</w>': 3714, 'forgot': 3715, 'forgot</w>': 3716, 'forgotten': 3717, 'forgotten,</w>': 3718, 'forgotten</w>': 3719, 'forgotten?”</w>': 3720, 'form': 3721, 'form,</w>': 3722, 'form</w>': 3723, 'former</w>': 3724, 'formerly</w>': 3725, 'forming</w>': 3726, 'fort': 3727, 'forth,</w>': 3728, 'fortnight</w>': 3729, 'fortun': 3730, 'fortune.</w>': 3731, 'fortune</w>': 3732, 'forty,</w>': 3733, 'forty-': 3734, 'forty-five</w>': 3735, 'forty</w>': 3736, 'forwar': 3737, 'forward,</w>': 3738, 'forward</w>': 3739, 'foun': 3740, 'found': 3741, 'found,</w>': 3742, 'found</w>': 3743, 'foundation</w>': 3744, 'fountain': 3745, 'four': 3746, 'four</w>': 3747, 'fourteen</w>': 3748, 'fourth</w>': 3749, 'fr': 3750, 'fram': 3751, 'frame</w>': 3752, 'fran': 3753, 'frantic': 3754, 'frayed</w>': 3755, 'fre': 3756, 'free</w>': 3757, 'freed': 3758, 'freedom</w>': 3759, 'freely.</w>': 3760, 'freely</w>': 3761, 'frenz': 3762, 'frenzied</w>': 3763, 'frenzy,</w>': 3764, 'frenzy.</w>': 3765, 'frenzy</w>': 3766, 'frequ': 3767, 'frequently</w>': 3768, 'fresh': 3769, 'fresh</w>': 3770, 'freshness</w>': 3771, 'fretting</w>': 3772, 'fri': 3773, 'friend': 3774, 'friend,</w>': 3775, 'friend.</w>': 3776, 'friend</w>': 3777, 'friendly</w>': 3778, 'friends,</w>': 3779, 'friends</w>': 3780, 'fright': 3781, 'frighten': 3782, 'frighten</w>': 3783, 'frightened': 3784, 'frightened,</w>': 3785, 'frightened.</w>': 3786, 'frightened.’</w>': 3787, 'frightened</w>': 3788, 'frightens</w>': 3789, 'fring': 3790, 'fro</w>': 3791, 'from</w>': 3792, 'from?</w>': 3793, 'fron': 3794, 'front': 3795, 'front.</w>': 3796, 'front</w>': 3797, 'frown': 3798, 'frowned.</w>': 3799, 'frowning.</w>': 3800, 'frowning</w>': 3801, 'ft</w>': 3802, 'fts</w>': 3803, 'fuel</w>': 3804, 'ful': 3805, 'ful,</w>': 3806, 'ful.</w>': 3807, 'ful;</w>': 3808, 'ful</w>': 3809, 'full': 3810, 'full,</w>': 3811, 'full</w>': 3812, 'fully,</w>': 3813, 'fully.</w>': 3814, 'fully</w>': 3815, 'fum': 3816, 'fumbled</w>': 3817, 'fumbling</w>': 3818, 'fuming</w>': 3819, 'fun': 3820, 'fundamental</w>': 3821, 'funer': 3822, 'funeral,</w>': 3823, 'funeral</w>': 3824, 'funk</w>': 3825, 'fur': 3826, 'fur</w>': 3827, 'furi': 3828, 'furious</w>': 3829, 'furiously</w>': 3830, 'furnit': 3831, 'furniture</w>': 3832, 'further</w>': 3833, 'furthest</w>': 3834, 'fury.</w>': 3835, 'fury</w>': 3836, 'fut': 3837, 'future,</w>': 3838, 'future</w>': 3839, 'fy</w>': 3840, 'fying</w>': 3841, 'g': 3842, 'g,</w>': 3843, 'g</w>': 3844, 'ga': 3845, 'gaily</w>': 3846, 'gain': 3847, 'gain</w>': 3848, 'gallop': 3849, 'gallop!</w>': 3850, 'gallop!”</w>': 3851, 'gallop</w>': 3852, 'gam': 3853, 'gan': 3854, 'gang</w>': 3855, 'gap': 3856, 'gar': 3857, 'gar</w>': 3858, 'gard': 3859, 'garden': 3860, 'garden,</w>': 3861, 'garden</w>': 3862, 'garm': 3863, 'garret,</w>': 3864, 'garret.</w>': 3865, 'garret</w>': 3866, 'gas': 3867, 'gasp': 3868, 'gasping</w>': 3869, 'gat': 3870, 'gate,</w>': 3871, 'gate</w>': 3872, 'gates</w>': 3873, 'gateway,</w>': 3874, 'gateway.</w>': 3875, 'gateway</w>': 3876, 'gather': 3877, 'gathered</w>': 3878, 'gathering</w>': 3879, 'gaudy</w>': 3880, 'gave</w>': 3881, 'gaz': 3882, 'gazed</w>': 3883, 'gazing</w>': 3884, 'ge': 3885, 'ge,</w>': 3886, 'ge.</w>': 3887, 'ge</w>': 3888, 'ged</w>': 3889, 'gen': 3890, 'gener': 3891, 'general</w>': 3892, 'generally</w>': 3893, 'generation': 3894, 'generous</w>': 3895, 'gent': 3896, 'gentle': 3897, 'gentle</w>': 3898, 'gentleman': 3899, 'gentleman,</w>': 3900, 'gentleman.</w>': 3901, 'gentleman</w>': 3902, 'gentlemanly</w>': 3903, 'gentlemen</w>': 3904, 'genuine</w>': 3905, 'ger</w>': 3906, 'gest': 3907, 'gesture</w>': 3908, 'get</w>': 3909, 'gets</w>': 3910, 'getting</w>': 3911, 'gg': 3912, 'gged</w>': 3913, 'gging</w>': 3914, 'gh': 3915, 'ght</w>': 3916, 'gi': 3917, 'gidd': 3918, 'giddiness</w>': 3919, 'gigg': 3920, 'giggle.</w>': 3921, 'ging</w>': 3922, 'girl': 3923, 'girl,</w>': 3924, 'girl,”</w>': 3925, 'girl--': 3926, 'girl.</w>': 3927, 'girl</w>': 3928, 'girls</w>': 3929, 'girl’s</w>': 3930, 'give</w>': 3931, 'given</w>': 3932, 'gives</w>': 3933, 'giving</w>': 3934, 'gl': 3935, 'glad': 3936, 'glad</w>': 3937, 'glance.</w>': 3938, 'glance</w>': 3939, 'glanced</w>': 3940, 'glances</w>': 3941, 'glancing</w>': 3942, 'glas': 3943, 'glass': 3944, 'glass,</w>': 3945, 'glass</w>': 3946, 'glassful.</w>': 3947, 'gle': 3948, 'gleam</w>': 3949, 'gleamed</w>': 3950, 'glit': 3951, 'glittered</w>': 3952, 'glittering</w>': 3953, 'glo': 3954, 'gloom': 3955, 'gloomy</w>': 3956, 'gloves,</w>': 3957, 'gloves</w>': 3958, 'glowing</w>': 3959, 'gn': 3960, 'gni': 3961, 'go': 3962, 'go!</w>': 3963, 'go!”</w>': 3964, 'go,</w>': 3965, 'go,”</w>': 3966, 'go...</w>': 3967, 'go.</w>': 3968, 'go.”</w>': 3969, 'go;</w>': 3970, 'go</w>': 3971, 'go?</w>': 3972, 'goatskin</w>': 3973, 'goes</w>': 3974, 'going,</w>': 3975, 'going</w>': 3976, 'gol': 3977, 'gold': 3978, 'gold</w>': 3979, 'gone,</w>': 3980, 'gone</w>': 3981, 'goo': 3982, 'good': 3983, 'good-': 3984, 'good-by': 3985, 'good-bye</w>': 3986, 'good-hum': 3987, 'good-looking</w>': 3988, 'good-nat': 3989, 'good-natured</w>': 3990, 'good</w>': 3991, 'goodness,</w>': 3992, 'goodness</w>': 3993, 'goodness’</w>': 3994, 'gor': 3995, 'gorgeous</w>': 3996, 'gossi': 3997, 'gossip,</w>': 3998, 'got,</w>': 3999, 'got</w>': 4000, 'govern': 4001, 'governess</w>': 4002, 'government</w>': 4003, 'gr': 4004, 'gra': 4005, 'gradually</w>': 4006, 'gran': 4007, 'grand': 4008, 'grant</w>': 4009, 'granted</w>': 4010, 'grat': 4011, 'gratitude,</w>': 4012, 'grav': 4013, 'grave</w>': 4014, 'gravely</w>': 4015, 'gravey': 4016, 'graveyard</w>': 4017, 'gre': 4018, 'greasy</w>': 4019, 'great': 4020, 'great</w>': 4021, 'greater</w>': 4022, 'greatest</w>': 4023, 'greatly</w>': 4024, 'greed': 4025, 'green': 4026, 'green</w>': 4027, 'grew</w>': 4028, 'grey,</w>': 4029, 'grey</w>': 4030, 'gri': 4031, 'grief,</w>': 4032, 'grin': 4033, 'grin.</w>': 4034, 'grinding</w>': 4035, 'gripped</w>': 4036, 'grizz': 4037, 'groan': 4038, 'grotesqu': 4039, 'grou': 4040, 'groun': 4041, 'ground,</w>': 4042, 'ground</w>': 4043, 'group</w>': 4044, 'growing</w>': 4045, 'grown-up</w>': 4046, 'grown</w>': 4047, 'gu': 4048, 'guar': 4049, 'guard</w>': 4050, 'gues': 4051, 'guess</w>': 4052, 'guessed</w>': 4053, 'guessing</w>': 4054, 'guffaw': 4055, 'guffaw.</w>': 4056, 'guil': 4057, 'guitar</w>': 4058, 'gutter</w>': 4059, 'gy': 4060, 'h': 4061, 'h!</w>': 4062, 'h,</w>': 4063, 'h</w>': 4064, 'ha': 4065, 'ha-': 4066, 'habit': 4067, 'habit</w>': 4068, 'had,</w>': 4069, 'had</w>': 4070, 'hadn’t</w>': 4071, 'hail': 4072, 'hair': 4073, 'hair,</w>': 4074, 'hair.</w>': 4075, 'hair</w>': 4076, 'haired</w>': 4077, 'hal': 4078, 'half': 4079, 'half-': 4080, 'half-hour,</w>': 4081, 'half-past</w>': 4082, 'half.</w>': 4083, 'half</w>': 4084, 'hand': 4085, 'hand,</w>': 4086, 'hand...</w>': 4087, 'hand.</w>': 4088, 'hand;</w>': 4089, 'hand</w>': 4090, 'handed</w>': 4091, 'handing</w>': 4092, 'handkerchief</w>': 4093, 'handle</w>': 4094, 'hands!</w>': 4095, 'hands,</w>': 4096, 'hands.</w>': 4097, 'hands</w>': 4098, 'handsome</w>': 4099, 'handwrit': 4100, 'hang</w>': 4101, 'hanging</w>': 4102, 'hapless</w>': 4103, 'happ': 4104, 'happen': 4105, 'happen</w>': 4106, 'happen?</w>': 4107, 'happen?”</w>': 4108, 'happened!</w>': 4109, 'happened.</w>': 4110, 'happened</w>': 4111, 'happening</w>': 4112, 'happier</w>': 4113, 'happiness</w>': 4114, 'happy,</w>': 4115, 'happy.</w>': 4116, 'happy</w>': 4117, 'har': 4118, 'hard': 4119, 'hard</w>': 4120, 'hardly</w>': 4121, 'harsh': 4122, 'has,</w>': 4123, 'has.</w>': 4124, 'has</w>': 4125, 'hast': 4126, 'haste,</w>': 4127, 'haste.</w>': 4128, 'haste</w>': 4129, 'hasten</w>': 4130, 'hastened</w>': 4131, 'hastening</w>': 4132, 'hastily.</w>': 4133, 'hasty</w>': 4134, 'hat': 4135, 'hat,</w>': 4136, 'hat.</w>': 4137, 'hat</w>': 4138, 'hate': 4139, 'hatre': 4140, 'hats</w>': 4141, 'haugh': 4142, 'haughty</w>': 4143, 'haun': 4144, 'haunted</w>': 4145, 'hav': 4146, 'have,</w>': 4147, 'have</w>': 4148, 'haven': 4149, 'haven’t</w>': 4150, 'having</w>': 4151, 'hay</w>': 4152, 'he': 4153, 'he,</w>': 4154, 'he...</w>': 4155, 'he.</w>': 4156, 'he</w>': 4157, 'head': 4158, 'head,</w>': 4159, 'head.</w>': 4160, 'head</w>': 4161, 'headed</w>': 4162, 'heads</w>': 4163, 'health': 4164, 'heap</w>': 4165, 'hear': 4166, 'hear,</w>': 4167, 'hear</w>': 4168, 'hear?</w>': 4169, 'hear?”</w>': 4170, 'heard,</w>': 4171, 'heard.</w>': 4172, 'heard</w>': 4173, 'hearing</w>': 4174, 'heart': 4175, 'heart,</w>': 4176, 'heart.</w>': 4177, 'heart</w>': 4178, 'hearted</w>': 4179, 'heat,</w>': 4180, 'heat</w>': 4181, 'heav': 4182, 'heaven': 4183, 'heaven.</w>': 4184, 'heavens!</w>': 4185, 'heavens,</w>': 4186, 'heavily</w>': 4187, 'heavy,</w>': 4188, 'heavy</w>': 4189, 'hectic</w>': 4190, 'hed,</w>': 4191, 'heed': 4192, 'heels</w>': 4193, 'height,</w>': 4194, 'hel': 4195, 'held</w>': 4196, 'hell': 4197, 'help': 4198, 'help...</w>': 4199, 'help</w>': 4200, 'help?</w>': 4201, 'helped</w>': 4202, 'helping</w>': 4203, 'helples': 4204, 'her': 4205, 'her!</w>': 4206, 'her!”</w>': 4207, 'her,</w>': 4208, 'her,”</w>': 4209, 'her--and</w>': 4210, 'her...</w>': 4211, 'her.</w>': 4212, 'her.”</w>': 4213, 'her:</w>': 4214, 'her;</w>': 4215, 'her</w>': 4216, 'her?</w>': 4217, 'her?”</w>': 4218, 'here': 4219, 'here!”</w>': 4220, 'here,</w>': 4221, 'here,”</w>': 4222, 'here--': 4223, 'here...</w>': 4224, 'here.</w>': 4225, 'here</w>': 4226, 'here?</w>': 4227, 'here?”</w>': 4228, 'here’s</w>': 4229, 'herself': 4230, 'herself!</w>': 4231, 'herself,</w>': 4232, 'herself.</w>': 4233, 'herself;</w>': 4234, 'herself</w>': 4235, 'hesit': 4236, 'hesitat': 4237, 'hesitating</w>': 4238, 'hesitation,</w>': 4239, 'hesitation</w>': 4240, 'hey,</w>': 4241, 'he’d</w>': 4242, 'he’ll</w>': 4243, 'he’s</w>': 4244, 'hi': 4245, 'hid': 4246, 'hid</w>': 4247, 'hidden</w>': 4248, 'hide': 4249, 'hide.</w>': 4250, 'hide</w>': 4251, 'hideous': 4252, 'hideous</w>': 4253, 'hiding</w>': 4254, 'high': 4255, 'high-': 4256, 'high-flown</w>': 4257, 'high</w>': 4258, 'higher</w>': 4259, 'highest</w>': 4260, 'highly</w>': 4261, 'him': 4262, 'him!</w>': 4263, 'him!”</w>': 4264, 'him,</w>': 4265, 'him,”</w>': 4266, 'him--': 4267, 'him--and</w>': 4268, 'him....</w>': 4269, 'him...</w>': 4270, 'him.</w>': 4271, 'him.”</w>': 4272, 'him:</w>': 4273, 'him;</w>': 4274, 'him</w>': 4275, 'him?</w>': 4276, 'him?”</w>': 4277, 'himself': 4278, 'himself,</w>': 4279, 'himself,”</w>': 4280, 'himself....</w>': 4281, 'himself.</w>': 4282, 'himself</w>': 4283, 'hin': 4284, 'hind</w>': 4285, 'hirty</w>': 4286, 'his,</w>': 4287, 'his</w>': 4288, 'history,</w>': 4289, 'hit</w>': 4290, 'hither': 4291, 'hm!</w>': 4292, 'hm,</w>': 4293, 'hm...</w>': 4294, 'ho': 4295, 'hoar': 4296, 'hoarding</w>': 4297, 'hol': 4298, 'hold</w>': 4299, 'holding</w>': 4300, 'hole': 4301, 'hole,</w>': 4302, 'hole</w>': 4303, 'holes,</w>': 4304, 'hollow</w>': 4305, 'holy</w>': 4306, 'hom': 4307, 'homage</w>': 4308, 'home,</w>': 4309, 'home,”</w>': 4310, 'home--': 4311, 'home...</w>': 4312, 'home.</w>': 4313, 'home.”</w>': 4314, 'home</w>': 4315, 'homewards,</w>': 4316, 'honest': 4317, 'honest</w>': 4318, 'honour': 4319, 'honour</w>': 4320, 'honourable</w>': 4321, 'honoured</w>': 4322, 'hoo': 4323, 'hoof': 4324, 'hook</w>': 4325, 'hop': 4326, 'hope': 4327, 'hope,</w>': 4328, 'hope</w>': 4329, 'hopeless': 4330, 'hopelessly</w>': 4331, 'hopes,</w>': 4332, 'hopes</w>': 4333, 'hoping</w>': 4334, 'hor': 4335, 'horiz': 4336, 'horr': 4337, 'horri': 4338, 'horrible</w>': 4339, 'horribly</w>': 4340, 'horror,</w>': 4341, 'horror.</w>': 4342, 'horror</w>': 4343, 'horse': 4344, 'horse!”</w>': 4345, 'horse,</w>': 4346, 'horses</w>': 4347, 'hospit': 4348, 'hospital': 4349, 'hospital,</w>': 4350, 'hospital</w>': 4351, 'hot': 4352, 'hot</w>': 4353, 'hotly,</w>': 4354, 'hotly.</w>': 4355, 'hou': 4356, 'hould</w>': 4357, 'hour': 4358, 'hour,</w>': 4359, 'hour</w>': 4360, 'hours.</w>': 4361, 'hours.”</w>': 4362, 'hours</w>': 4363, 'house': 4364, 'house,</w>': 4365, 'house-': 4366, 'house-warming</w>': 4367, 'house....</w>': 4368, 'house...</w>': 4369, 'house.</w>': 4370, 'house</w>': 4371, 'houses</w>': 4372, 'how': 4373, 'how</w>': 4374, 'however,</w>': 4375, 'however.</w>': 4376, 'howling,</w>': 4377, 'hu': 4378, 'huck': 4379, 'huckster</w>': 4380, 'huge</w>': 4381, 'hum': 4382, 'human': 4383, 'human</w>': 4384, 'humi': 4385, 'humili': 4386, 'humiliated</w>': 4387, 'humiliating</w>': 4388, 'hun': 4389, 'hundred': 4390, 'hundred</w>': 4391, 'hundreds</w>': 4392, 'hung': 4393, 'hung</w>': 4394, 'hungr': 4395, 'hungry....</w>': 4396, 'hurri': 4397, 'hurried,</w>': 4398, 'hurried</w>': 4399, 'hurriedly,</w>': 4400, 'hurriedly</w>': 4401, 'hurry': 4402, 'hurry,</w>': 4403, 'hurry.</w>': 4404, 'hurry</w>': 4405, 'hurrying</w>': 4406, 'hurt</w>': 4407, 'hurts</w>': 4408, 'hus': 4409, 'husband': 4410, 'husband,</w>': 4411, 'husband;</w>': 4412, 'husband</w>': 4413, 'husband’s</w>': 4414, 'hy': 4415, 'hypochondri': 4416, 'hysic': 4417, 'hyster': 4418, 'hysterical</w>': 4419, 'i': 4420, 'ial</w>': 4421, 'iat': 4422, 'ic': 4423, 'ic</w>': 4424, 'ice</w>': 4425, 'ick</w>': 4426, 'id': 4427, 'id,</w>': 4428, 'id.</w>': 4429, 'id</w>': 4430, 'ide': 4431, 'idea!</w>': 4432, 'idea,</w>': 4433, 'idea</w>': 4434, 'ideal': 4435, 'ideas': 4436, 'ideas,</w>': 4437, 'ideas</w>': 4438, 'ided</w>': 4439, 'idi': 4440, 'iding</w>': 4441, 'idio': 4442, 'idiotic': 4443, 'idly</w>': 4444, 'ier</w>': 4445, 'ies,</w>': 4446, 'ies</w>': 4447, 'if': 4448, 'if</w>': 4449, 'ig': 4450, 'igh': 4451, 'ight</w>': 4452, 'ign': 4453, 'ign</w>': 4454, 'igned</w>': 4455, 'ik': 4456, 'ikons</w>': 4457, 'il': 4458, 'il</w>': 4459, 'iling,</w>': 4460, 'iling</w>': 4461, 'ilit': 4462, 'ility.</w>': 4463, 'ility</w>': 4464, 'ill': 4465, 'ill,</w>': 4466, 'ill,”</w>': 4467, 'ill-': 4468, 'ill.</w>': 4469, 'ill</w>': 4470, 'ill?”</w>': 4471, 'illnes': 4472, 'illness,</w>': 4473, 'illness.</w>': 4474, 'illness</w>': 4475, 'ily,</w>': 4476, 'ily.</w>': 4477, 'ily</w>': 4478, 'im': 4479, 'imag': 4480, 'image</w>': 4481, 'imagin': 4482, 'imagine,</w>': 4483, 'imagine</w>': 4484, 'imagined</w>': 4485, 'immediat': 4486, 'immediatel': 4487, 'immediately</w>': 4488, 'immense</w>': 4489, 'immov': 4490, 'immovable</w>': 4491, 'imp': 4492, 'impati': 4493, 'impatience</w>': 4494, 'impatiently</w>': 4495, 'import': 4496, 'importance,</w>': 4497, 'important</w>': 4498, 'impossi': 4499, 'impossibility</w>': 4500, 'impossible,</w>': 4501, 'impossible</w>': 4502, 'impotence</w>': 4503, 'impres': 4504, 'impressi': 4505, 'impression': 4506, 'impression</w>': 4507, 'improv': 4508, 'impud': 4509, 'impudent</w>': 4510, 'impul': 4511, 'impulse</w>': 4512, 'in': 4513, 'in!</w>': 4514, 'in!”</w>': 4515, 'in,</w>': 4516, 'in,”</w>': 4517, 'in-law,</w>': 4518, 'in...</w>': 4519, 'in.</w>': 4520, 'in.”</w>': 4521, 'in;</w>': 4522, 'in</w>': 4523, 'in?”</w>': 4524, 'inated</w>': 4525, 'inc': 4526, 'incapable</w>': 4527, 'ince</w>': 4528, 'incess': 4529, 'inches</w>': 4530, 'inci': 4531, 'inclin': 4532, 'including</w>': 4533, 'incoher': 4534, 'incoherent</w>': 4535, 'increas': 4536, 'increased</w>': 4537, 'ind': 4538, 'inde': 4539, 'indeed': 4540, 'indeed!</w>': 4541, 'indeed!”</w>': 4542, 'indeed,</w>': 4543, 'indeed...”</w>': 4544, 'indeed.</w>': 4545, 'indeed</w>': 4546, 'indepen': 4547, 'indescribable</w>': 4548, 'indic': 4549, 'indign': 4550, 'indignation</w>': 4551, 'indistinctly,</w>': 4552, 'individu': 4553, 'individual</w>': 4554, 'indoor</w>': 4555, 'indu': 4556, 'induce</w>': 4557, 'ine,</w>': 4558, 'ine.</w>': 4559, 'ine</w>': 4560, 'ines': 4561, 'iness,</w>': 4562, 'iness.</w>': 4563, 'iness</w>': 4564, 'inet': 4565, 'inevit': 4566, 'inevitable</w>': 4567, 'inf': 4568, 'influ': 4569, 'influence</w>': 4570, 'influences</w>': 4571, 'inform': 4572, 'inform</w>': 4573, 'informed</w>': 4574, 'ing': 4575, 'ing!</w>': 4576, 'ing,</w>': 4577, 'ing,”</w>': 4578, 'ing-': 4579, 'ing--': 4580, 'ing-point</w>': 4581, 'ing....</w>': 4582, 'ing...</w>': 4583, 'ing...”</w>': 4584, 'ing.</w>': 4585, 'ing.”</w>': 4586, 'ing;</w>': 4587, 'ing</w>': 4588, 'ing?</w>': 4589, 'ing?’</w>': 4590, 'ing?”</w>': 4591, 'ingdom</w>': 4592, 'ingly.</w>': 4593, 'ingly</w>': 4594, 'ings,</w>': 4595, 'ings.</w>': 4596, 'ings;</w>': 4597, 'ings</w>': 4598, 'ining</w>': 4599, 'inj': 4600, 'injured,</w>': 4601, 'injured</w>': 4602, 'ink': 4603, 'inkling</w>': 4604, 'inn': 4605, 'inner</w>': 4606, 'innkeeper</w>': 4607, 'innoc': 4608, 'innocent</w>': 4609, 'innumerable</w>': 4610, 'inqui': 4611, 'inquir': 4612, 'inquiries</w>': 4613, 'inquiring</w>': 4614, 'inquiringly</w>': 4615, 'inquisiti': 4616, 'inquisitive</w>': 4617, 'inquisitively</w>': 4618, 'ins</w>': 4619, 'insan': 4620, 'inside.</w>': 4621, 'inside</w>': 4622, 'insist': 4623, 'insist</w>': 4624, 'insisted</w>': 4625, 'insistently,</w>': 4626, 'insky</w>': 4627, 'insol': 4628, 'inspired</w>': 4629, 'inst': 4630, 'instance,</w>': 4631, 'instant': 4632, 'instant,</w>': 4633, 'instant.</w>': 4634, 'instant</w>': 4635, 'instantly</w>': 4636, 'inste': 4637, 'instead': 4638, 'instead</w>': 4639, 'instru': 4640, 'instructions</w>': 4641, 'insuffer': 4642, 'insufferable</w>': 4643, 'insul': 4644, 'insult</w>': 4645, 'insulted</w>': 4646, 'insulting</w>': 4647, 'int': 4648, 'intellect': 4649, 'intelli': 4650, 'intellig': 4651, 'intelligence,</w>': 4652, 'intelligent</w>': 4653, 'intelligible</w>': 4654, 'inten': 4655, 'intense,</w>': 4656, 'intense</w>': 4657, 'intensity</w>': 4658, 'intentionally</w>': 4659, 'intently,</w>': 4660, 'intently.</w>': 4661, 'intently</w>': 4662, 'inter': 4663, 'interest': 4664, 'interest,</w>': 4665, 'interest.</w>': 4666, 'interest</w>': 4667, 'interested</w>': 4668, 'interesting</w>': 4669, 'interests</w>': 4670, 'interfered</w>': 4671, 'interposed</w>': 4672, 'interpret': 4673, 'interpret</w>': 4674, 'interrup': 4675, 'interrupted</w>': 4676, 'interview': 4677, 'intimate</w>': 4678, 'into</w>': 4679, 'intol': 4680, 'intolerable</w>': 4681, 'introdu': 4682, 'introducing</w>': 4683, 'inv': 4684, 'inval': 4685, 'invalid</w>': 4686, 'invit': 4687, 'invited</w>': 4688, 'involuntarily</w>': 4689, 'inward</w>': 4690, 'ion': 4691, 'ion,</w>': 4692, 'ion.</w>': 4693, 'ion</w>': 4694, 'ions</w>': 4695, 'ious,</w>': 4696, 'ious</w>': 4697, 'iously</w>': 4698, 'ir': 4699, 'ir</w>': 4700, 'ire</w>': 4701, 'iron</w>': 4702, 'irre': 4703, 'irrelevant</w>': 4704, 'irrevocably</w>': 4705, 'irrit': 4706, 'irritab': 4707, 'irritability.</w>': 4708, 'irritable</w>': 4709, 'irritably,</w>': 4710, 'irritate</w>': 4711, 'irritated.”</w>': 4712, 'irritating</w>': 4713, 'irritation.</w>': 4714, 'is': 4715, 'is!...</w>': 4716, 'is!</w>': 4717, 'is!”</w>': 4718, 'is,</w>': 4719, 'is,”</w>': 4720, 'is...</w>': 4721, 'is.</w>': 4722, 'is.”</w>': 4723, 'is</w>': 4724, 'is?”</w>': 4725, 'ise': 4726, 'ise</w>': 4727, 'ised</w>': 4728, 'ish': 4729, 'ish,</w>': 4730, 'ish</w>': 4731, 'ishe': 4732, 'ished,</w>': 4733, 'ished.</w>': 4734, 'ished</w>': 4735, 'ishes</w>': 4736, 'ishing</w>': 4737, 'ising</w>': 4738, 'ism,</w>': 4739, 'ism</w>': 4740, 'isn’t</w>': 4741, 'issu': 4742, 'issy,</w>': 4743, 'ist': 4744, 'ist,</w>': 4745, 'ist</w>': 4746, 'ister</w>': 4747, 'istr': 4748, 'it': 4749, 'it!</w>': 4750, 'it!”</w>': 4751, 'it,</w>': 4752, 'it,”</w>': 4753, 'it--': 4754, 'it....</w>': 4755, 'it...</w>': 4756, 'it...”</w>': 4757, 'it.</w>': 4758, 'it.’</w>': 4759, 'it.”</w>': 4760, 'it:</w>': 4761, 'it;</w>': 4762, 'it</w>': 4763, 'it?</w>': 4764, 'it?”</w>': 4765, 'itch': 4766, 'itch,</w>': 4767, 'itch.</w>': 4768, 'itch;</w>': 4769, 'itch</w>': 4770, 'itch’s</w>': 4771, 'ite,</w>': 4772, 'ite.</w>': 4773, 'ite</w>': 4774, 'ited</w>': 4775, 'ith': 4776, 'ith</w>': 4777, 'ither</w>': 4778, 'iti': 4779, 'itical</w>': 4780, 'ities,</w>': 4781, 'ities.</w>': 4782, 'ities</w>': 4783, 'ition</w>': 4784, 'itka!</w>': 4785, 'its</w>': 4786, 'itself,</w>': 4787, 'itself.</w>': 4788, 'itself</w>': 4789, 'itt': 4790, 'itted,</w>': 4791, 'itting</w>': 4792, 'itu': 4793, 'itude,</w>': 4794, 'itude</w>': 4795, 'ity,</w>': 4796, 'ity,”</w>': 4797, 'ity.</w>': 4798, 'ity:</w>': 4799, 'ity;</w>': 4800, 'ity</w>': 4801, 'it’s</w>': 4802, 'ive</w>': 4803, 'j': 4804, 'ja': 4805, 'jac': 4806, 'jarg': 4807, 'jaun': 4808, 'jaunty</w>': 4809, 'je': 4810, 'jeal': 4811, 'jealous</w>': 4812, 'jeer</w>': 4813, 'jer': 4814, 'jewel': 4815, 'jewel-': 4816, 'jewel-case</w>': 4817, 'jewels</w>': 4818, 'jing': 4819, 'jo': 4820, 'job': 4821, 'job</w>': 4822, 'join': 4823, 'joined</w>': 4824, 'jok': 4825, 'jolly</w>': 4826, 'jost': 4827, 'jour': 4828, 'journal--“': 4829, 'journe': 4830, 'journey': 4831, 'joy': 4832, 'joy.</w>': 4833, 'joy</w>': 4834, 'joyful</w>': 4835, 'ju': 4836, 'jud': 4837, 'judg': 4838, 'judge</w>': 4839, 'judging</w>': 4840, 'judgment,</w>': 4841, 'jug</w>': 4842, 'jump': 4843, 'jumped</w>': 4844, 'just</w>': 4845, 'justi': 4846, 'justice</w>': 4847, 'justify</w>': 4848, 'k': 4849, 'k,</w>': 4850, 'k-': 4851, 'k.</w>': 4852, 'k</w>': 4853, 'ke': 4854, 'ke,</w>': 4855, 'ke.</w>': 4856, 'ke</w>': 4857, 'ke?</w>': 4858, 'ked,</w>': 4859, 'ked.</w>': 4860, 'ked</w>': 4861, 'keen</w>': 4862, 'keep': 4863, 'keep</w>': 4864, 'keeper</w>': 4865, 'keeping</w>': 4866, 'keeps</w>': 4867, 'ken.</w>': 4868, 'ken</w>': 4869, 'kept</w>': 4870, 'ker': 4871, 'kerchi': 4872, 'kerchief,</w>': 4873, 'kerchief</w>': 4874, 'kes,</w>': 4875, 'kes</w>': 4876, 'key': 4877, 'key</w>': 4878, 'keys,</w>': 4879, 'keys</w>': 4880, 'kick': 4881, 'kicking</w>': 4882, 'kill': 4883, 'kill</w>': 4884, 'killed,</w>': 4885, 'killed</w>': 4886, 'kin': 4887, 'kin</w>': 4888, 'kind': 4889, 'kind,</w>': 4890, 'kind-hearted</w>': 4891, 'kind</w>': 4892, 'kindly</w>': 4893, 'king,</w>': 4894, 'king</w>': 4895, 'kingdom</w>': 4896, 'kingly</w>': 4897, 'kis': 4898, 'kiss</w>': 4899, 'kissed</w>': 4900, 'kisses.</w>': 4901, 'kissing</w>': 4902, 'kitchen': 4903, 'kitchen,</w>': 4904, 'kitchen.</w>': 4905, 'kitchen</w>': 4906, 'kn': 4907, 'kne': 4908, 'kneel</w>': 4909, 'knees,</w>': 4910, 'knees.</w>': 4911, 'knees</w>': 4912, 'knelt</w>': 4913, 'kness,</w>': 4914, 'kness</w>': 4915, 'knew,</w>': 4916, 'knew</w>': 4917, 'knif': 4918, 'knife</w>': 4919, 'knitting</w>': 4920, 'kno': 4921, 'knock</w>': 4922, 'knocked</w>': 4923, 'knocking</w>': 4924, 'know': 4925, 'know!”</w>': 4926, 'know,</w>': 4927, 'know,”</w>': 4928, 'know....</w>': 4929, 'know...</w>': 4930, 'know.</w>': 4931, 'know.”</w>': 4932, 'know;</w>': 4933, 'know</w>': 4934, 'know?</w>': 4935, 'knowing</w>': 4936, 'knowledge</w>': 4937, 'known</w>': 4938, 'knows</w>': 4939, 'kov,</w>': 4940, 'ks,</w>': 4941, 'ks</w>': 4942, 'ky</w>': 4943, 'l': 4944, 'l,</w>': 4945, 'l</w>': 4946, 'la': 4947, 'lace</w>': 4948, 'lad': 4949, 'ladi': 4950, 'ladies,</w>': 4951, 'ladies.</w>': 4952, 'ladies</w>': 4953, 'ladies’</w>': 4954, 'lady,</w>': 4955, 'lady,”</w>': 4956, 'lady</w>': 4957, 'laid</w>': 4958, 'lam': 4959, 'lame</w>': 4960, 'land': 4961, 'landing</w>': 4962, 'landlad': 4963, 'landlady!”</w>': 4964, 'landlady,</w>': 4965, 'landlady.</w>': 4966, 'landlady</w>': 4967, 'landlady?”</w>': 4968, 'landlady’s</w>': 4969, 'langu': 4970, 'languag': 4971, 'lantern</w>': 4972, 'lar': 4973, 'large</w>': 4974, 'lash</w>': 4975, 'last,</w>': 4976, 'last.</w>': 4977, 'last</w>': 4978, 'lasted</w>': 4979, 'lasting</w>': 4980, 'lat': 4981, 'latch,</w>': 4982, 'latch</w>': 4983, 'latched</w>': 4984, 'late--': 4985, 'late.</w>': 4986, 'late</w>': 4987, 'lated</w>': 4988, 'lately</w>': 4989, 'later,</w>': 4990, 'later.</w>': 4991, 'later</w>': 4992, 'latter,</w>': 4993, 'latter</w>': 4994, 'latter’s</w>': 4995, 'laugh': 4996, 'laugh,</w>': 4997, 'laugh</w>': 4998, 'laughed,</w>': 4999, 'laughed.</w>': 5000, 'laughed</w>': 5001, 'laughing,</w>': 5002, 'laughing.</w>': 5003, 'laughing</w>': 5004, 'laughter</w>': 5005, 'lavish': 5006, 'law': 5007, 'lay</w>': 5008, 'laz': 5009, 'lazily</w>': 5010, 'lazy</w>': 5011, 'le': 5012, 'le!</w>': 5013, 'le,</w>': 5014, 'le,”</w>': 5015, 'le-': 5016, 'le....</w>': 5017, 'le.</w>': 5018, 'le;</w>': 5019, 'le</w>': 5020, 'lea': 5021, 'lead': 5022, 'leading</w>': 5023, 'leads</w>': 5024, 'leaf': 5025, 'leaned</w>': 5026, 'leaning</w>': 5027, 'leap': 5028, 'leaped</w>': 5029, 'leapt</w>': 5030, 'lear': 5031, 'learn': 5032, 'learn</w>': 5033, 'learned</w>': 5034, 'learnt,</w>': 5035, 'learnt</w>': 5036, 'leas': 5037, 'least': 5038, 'least,</w>': 5039, 'least.</w>': 5040, 'least</w>': 5041, 'leather</w>': 5042, 'leav': 5043, 'leave</w>': 5044, 'leaving</w>': 5045, 'lecturer</w>': 5046, 'led': 5047, 'led,</w>': 5048, 'led.</w>': 5049, 'led</w>': 5050, 'ledge</w>': 5051, 'lef': 5052, 'left': 5053, 'left,</w>': 5054, 'left.</w>': 5055, 'left</w>': 5056, 'leg': 5057, 'leg,</w>': 5058, 'leg</w>': 5059, 'legal</w>': 5060, 'legs,</w>': 5061, 'legs</w>': 5062, 'leng': 5063, 'lent</w>': 5064, 'les': 5065, 'les,</w>': 5066, 'les</w>': 5067, 'less': 5068, 'less,</w>': 5069, 'less.</w>': 5070, 'less</w>': 5071, 'lessly</w>': 5072, 'lessness,</w>': 5073, 'lesson': 5074, 'lesson</w>': 5075, 'lessons,</w>': 5076, 'lessons.</w>': 5077, 'lessons</w>': 5078, 'let': 5079, 'let</w>': 5080, 'letter': 5081, 'letter,</w>': 5082, 'letter.</w>': 5083, 'letter</w>': 5084, 'letting</w>': 5085, 'lev': 5086, 'level</w>': 5087, 'li': 5088, 'liber': 5089, 'lic': 5090, 'lie--': 5091, 'lie</w>': 5092, 'lies</w>': 5093, 'life': 5094, 'life!</w>': 5095, 'life,</w>': 5096, 'life,”</w>': 5097, 'life.</w>': 5098, 'life</w>': 5099, 'lift</w>': 5100, 'lifted</w>': 5101, 'lifting</w>': 5102, 'ligh': 5103, 'light': 5104, 'light,</w>': 5105, 'light.</w>': 5106, 'light</w>': 5107, 'lighted</w>': 5108, 'lighter</w>': 5109, 'lightest</w>': 5110, 'lightn': 5111, 'lik': 5112, 'like': 5113, 'like!”</w>': 5114, 'like,</w>': 5115, 'like</w>': 5116, 'liked</w>': 5117, 'likely</w>': 5118, 'likes</w>': 5119, 'lim': 5120, 'lin': 5121, 'line.</w>': 5122, 'line</w>': 5123, 'lined</w>': 5124, 'linen,</w>': 5125, 'linen.</w>': 5126, 'linen</w>': 5127, 'lines</w>': 5128, 'ling': 5129, 'ling,</w>': 5130, 'ling.</w>': 5131, 'ling</w>': 5132, 'lining</w>': 5133, 'lip': 5134, 'lip.</w>': 5135, 'lip</w>': 5136, 'lips,</w>': 5137, 'lips.</w>': 5138, 'lips</w>': 5139, 'lish': 5140, 'lish</w>': 5141, 'list': 5142, 'listen': 5143, 'listen</w>': 5144, 'listened,</w>': 5145, 'listened</w>': 5146, 'listener': 5147, 'listeners,</w>': 5148, 'listening,</w>': 5149, 'listening.</w>': 5150, 'listening</w>': 5151, 'listens</w>': 5152, 'lit': 5153, 'literally</w>': 5154, 'literary</w>': 5155, 'litt': 5156, 'little': 5157, 'little,</w>': 5158, 'little.</w>': 5159, 'little;</w>': 5160, 'little</w>': 5161, 'lity</w>': 5162, 'liv': 5163, 'live,</w>': 5164, 'live.</w>': 5165, 'live</w>': 5166, 'live?”</w>': 5167, 'lived</w>': 5168, 'lives</w>': 5169, 'living</w>': 5170, 'll': 5171, 'll,</w>': 5172, 'll.</w>': 5173, 'll</w>': 5174, 'lled,</w>': 5175, 'lled</w>': 5176, 'llen</w>': 5177, 'lling</w>': 5178, 'llow</w>': 5179, 'lls</w>': 5180, 'lly</w>': 5181, 'lo': 5182, 'loa': 5183, 'load</w>': 5184, 'loaf</w>': 5185, 'loath': 5186, 'loathing</w>': 5187, 'loathsome': 5188, 'loathsome,</w>': 5189, 'loathsome</w>': 5190, 'lock': 5191, 'lock,</w>': 5192, 'lock</w>': 5193, 'locked,</w>': 5194, 'locked</w>': 5195, 'lodg': 5196, 'lodge</w>': 5197, 'lodged</w>': 5198, 'lodgers</w>': 5199, 'lodging': 5200, 'lodging.</w>': 5201, 'lodging</w>': 5202, 'lodgings,</w>': 5203, 'lodgings</w>': 5204, 'lodgings?</w>': 5205, 'log': 5206, 'logic': 5207, 'long': 5208, 'long,</w>': 5209, 'long.</w>': 5210, 'long</w>': 5211, 'long?”</w>': 5212, 'longed</w>': 5213, 'longer,</w>': 5214, 'longer</w>': 5215, 'longing</w>': 5216, 'loo': 5217, 'look': 5218, 'look!”</w>': 5219, 'look</w>': 5220, 'looked,</w>': 5221, 'looked</w>': 5222, 'looking.</w>': 5223, 'looking</w>': 5224, 'looks</w>': 5225, 'loose</w>': 5226, 'lor': 5227, 'los': 5228, 'lose</w>': 5229, 'losing</w>': 5230, 'loss</w>': 5231, 'lost,</w>': 5232, 'lost;</w>': 5233, 'lost</w>': 5234, 'lot': 5235, 'lot</w>': 5236, 'lots</w>': 5237, 'lou': 5238, 'loud</w>': 5239, 'louder</w>': 5240, 'loudly.</w>': 5241, 'loudly</w>': 5242, 'lov': 5243, 'love</w>': 5244, 'loved</w>': 5245, 'loves,</w>': 5246, 'loves</w>': 5247, 'low': 5248, 'low-pitch': 5249, 'low</w>': 5250, 'lower</w>': 5251, 'lu': 5252, 'luck</w>': 5253, 'luckless</w>': 5254, 'lump': 5255, 'lunch': 5256, 'lunch?”</w>': 5257, 'lurched</w>': 5258, 'lux': 5259, 'luxuri': 5260, 'luxurious</w>': 5261, 'ly': 5262, 'ly,</w>': 5263, 'ly,”</w>': 5264, 'ly-': 5265, 'ly....</w>': 5266, 'ly...</w>': 5267, 'ly.</w>': 5268, 'ly</w>': 5269, 'ly?</w>': 5270, 'ly?”</w>': 5271, 'lying,</w>': 5272, 'lying,”</w>': 5273, 'lying--': 5274, 'lying</w>': 5275, 'm': 5276, 'm!</w>': 5277, 'm,</w>': 5278, 'm.</w>': 5279, 'm</w>': 5280, 'ma': 5281, 'ma</w>': 5282, 'mad': 5283, 'mad,</w>': 5284, 'mad.</w>': 5285, 'mad</w>': 5286, 'madam,</w>': 5287, 'made,</w>': 5288, 'made</w>': 5289, 'madman,”</w>': 5290, 'madman.</w>': 5291, 'mag': 5292, 'magnific': 5293, 'magnificent</w>': 5294, 'main': 5295, 'main</w>': 5296, 'maintain</w>': 5297, 'make</w>': 5298, 'makes</w>': 5299, 'making</w>': 5300, 'mal': 5301, 'malic': 5302, 'maliciously</w>': 5303, 'malign': 5304, 'malignant</w>': 5305, 'mamma': 5306, 'mamma,</w>': 5307, 'mamma,”</w>': 5308, 'mamma</w>': 5309, 'mamma’s</w>': 5310, 'man': 5311, 'man!</w>': 5312, 'man!”</w>': 5313, 'man,</w>': 5314, 'man,”</w>': 5315, 'man.</w>': 5316, 'man;</w>': 5317, 'man</w>': 5318, 'manag': 5319, 'manage</w>': 5320, 'managed</w>': 5321, 'manner': 5322, 'manner,</w>': 5323, 'manner</w>': 5324, 'manners</w>': 5325, 'mant': 5326, 'many</w>': 5327, 'man’s</w>': 5328, 'mar': 5329, 'mare,</w>': 5330, 'mare.</w>': 5331, 'mare</w>': 5332, 'mark': 5333, 'mark</w>': 5334, 'marked</w>': 5335, 'market</w>': 5336, 'marri': 5337, 'marriage,</w>': 5338, 'marriage</w>': 5339, 'married</w>': 5340, 'marry</w>': 5341, 'marrying</w>': 5342, 'marvelled</w>': 5343, 'mass</w>': 5344, 'master': 5345, 'master</w>': 5346, 'mastery</w>': 5347, 'mat': 5348, 'match</w>': 5349, 'materi': 5350, 'material</w>': 5351, 'mates,</w>': 5352, 'mates,”</w>': 5353, 'matter': 5354, 'matter!</w>': 5355, 'matter!”</w>': 5356, 'matter,</w>': 5357, 'matter</w>': 5358, 'matter?</w>': 5359, 'matter?”</w>': 5360, 'matters</w>': 5361, 'matur': 5362, 'may': 5363, 'may,</w>': 5364, 'may</w>': 5365, 'maybe': 5366, 'maybe,</w>': 5367, 'maybe</w>': 5368, 'me': 5369, 'me!</w>': 5370, 'me!”</w>': 5371, 'me,</w>': 5372, 'me,’</w>': 5373, 'me,”</w>': 5374, 'me--': 5375, 'me....</w>': 5376, 'me....”</w>': 5377, 'me...</w>': 5378, 'me...”</w>': 5379, 'me.</w>': 5380, 'me.”</w>': 5381, 'me;</w>': 5382, 'me</w>': 5383, 'me?</w>': 5384, 'me?”</w>': 5385, 'mean': 5386, 'mean,</w>': 5387, 'mean</w>': 5388, 'mean?</w>': 5389, 'mean?”</w>': 5390, 'meaning</w>': 5391, 'meanness</w>': 5392, 'means</w>': 5393, 'means?</w>': 5394, 'meant.</w>': 5395, 'meant</w>': 5396, 'meantime</w>': 5397, 'meanwhile</w>': 5398, 'meas': 5399, 'measure</w>': 5400, 'meat</w>': 5401, 'mechanic': 5402, 'mechanically.</w>': 5403, 'med': 5404, 'med</w>': 5405, 'medal</w>': 5406, 'medic': 5407, 'medit': 5408, 'meek': 5409, 'meekly</w>': 5410, 'meet': 5411, 'meet.</w>': 5412, 'meet</w>': 5413, 'meeting</w>': 5414, 'mel': 5415, 'melanchol': 5416, 'melancholy.</w>': 5417, 'memor': 5418, 'memory,</w>': 5419, 'memory</w>': 5420, 'men': 5421, 'men,</w>': 5422, 'men</w>': 5423, 'mended</w>': 5424, 'ment': 5425, 'ment,</w>': 5426, 'ment.</w>': 5427, 'ment</w>': 5428, 'mental</w>': 5429, 'mention</w>': 5430, 'mentioned</w>': 5431, 'ments</w>': 5432, 'mer': 5433, 'merch': 5434, 'merchant</w>': 5435, 'merci': 5436, 'mercy,</w>': 5437, 'mercy</w>': 5438, 'mere</w>': 5439, 'merely</w>': 5440, 'message</w>': 5441, 'messen': 5442, 'messenger</w>': 5443, 'met,</w>': 5444, 'met</w>': 5445, 'mi': 5446, 'midd': 5447, 'middle,</w>': 5448, 'middle</w>': 5449, 'migh': 5450, 'might,</w>': 5451, 'might</w>': 5452, 'mile</w>': 5453, 'miles</w>': 5454, 'mill': 5455, 'min': 5456, 'mind': 5457, 'mind!</w>': 5458, 'mind,</w>': 5459, 'mind.</w>': 5460, 'mind;</w>': 5461, 'mind</w>': 5462, 'minded</w>': 5463, 'mine</w>': 5464, 'ming</w>': 5465, 'minut': 5466, 'minute,</w>': 5467, 'minute,”</w>': 5468, 'minute.</w>': 5469, 'minute</w>': 5470, 'minutes,</w>': 5471, 'minutes</w>': 5472, 'mir': 5473, 'mis': 5474, 'miser': 5475, 'miserable</w>': 5476, 'misery,</w>': 5477, 'misery</w>': 5478, 'misfortun': 5479, 'miss</w>': 5480, 'missy!”</w>': 5481, 'mistak': 5482, 'mistake.</w>': 5483, 'mistake</w>': 5484, 'mistaken,</w>': 5485, 'mistaken</w>': 5486, 'mistakes</w>': 5487, 'mistru': 5488, 'mistrust': 5489, 'mistrust</w>': 5490, 'mistrusting</w>': 5491, 'mit': 5492, 'mly</w>': 5493, 'mmed</w>': 5494, 'mn': 5495, 'mo': 5496, 'moan': 5497, 'mocking</w>': 5498, 'modern</w>': 5499, 'modest': 5500, 'moment': 5501, 'moment,</w>': 5502, 'moment.</w>': 5503, 'moment</w>': 5504, 'moments</w>': 5505, 'moment’s</w>': 5506, 'mon': 5507, 'monast': 5508, 'money': 5509, 'money!</w>': 5510, 'money!”</w>': 5511, 'money,</w>': 5512, 'money....</w>': 5513, 'money...</w>': 5514, 'money.</w>': 5515, 'money;</w>': 5516, 'money</w>': 5517, 'money?</w>': 5518, 'money?”</w>': 5519, 'monologues</w>': 5520, 'monomani': 5521, 'monomaniac': 5522, 'monomaniacs</w>': 5523, 'monstrous</w>': 5524, 'month': 5525, 'month,</w>': 5526, 'month;</w>': 5527, 'month</w>': 5528, 'months,</w>': 5529, 'months.</w>': 5530, 'months</w>': 5531, 'monum': 5532, 'mony</w>': 5533, 'mood</w>': 5534, 'mor': 5535, 'moral</w>': 5536, 'morbid</w>': 5537, 'more': 5538, 'more,</w>': 5539, 'more.</w>': 5540, 'more</w>': 5541, 'moreover,</w>': 5542, 'moreover</w>': 5543, 'morn': 5544, 'morning,</w>': 5545, 'morning,”</w>': 5546, 'morning.</w>': 5547, 'morning</w>': 5548, 'morose</w>': 5549, 'morr': 5550, 'most': 5551, 'most</w>': 5552, 'mother': 5553, 'mother!</w>': 5554, 'mother,</w>': 5555, 'mother,”</w>': 5556, 'mother...</w>': 5557, 'mother.</w>': 5558, 'mother</w>': 5559, 'mother?</w>': 5560, 'mother’s</w>': 5561, 'motion': 5562, 'motioned</w>': 5563, 'motive</w>': 5564, 'mou': 5565, 'moun': 5566, 'mountain</w>': 5567, 'mounted</w>': 5568, 'mounting</w>': 5569, 'mour': 5570, 'mourning</w>': 5571, 'mousta': 5572, 'moustach': 5573, 'mouth</w>': 5574, 'mov': 5575, 'move.</w>': 5576, 'move</w>': 5577, 'moved.</w>': 5578, 'moved</w>': 5579, 'movement': 5580, 'movement</w>': 5581, 'movements.</w>': 5582, 'moving</w>': 5583, 'mp': 5584, 'ms</w>': 5585, 'mu': 5586, 'much': 5587, 'much!”</w>': 5588, 'much,</w>': 5589, 'much,”</w>': 5590, 'much.</w>': 5591, 'much</w>': 5592, 'much?”</w>': 5593, 'mudd': 5594, 'mul': 5595, 'mumbled</w>': 5596, 'mur': 5597, 'murder': 5598, 'murder,</w>': 5599, 'murder.</w>': 5600, 'murder</w>': 5601, 'murdered</w>': 5602, 'murderer': 5603, 'murderer</w>': 5604, 'murmured</w>': 5605, 'mus': 5606, 'music': 5607, 'must': 5608, 'must</w>': 5609, 'mustn’t</w>': 5610, 'mut': 5611, 'muttered,</w>': 5612, 'muttered.</w>': 5613, 'muttered</w>': 5614, 'muttering</w>': 5615, 'mutual</w>': 5616, 'my': 5617, 'my</w>': 5618, 'myself': 5619, 'myself,</w>': 5620, 'myself,”</w>': 5621, 'myself....</w>': 5622, 'myself...</w>': 5623, 'myself.</w>': 5624, 'myself</w>': 5625, 'myster': 5626, 'n': 5627, 'n,</w>': 5628, 'n</w>': 5629, 'na': 5630, 'nag': 5631, 'nag</w>': 5632, 'nail': 5633, 'nail</w>': 5634, 'nails.</w>': 5635, 'nam': 5636, 'name!”</w>': 5637, 'name,</w>': 5638, 'name.</w>': 5639, 'name</w>': 5640, 'name?”</w>': 5641, 'names</w>': 5642, 'nap': 5643, 'napkin</w>': 5644, 'narrow,</w>': 5645, 'narrow</w>': 5646, 'nat': 5647, 'natur': 5648, 'natural</w>': 5649, 'nature': 5650, 'nature,</w>': 5651, 'nature</w>': 5652, 'naïve</w>': 5653, 'naïvely</w>': 5654, 'ne': 5655, 'near': 5656, 'near</w>': 5657, 'nearest</w>': 5658, 'nearly</w>': 5659, 'necess': 5660, 'necessar': 5661, 'necessary</w>': 5662, 'neck.</w>': 5663, 'neck</w>': 5664, 'ned</w>': 5665, 'need': 5666, 'need</w>': 5667, 'needed</w>': 5668, 'needle</w>': 5669, 'needs</w>': 5670, 'neighb': 5671, 'neighbour': 5672, 'neighbour,</w>': 5673, 'neighbourhoo': 5674, 'neighbours</w>': 5675, 'ner': 5676, 'ner</w>': 5677, 'ners,</w>': 5678, 'nerv': 5679, 'nerves</w>': 5680, 'nervous</w>': 5681, 'nes': 5682, 'ness,</w>': 5683, 'ness.</w>': 5684, 'ness</w>': 5685, 'nest': 5686, 'never': 5687, 'never</w>': 5688, 'new': 5689, 'new-com': 5690, 'new-comer</w>': 5691, 'new</w>': 5692, 'newly</w>': 5693, 'news': 5694, 'news,</w>': 5695, 'news</w>': 5696, 'newspaper,</w>': 5697, 'nex': 5698, 'next</w>': 5699, 'next?</w>': 5700, 'ni': 5701, 'nic': 5702, 'nice</w>': 5703, 'nick</w>': 5704, 'nigg': 5705, 'night': 5706, 'night,</w>': 5707, 'night.</w>': 5708, 'night;</w>': 5709, 'night</w>': 5710, 'night?</w>': 5711, 'night?”</w>': 5712, 'nights</w>': 5713, 'night’s</w>': 5714, 'nine,</w>': 5715, 'nine</w>': 5716, 'ninet': 5717, 'ninety</w>': 5718, 'ning!</w>': 5719, 'ning,</w>': 5720, 'ning.</w>': 5721, 'ning</w>': 5722, 'nit': 5723, 'no': 5724, 'no,</w>': 5725, 'no,”</w>': 5726, 'no.</w>': 5727, 'no</w>': 5728, 'nobility</w>': 5729, 'noble</w>': 5730, 'nobody</w>': 5731, 'nodded</w>': 5732, 'nodding</w>': 5733, 'noi': 5734, 'noise': 5735, 'noise,</w>': 5736, 'noise</w>': 5737, 'noiselessly,</w>': 5738, 'noisily</w>': 5739, 'nonchal': 5740, 'none</w>': 5741, 'nonsense': 5742, 'nonsense!”</w>': 5743, 'nonsense,</w>': 5744, 'nonsense,”</w>': 5745, 'nonsense.</w>': 5746, 'nonsense</w>': 5747, 'noose,</w>': 5748, 'noose.</w>': 5749, 'noose</w>': 5750, 'nor': 5751, 'nor</w>': 5752, 'normal</w>': 5753, 'nose</w>': 5754, 'not': 5755, 'not!</w>': 5756, 'not,</w>': 5757, 'not.</w>': 5758, 'not</w>': 5759, 'not?</w>': 5760, 'not?”</w>': 5761, 'note': 5762, 'note.</w>': 5763, 'note</w>': 5764, 'notes</w>': 5765, 'nothing': 5766, 'nothing!</w>': 5767, 'nothing,</w>': 5768, 'nothing,”</w>': 5769, 'nothing--': 5770, 'nothing.</w>': 5771, 'nothing</w>': 5772, 'noti': 5773, 'notic': 5774, 'notice': 5775, 'notice</w>': 5776, 'noticeab': 5777, 'noticeable....</w>': 5778, 'noticeable</w>': 5779, 'noticed,</w>': 5780, 'noticed.</w>': 5781, 'noticed</w>': 5782, 'noticing</w>': 5783, 'notion</w>': 5784, 'notorious</w>': 5785, 'nov': 5786, 'now': 5787, 'now!</w>': 5788, 'now!”</w>': 5789, 'now,</w>': 5790, 'now,”</w>': 5791, 'now....</w>': 5792, 'now...</w>': 5793, 'now.</w>': 5794, 'now.”</w>': 5795, 'now;</w>': 5796, 'now</w>': 5797, 'now?</w>': 5798, 'now?”</w>': 5799, 'nowa': 5800, 'nowaday': 5801, 'nowadays</w>': 5802, 'nowhere</w>': 5803, 'nu': 5804, 'num': 5805, 'number': 5806, 'number</w>': 5807, 'numerous</w>': 5808, 'nuts</w>': 5809, 'ny</w>': 5810, 'n’': 5811, 'n’t': 5812, 'n’t</w>': 5813, 'o': 5814, 'o,</w>': 5815, 'o-': 5816, 'o</w>': 5817, 'oaths</w>': 5818, 'ob': 5819, 'obe': 5820, 'obey</w>': 5821, 'obje': 5822, 'object': 5823, 'object,</w>': 5824, 'object.</w>': 5825, 'object</w>': 5826, 'objects</w>': 5827, 'obli': 5828, 'obliged</w>': 5829, 'oblivi': 5830, 'oblivious</w>': 5831, 'obody</w>': 5832, 'obscure</w>': 5833, 'obser': 5834, 'observ': 5835, 'observation</w>': 5836, 'observations</w>': 5837, 'observe</w>': 5838, 'observed,</w>': 5839, 'observed.</w>': 5840, 'observed</w>': 5841, 'obstac': 5842, 'obstacles</w>': 5843, 'obstin': 5844, 'obtained</w>': 5845, 'obvious</w>': 5846, 'obviously</w>': 5847, 'occas': 5848, 'occasion': 5849, 'occasionally</w>': 5850, 'occup': 5851, 'occupied</w>': 5852, 'occur': 5853, 'occur</w>': 5854, 'occurred</w>': 5855, 'oce': 5856, 'ock</w>': 5857, 'ocking</w>': 5858, 'od': 5859, 'odd': 5860, 'of': 5861, 'of...</w>': 5862, 'of.</w>': 5863, 'of</w>': 5864, 'of?”</w>': 5865, 'off': 5866, 'off!”</w>': 5867, 'off,</w>': 5868, 'off,”</w>': 5869, 'off.</w>': 5870, 'off;</w>': 5871, 'off</w>': 5872, 'offence</w>': 5873, 'offended,</w>': 5874, 'offended.</w>': 5875, 'offended</w>': 5876, 'offensive</w>': 5877, 'offer</w>': 5878, 'offered</w>': 5879, 'offic': 5880, 'office': 5881, 'office,</w>': 5882, 'office,”</w>': 5883, 'office.</w>': 5884, 'office;</w>': 5885, 'office</w>': 5886, 'office?</w>': 5887, 'office?”</w>': 5888, 'officer,</w>': 5889, 'officer.</w>': 5890, 'officer</w>': 5891, 'officers,</w>': 5892, 'often': 5893, 'often</w>': 5894, 'og': 5895, 'oh,</w>': 5896, 'oh</w>': 5897, 'oil</w>': 5898, 'ol': 5899, 'old': 5900, 'old,</w>': 5901, 'old-': 5902, 'old-fashioned</w>': 5903, 'old.</w>': 5904, 'old</w>': 5905, 'older</w>': 5906, 'olk': 5907, 'olun': 5908, 'om': 5909, 'om,</w>': 5910, 'om.</w>': 5911, 'om</w>': 5912, 'om?</w>': 5913, 'omen': 5914, 'omitted,</w>': 5915, 'on': 5916, 'on!</w>': 5917, 'on!”</w>': 5918, 'on,</w>': 5919, 'on,”</w>': 5920, 'on....</w>': 5921, 'on.</w>': 5922, 'on.”</w>': 5923, 'on:</w>': 5924, 'on</w>': 5925, 'on?</w>': 5926, 'once': 5927, 'once!</w>': 5928, 'once!”</w>': 5929, 'once,</w>': 5930, 'once,”</w>': 5931, 'once....</w>': 5932, 'once.</w>': 5933, 'once</w>': 5934, 'once?”</w>': 5935, 'ond</w>': 5936, 'one': 5937, 'one!</w>': 5938, 'one!”</w>': 5939, 'one,</w>': 5940, 'one,”</w>': 5941, 'one.</w>': 5942, 'one</w>': 5943, 'one?</w>': 5944, 'one?”</w>': 5945, 'oned</w>': 5946, 'ones,</w>': 5947, 'ones</w>': 5948, 'oneself,</w>': 5949, 'oneself</w>': 5950, 'one’s</w>': 5951, 'ong': 5952, 'ong</w>': 5953, 'onged</w>': 5954, 'only': 5955, 'only,</w>': 5956, 'only:</w>': 5957, 'only</w>': 5958, 'ons</w>': 5959, 'ont': 5960, 'oo': 5961, 'oo</w>': 5962, 'ood': 5963, 'ood-': 5964, 'ood-bye': 5965, 'ood</w>': 5966, 'ook</w>': 5967, 'ool</w>': 5968, 'oon</w>': 5969, 'op': 5970, 'ope': 5971, 'open': 5972, 'open,</w>': 5973, 'open.</w>': 5974, 'open</w>': 5975, 'opened</w>': 5976, 'opening</w>': 5977, 'opinion': 5978, 'opinion,</w>': 5979, 'opinion</w>': 5980, 'opportun': 5981, 'opportunity</w>': 5982, 'oppos': 5983, 'opposite</w>': 5984, 'oppressive</w>': 5985, 'or': 5986, 'or,</w>': 5987, 'or...”</w>': 5988, 'or.</w>': 5989, 'or;</w>': 5990, 'or</w>': 5991, 'order': 5992, 'order</w>': 5993, 'ordered</w>': 5994, 'ordering</w>': 5995, 'orders</w>': 5996, 'ordinary</w>': 5997, 'orfir': 5998, 'organ': 5999, 'organ</w>': 6000, 'organised</w>': 6001, 'orig': 6002, 'original</w>': 6003, 'ors,</w>': 6004, 'ors</w>': 6005, 'ort': 6006, 'ort</w>': 6007, 'os': 6008, 'ospe': 6009, 'ossi': 6010, 'ost</w>': 6011, 'ot': 6012, 'otch': 6013, 'oth': 6014, 'other': 6015, 'other,</w>': 6016, 'other.</w>': 6017, 'other</w>': 6018, 'others,</w>': 6019, 'others.</w>': 6020, 'others</w>': 6021, 'ou': 6022, 'ou</w>': 6023, 'ough': 6024, 'ough!</w>': 6025, 'ough,</w>': 6026, 'ough</w>': 6027, 'ought</w>': 6028, 'ould</w>': 6029, 'ouldn’t</w>': 6030, 'oun': 6031, 'ounc': 6032, 'ounced,</w>': 6033, 'ounced</w>': 6034, 'ound</w>': 6035, 'ounded</w>': 6036, 'our': 6037, 'our,</w>': 6038, 'our.</w>': 6039, 'our</w>': 6040, 'oure': 6041, 'oured</w>': 6042, 'ouri': 6043, 'ouring</w>': 6044, 'ours,</w>': 6045, 'ourselv': 6046, 'ourselves,</w>': 6047, 'ourselves</w>': 6048, 'ous': 6049, 'ous,</w>': 6050, 'ous.</w>': 6051, 'ous;</w>': 6052, 'ous</w>': 6053, 'ouse</w>': 6054, 'ously,</w>': 6055, 'ously.</w>': 6056, 'ously</w>': 6057, 'out': 6058, 'out!”</w>': 6059, 'out,</w>': 6060, 'out,”</w>': 6061, 'out....</w>': 6062, 'out.</w>': 6063, 'out.”</w>': 6064, 'out</w>': 6065, 'out?”</w>': 6066, 'outer</w>': 6067, 'outside</w>': 6068, 'ov': 6069, 'ov,</w>': 6070, 'ov.</w>': 6071, 'ov</w>': 6072, 'ove</w>': 6073, 'over': 6074, 'over!</w>': 6075, 'over,</w>': 6076, 'over...</w>': 6077, 'over.</w>': 6078, 'over</w>': 6079, 'overcoat,</w>': 6080, 'overcoat</w>': 6081, 'overcome</w>': 6082, 'overed.</w>': 6083, 'overed</w>': 6084, 'overstrained</w>': 6085, 'overtake</w>': 6086, 'overtaken</w>': 6087, 'overtook</w>': 6088, 'overwhel': 6089, 'overwhelm': 6090, 'overwhelmed.</w>': 6091, 'overwhelmed</w>': 6092, 'overwhelming</w>': 6093, 'overwrought</w>': 6094, 'ovitch,</w>': 6095, 'ovn': 6096, 'ovna': 6097, 'ovna,</w>': 6098, 'ovna.</w>': 6099, 'ovna</w>': 6100, 'ovsky</w>': 6101, 'ow': 6102, 'ow,</w>': 6103, 'ow.</w>': 6104, 'ow</w>': 6105, 'owed,</w>': 6106, 'owed</w>': 6107, 'owing</w>': 6108, 'own': 6109, 'own,</w>': 6110, 'own.</w>': 6111, 'own</w>': 6112, 'ows,</w>': 6113, 'ows</w>': 6114, 'o’clock': 6115, 'o’clock,</w>': 6116, 'o’clock,”</w>': 6117, 'o’clock.</w>': 6118, 'o’clock</w>': 6119, 'p': 6120, 'p,</w>': 6121, 'p.</w>': 6122, 'p</w>': 6123, 'pa': 6124, 'pac': 6125, 'paces</w>': 6126, 'packed</w>': 6127, 'packing</w>': 6128, 'paid</w>': 6129, 'pain': 6130, 'pain</w>': 6131, 'painful</w>': 6132, 'painfully.</w>': 6133, 'painfully</w>': 6134, 'paint</w>': 6135, 'painted</w>': 6136, 'painter': 6137, 'painter,</w>': 6138, 'painter</w>': 6139, 'painter?”</w>': 6140, 'painters</w>': 6141, 'painting</w>': 6142, 'pair</w>': 6143, 'pal': 6144, 'palat': 6145, 'pale': 6146, 'pale,</w>': 6147, 'pale</w>': 6148, 'pan': 6149, 'panca': 6150, 'panting</w>': 6151, 'pap': 6152, 'paper': 6153, 'paper,</w>': 6154, 'paper.</w>': 6155, 'paper</w>': 6156, 'papers,</w>': 6157, 'papers.</w>': 6158, 'papers</w>': 6159, 'papers?”</w>': 6160, 'par': 6161, 'parasol.</w>': 6162, 'parasol</w>': 6163, 'parc': 6164, 'parcel</w>': 6165, 'pard': 6166, 'pardon': 6167, 'parenthes': 6168, 'part': 6169, 'part,</w>': 6170, 'part.</w>': 6171, 'part</w>': 6172, 'parted</w>': 6173, 'particul': 6174, 'particular,</w>': 6175, 'particularly</w>': 6176, 'parting</w>': 6177, 'partitioned</w>': 6178, 'partly</w>': 6179, 'partner</w>': 6180, 'party</w>': 6181, 'pas': 6182, 'pass': 6183, 'pass,</w>': 6184, 'pass</w>': 6185, 'passage,</w>': 6186, 'passage.</w>': 6187, 'passage</w>': 6188, 'passed,</w>': 6189, 'passed</w>': 6190, 'passers-': 6191, 'passers-by,</w>': 6192, 'passing,</w>': 6193, 'passionate</w>': 6194, 'past,</w>': 6195, 'past</w>': 6196, 'pat': 6197, 'path': 6198, 'path.</w>': 6199, 'pati': 6200, 'patient': 6201, 'patient,</w>': 6202, 'patient</w>': 6203, 'pause': 6204, 'pause,</w>': 6205, 'pause.</w>': 6206, 'paused,</w>': 6207, 'paused.</w>': 6208, 'pav': 6209, 'pavement,</w>': 6210, 'pavement.</w>': 6211, 'pavement</w>': 6212, 'paw': 6213, 'pawn': 6214, 'pawn</w>': 6215, 'pawnbroker,</w>': 6216, 'pawnbroker</w>': 6217, 'pay': 6218, 'pay,</w>': 6219, 'pay.</w>': 6220, 'pay</w>': 6221, 'paying</w>': 6222, 'payment,</w>': 6223, 'payment</w>': 6224, 'pe': 6225, 'pe.</w>': 6226, 'peace!</w>': 6227, 'peace,</w>': 6228, 'peace</w>': 6229, 'peas': 6230, 'peasant': 6231, 'peasant</w>': 6232, 'peasants</w>': 6233, 'peasant’s</w>': 6234, 'peculi': 6235, 'peculiar': 6236, 'peculiar</w>': 6237, 'peculiarly</w>': 6238, 'ped</w>': 6239, 'peep</w>': 6240, 'peeped</w>': 6241, 'peeping</w>': 6242, 'pen': 6243, 'pen,</w>': 6244, 'pen</w>': 6245, 'penny,</w>': 6246, 'pens': 6247, 'pension,</w>': 6248, 'pension.</w>': 6249, 'pension</w>': 6250, 'people': 6251, 'people,</w>': 6252, 'people.</w>': 6253, 'people</w>': 6254, 'per': 6255, 'per</w>': 6256, 'perc': 6257, 'percent': 6258, 'percentag': 6259, 'percentage!</w>': 6260, 'percep': 6261, 'perfe': 6262, 'perfect</w>': 6263, 'perfectly</w>': 6264, 'perform': 6265, 'performed</w>': 6266, 'performing</w>': 6267, 'perhap': 6268, 'perhaps,</w>': 6269, 'perhaps</w>': 6270, 'perhaps?”</w>': 6271, 'permis': 6272, 'permissible</w>': 6273, 'perpet': 6274, 'perplex': 6275, 'perplexed</w>': 6276, 'perplexity.</w>': 6277, 'pers': 6278, 'pers</w>': 6279, 'pers?”</w>': 6280, 'persist': 6281, 'persistently</w>': 6282, 'person': 6283, 'person,</w>': 6284, 'person.</w>': 6285, 'person</w>': 6286, 'personal</w>': 6287, 'persons</w>': 6288, 'perspir': 6289, 'persu': 6290, 'persuade</w>': 6291, 'pes</w>': 6292, 'pet': 6293, 'petals</w>': 6294, 'petti': 6295, 'petty</w>': 6296, 'ph': 6297, 'phenomen': 6298, 'phra': 6299, 'phrases</w>': 6300, 'physic': 6301, 'physical</w>': 6302, 'pi': 6303, 'pian': 6304, 'piano,</w>': 6305, 'pic': 6306, 'pick': 6307, 'pick</w>': 6308, 'picked</w>': 6309, 'pict': 6310, 'picture</w>': 6311, 'pie</w>': 6312, 'piec': 6313, 'piece</w>': 6314, 'pieces</w>': 6315, 'pig': 6316, 'pig</w>': 6317, 'pill': 6318, 'pillow,</w>': 6319, 'pillow.</w>': 6320, 'pillow</w>': 6321, 'pillows</w>': 6322, 'pin': 6323, 'pinched</w>': 6324, 'ping</w>': 6325, 'pink</w>': 6326, 'pit': 6327, 'pitch': 6328, 'pite': 6329, 'piti': 6330, 'pitied!</w>': 6331, 'pity</w>': 6332, 'pl': 6333, 'pla': 6334, 'plac': 6335, 'place': 6336, 'place,</w>': 6337, 'place.</w>': 6338, 'place</w>': 6339, 'placed</w>': 6340, 'places</w>': 6341, 'plain': 6342, 'plain,</w>': 6343, 'plain</w>': 6344, 'plan': 6345, 'plan</w>': 6346, 'planned</w>': 6347, 'plans</w>': 6348, 'plat': 6349, 'play': 6350, 'playing</w>': 6351, 'plaything': 6352, 'ple': 6353, 'plea': 6354, 'pleas': 6355, 'pleasant</w>': 6356, 'please': 6357, 'please,</w>': 6358, 'please.”</w>': 6359, 'please</w>': 6360, 'pleased</w>': 6361, 'pled': 6362, 'pledg': 6363, 'pledge': 6364, 'pledge.</w>': 6365, 'pledge</w>': 6366, 'pledges</w>': 6367, 'ples': 6368, 'plunged</w>': 6369, 'po': 6370, 'poch': 6371, 'pock': 6372, 'pocket': 6373, 'pocket,</w>': 6374, 'pocket.</w>': 6375, 'pocket</w>': 6376, 'pockets</w>': 6377, 'poign': 6378, 'poignant</w>': 6379, 'poin': 6380, 'point': 6381, 'point,</w>': 6382, 'point.</w>': 6383, 'point</w>': 6384, 'pointed</w>': 6385, 'pointing</w>': 6386, 'points</w>': 6387, 'pol': 6388, 'polic': 6389, 'police': 6390, 'police,</w>': 6391, 'police-': 6392, 'police-station</w>': 6393, 'police</w>': 6394, 'policem': 6395, 'policeman,</w>': 6396, 'policeman.</w>': 6397, 'policeman</w>': 6398, 'polit': 6399, 'polite</w>': 6400, 'politeness,</w>': 6401, 'political</w>': 6402, 'pom': 6403, 'pomaded,</w>': 6404, 'pomat': 6405, 'pon': 6406, 'ponder': 6407, 'pondered,</w>': 6408, 'pondered</w>': 6409, 'pool</w>': 6410, 'poor': 6411, 'poor,</w>': 6412, 'poor</w>': 6413, 'poorly</w>': 6414, 'pop': 6415, 'poppet': 6416, 'poppet,’</w>': 6417, 'por': 6418, 'port': 6419, 'porter': 6420, 'porter,</w>': 6421, 'porter.</w>': 6422, 'porter.”</w>': 6423, 'porter</w>': 6424, 'porters</w>': 6425, 'porter’s</w>': 6426, 'pos': 6427, 'pose</w>': 6428, 'posed</w>': 6429, 'posing</w>': 6430, 'positi': 6431, 'position,</w>': 6432, 'position</w>': 6433, 'positive</w>': 6434, 'positively</w>': 6435, 'posses': 6436, 'possession</w>': 6437, 'possi': 6438, 'possible': 6439, 'possible,</w>': 6440, 'possible.</w>': 6441, 'possible</w>': 6442, 'possible?”</w>': 6443, 'possibly</w>': 6444, 'post': 6445, 'posts</w>': 6446, 'pot-house': 6447, 'pot-houses,</w>': 6448, 'pot</w>': 6449, 'poth': 6450, 'poun': 6451, 'pounced</w>': 6452, 'pour</w>': 6453, 'pouring</w>': 6454, 'pover': 6455, 'poverty,</w>': 6456, 'poverty</w>': 6457, 'pow': 6458, 'powder,</w>': 6459, 'power</w>': 6460, 'pp': 6461, 'pped</w>': 6462, 'pping</w>': 6463, 'pr': 6464, 'pra': 6465, 'practi': 6466, 'practic': 6467, 'practical</w>': 6468, 'practicalit': 6469, 'practically</w>': 6470, 'practised,</w>': 6471, 'practised</w>': 6472, 'pray': 6473, 'pray,</w>': 6474, 'pray</w>': 6475, 'prayed,</w>': 6476, 'prayed</w>': 6477, 'prayers': 6478, 'prayers</w>': 6479, 'pre': 6480, 'preced': 6481, 'preci': 6482, 'precious</w>': 6483, 'precise</w>': 6484, 'precisely</w>': 6485, 'prejudic': 6486, 'prejudices</w>': 6487, 'preoccup': 6488, 'prepar': 6489, 'prepared</w>': 6490, 'preparing</w>': 6491, 'preposses': 6492, 'prepossessing</w>': 6493, 'pres': 6494, 'presence</w>': 6495, 'present': 6496, 'present.</w>': 6497, 'present</w>': 6498, 'presented</w>': 6499, 'presentim': 6500, 'presentiment': 6501, 'presenting</w>': 6502, 'preser': 6503, 'press</w>': 6504, 'pressed</w>': 6505, 'pressing</w>': 6506, 'preten': 6507, 'pretending</w>': 6508, 'pretext</w>': 6509, 'prett': 6510, 'pretty,</w>': 6511, 'pretty</w>': 6512, 'prevent</w>': 6513, 'prevented</w>': 6514, 'previous</w>': 6515, 'pri': 6516, 'price</w>': 6517, 'prick</w>': 6518, 'priest': 6519, 'priest,</w>': 6520, 'priest,”</w>': 6521, 'priest</w>': 6522, 'prin': 6523, 'princi': 6524, 'princip': 6525, 'principle</w>': 6526, 'prison': 6527, 'priv': 6528, 'private</w>': 6529, 'pro': 6530, 'prob': 6531, 'probab': 6532, 'probably</w>': 6533, 'proble': 6534, 'process</w>': 6535, 'produ': 6536, 'profes': 6537, 'profound</w>': 6538, 'progres': 6539, 'progress</w>': 6540, 'progressive</w>': 6541, 'proje': 6542, 'prom': 6543, 'promi': 6544, 'promise': 6545, 'promise</w>': 6546, 'promise?</w>': 6547, 'promised</w>': 6548, 'pron': 6549, 'pronounced</w>': 6550, 'proof</w>': 6551, 'proper': 6552, 'properly</w>': 6553, 'propert': 6554, 'property,</w>': 6555, 'proportion': 6556, 'propounds</w>': 6557, 'prote': 6558, 'prou': 6559, 'proud</w>': 6560, 'prov': 6561, 'proves</w>': 6562, 'provid': 6563, 'provided,</w>': 6564, 'providenti': 6565, 'provinc': 6566, 'province</w>': 6567, 'prud': 6568, 'prudence</w>': 6569, 'ps,</w>': 6570, 'ps</w>': 6571, 'psychological</w>': 6572, 'pu': 6573, 'public</w>': 6574, 'publish': 6575, 'pudding</w>': 6576, 'puff': 6577, 'pul': 6578, 'pull</w>': 6579, 'pulled</w>': 6580, 'pulling</w>': 6581, 'pulls</w>': 6582, 'pun': 6583, 'pur': 6584, 'purcha': 6585, 'pure</w>': 6586, 'purely</w>': 6587, 'purpo': 6588, 'purpose;</w>': 6589, 'purpose</w>': 6590, 'purse</w>': 6591, 'pursu': 6592, 'pursuit,</w>': 6593, 'pushed</w>': 6594, 'pushing</w>': 6595, 'put': 6596, 'put</w>': 6597, 'puts</w>': 6598, 'putting</w>': 6599, 'qu': 6600, 'qual': 6601, 'quar': 6602, 'quarre': 6603, 'quarrel</w>': 6604, 'quarrelled</w>': 6605, 'quarrelling</w>': 6606, 'quarter': 6607, 'quarter...</w>': 6608, 'quarter</w>': 6609, 'que': 6610, 'queen</w>': 6611, 'queer': 6612, 'queer,</w>': 6613, 'queer.</w>': 6614, 'queer</w>': 6615, 'question': 6616, 'question,</w>': 6617, 'question.</w>': 6618, 'question;</w>': 6619, 'question</w>': 6620, 'questioning</w>': 6621, 'questions,</w>': 6622, 'questions</w>': 6623, 'qui': 6624, 'quick': 6625, 'quick</w>': 6626, 'quicker</w>': 6627, 'quickly,</w>': 6628, 'quickly.</w>': 6629, 'quickly</w>': 6630, 'quiet,</w>': 6631, 'quiet</w>': 6632, 'quietly,</w>': 6633, 'quietly</w>': 6634, 'quil': 6635, 'quilt</w>': 6636, 'quite</w>': 6637, 'quivering</w>': 6638, 'r': 6639, 'r</w>': 6640, 'ra': 6641, 'rac': 6642, 'ractic': 6643, 'racticality</w>': 6644, 'rad': 6645, 'radi': 6646, 'radiant</w>': 6647, 'rag': 6648, 'rag</w>': 6649, 'rage</w>': 6650, 'ragged</w>': 6651, 'rags,</w>': 6652, 'rags.</w>': 6653, 'rags</w>': 6654, 'railing,</w>': 6655, 'railing</w>': 6656, 'railway</w>': 6657, 'rain</w>': 6658, 'raise</w>': 6659, 'raised</w>': 6660, 'raising</w>': 6661, 'ran': 6662, 'ran</w>': 6663, 'rand': 6664, 'rang': 6665, 'rang</w>': 6666, 'rank</w>': 6667, 'rap': 6668, 'rapid': 6669, 'rapid</w>': 6670, 'rapidity,</w>': 6671, 'rapidly</w>': 6672, 'rapture.</w>': 6673, 'ras': 6674, 'raspber': 6675, 'raspberry</w>': 6676, 'rather,</w>': 6677, 'rather</w>': 6678, 'ration</w>': 6679, 'rational</w>': 6680, 'rav': 6681, 'rave</w>': 6682, 'raz': 6683, 're': 6684, 're-': 6685, 're.</w>': 6686, 're</w>': 6687, 'rea': 6688, 'reach</w>': 6689, 'reached</w>': 6690, 'reaching</w>': 6691, 'read': 6692, 'read,</w>': 6693, 'read</w>': 6694, 'reading,</w>': 6695, 'reading</w>': 6696, 'ready</w>': 6697, 'real': 6698, 'real</w>': 6699, 'realise</w>': 6700, 'realised</w>': 6701, 'realising</w>': 6702, 'reality.</w>': 6703, 'really</w>': 6704, 'reas': 6705, 'reason': 6706, 'reason,</w>': 6707, 'reason</w>': 6708, 'reasoning,</w>': 6709, 'reasoning</w>': 6710, 'reasons</w>': 6711, 'rec': 6712, 'recall</w>': 6713, 'recalled</w>': 6714, 'recalling</w>': 6715, 'recei': 6716, 'receiv': 6717, 'receive</w>': 6718, 'received.</w>': 6719, 'received</w>': 6720, 'recent</w>': 6721, 'reck': 6722, 'reckon</w>': 6723, 'reckoned</w>': 6724, 'reckoning</w>': 6725, 'reco': 6726, 'recognise</w>': 6727, 'recognised</w>': 6728, 'recognising</w>': 6729, 'recolle': 6730, 'recollec': 6731, 'recollect</w>': 6732, 'recollected</w>': 6733, 'recollection</w>': 6734, 'recon': 6735, 'reconcili': 6736, 'recover': 6737, 'recovered</w>': 6738, 'recovering</w>': 6739, 'recovery,</w>': 6740, 'recovery</w>': 6741, 'recur': 6742, 'red,</w>': 6743, 'red</w>': 6744, 'reddish</w>': 6745, 'redeem': 6746, 'redou': 6747, 'redoubled</w>': 6748, 'ree</w>': 6749, 'ref': 6750, 'refin': 6751, 'refined</w>': 6752, 'refle': 6753, 'reflecting</w>': 6754, 'reflection</w>': 6755, 'refr': 6756, 'refresh': 6757, 'refreshing</w>': 6758, 'refu': 6759, 'refuse</w>': 6760, 'reg': 6761, 'regar': 6762, 'regard</w>': 6763, 'regarded</w>': 6764, 'regards</w>': 6765, 'regi': 6766, 'regiment</w>': 6767, 'regre': 6768, 'regret</w>': 6769, 'regul': 6770, 'regular</w>': 6771, 'rel': 6772, 'rel</w>': 6773, 'relap': 6774, 'relation</w>': 6775, 'relations</w>': 6776, 'reli': 6777, 'relief': 6778, 'relief</w>': 6779, 'reliev': 6780, 'relieved</w>': 6781, 'religi': 6782, 'religious</w>': 6783, 'relish': 6784, 'relish</w>': 6785, 'reluct': 6786, 'reluctantly,</w>': 6787, 'reluctantly.</w>': 6788, 'reluctantly</w>': 6789, 'rely</w>': 6790, 'rem': 6791, 'remain': 6792, 'remain</w>': 6793, 'remained,</w>': 6794, 'remained.</w>': 6795, 'remained</w>': 6796, 'remaining</w>': 6797, 'remar': 6798, 'remark': 6799, 'remarkably</w>': 6800, 'remarked</w>': 6801, 'remarks</w>': 6802, 'rememb': 6803, 'remember': 6804, 'remember,</w>': 6805, 'remember.</w>': 6806, 'remember</w>': 6807, 'remember?</w>': 6808, 'remembered</w>': 6809, 'remembering</w>': 6810, 'remittance</w>': 6811, 'remote</w>': 6812, 'ren': 6813, 'rent</w>': 6814, 'rep': 6815, 'repay</w>': 6816, 'repe': 6817, 'repeat': 6818, 'repeat</w>': 6819, 'repeated,</w>': 6820, 'repeated</w>': 6821, 'repeating</w>': 6822, 'repl': 6823, 'repli': 6824, 'replied,</w>': 6825, 'replied</w>': 6826, 'reply,</w>': 6827, 'reply.</w>': 6828, 'reply</w>': 6829, 'repor': 6830, 'report</w>': 6831, 'repro': 6832, 'repul': 6833, 'repulsion,</w>': 6834, 'repulsion</w>': 6835, 'reput': 6836, 'request': 6837, 'request,</w>': 6838, 'request</w>': 6839, 'res': 6840, 'res.</w>': 6841, 'res</w>': 6842, 'reser': 6843, 'reserve</w>': 6844, 'resist': 6845, 'resist</w>': 6846, 'resolu': 6847, 'resolut': 6848, 'resolute</w>': 6849, 'resolutel': 6850, 'resolutely,</w>': 6851, 'resolutely</w>': 6852, 'resolved</w>': 6853, 'respe': 6854, 'respect': 6855, 'respect,</w>': 6856, 'respect</w>': 6857, 'respectable</w>': 6858, 'respected</w>': 6859, 'respectful</w>': 6860, 'respon': 6861, 'responsi': 6862, 'rest': 6863, 'rest,</w>': 6864, 'rest</w>': 6865, 'restaurant,</w>': 6866, 'restaurant</w>': 6867, 'rested</w>': 6868, 'resting,</w>': 6869, 'resting</w>': 6870, 'restless': 6871, 'restor': 6872, 'restore</w>': 6873, 'restrain</w>': 6874, 'resul': 6875, 'resum': 6876, 'retain</w>': 6877, 'retained</w>': 6878, 'reti': 6879, 'retired</w>': 6880, 'return</w>': 6881, 'returned</w>': 6882, 'rev': 6883, 'reve': 6884, 'rever': 6885, 'reverently</w>': 6886, 'revi': 6887, 'revol': 6888, 'revolu': 6889, 'revolution</w>': 6890, 'revulsion</w>': 6891, 'ri': 6892, 'rice</w>': 6893, 'rich</w>': 6894, 'rid</w>': 6895, 'ridi': 6896, 'ridiculous</w>': 6897, 'ries</w>': 6898, 'right': 6899, 'right!”</w>': 6900, 'right,</w>': 6901, 'right....</w>': 6902, 'right.</w>': 6903, 'right.”</w>': 6904, 'right</w>': 6905, 'right?</w>': 6906, 'ring': 6907, 'ring,</w>': 6908, 'ring.</w>': 6909, 'ring</w>': 6910, 'ringing</w>': 6911, 'rings</w>': 6912, 'ris': 6913, 'rise</w>': 6914, 'rising</w>': 6915, 'risk,</w>': 6916, 'rist': 6917, 'rit': 6918, 'rite</w>': 6919, 'ro': 6920, 'road': 6921, 'road,</w>': 6922, 'road.</w>': 6923, 'road</w>': 6924, 'roared</w>': 6925, 'rob': 6926, 'robber': 6927, 'robbing</w>': 6928, 'rock_.</w>': 6929, 'rogu': 6930, 'rolled</w>': 6931, 'rolling</w>': 6932, 'romantic</w>': 6933, 'roo': 6934, 'room': 6935, 'room,</w>': 6936, 'room.</w>': 6937, 'room;</w>': 6938, 'room</w>': 6939, 'rooms,</w>': 6940, 'rooms.</w>': 6941, 'rooms</w>': 6942, 'rooted</w>': 6943, 'ros': 6944, 'rose</w>': 6945, 'rou': 6946, 'rouble.</w>': 6947, 'rouble</w>': 6948, 'roubles,</w>': 6949, 'roubles.</w>': 6950, 'roubles;</w>': 6951, 'roubles</w>': 6952, 'rough': 6953, 'roughly</w>': 6954, 'roun': 6955, 'round,</w>': 6956, 'round.</w>': 6957, 'round</w>': 6958, 'roused</w>': 6959, 'rousing</w>': 6960, 'rov': 6961, 'roval.</w>': 6962, 'row,</w>': 6963, 'row</w>': 6964, 'ru': 6965, 'rubb': 6966, 'rubbed</w>': 6967, 'rubbing</w>': 6968, 'rubbish!”</w>': 6969, 'rud': 6970, 'rude': 6971, 'rude</w>': 6972, 'rudely</w>': 6973, 'rudeness</w>': 6974, 'ruf': 6975, 'ruin</w>': 6976, 'rum': 6977, 'rummaging</w>': 6978, 'run': 6979, 'run</w>': 6980, 'running</w>': 6981, 'rup': 6982, 'rushed</w>': 6983, 'rushing</w>': 6984, 'rustle</w>': 6985, 'ry': 6986, 'ry,</w>': 6987, 'ry.</w>': 6988, 'ry</w>': 6989, 'rying</w>': 6990, 's': 6991, 's!</w>': 6992, 's!”</w>': 6993, 's,</w>': 6994, 's,’</w>': 6995, 's,”</w>': 6996, 's-': 6997, 's--': 6998, 's--a</w>': 6999, 's--and</w>': 7000, 's--he</w>': 7001, 's--that</w>': 7002, 's--that’s</w>': 7003, 's--you</w>': 7004, 's....</w>': 7005, 's....”</w>': 7006, 's...</w>': 7007, 's.</w>': 7008, 's.’</w>': 7009, 's.”</w>': 7010, 's:</w>': 7011, 's;</w>': 7012, 's</w>': 7013, 's?</w>': 7014, 's?”</w>': 7015, 's_</w>': 7016, 'sa': 7017, 'sac': 7018, 'sack</w>': 7019, 'sacri': 7020, 'sacrific': 7021, 'sacrifice,</w>': 7022, 'sacrificing</w>': 7023, 'sad': 7024, 'sad</w>': 7025, 'said,</w>': 7026, 'said.</w>': 7027, 'said:</w>': 7028, 'said</w>': 7029, 'sake': 7030, 'sake,</w>': 7031, 'sake.</w>': 7032, 'sake</w>': 7033, 'sal': 7034, 'salary</w>': 7035, 'saloon</w>': 7036, 'salt,</w>': 7037, 'sam': 7038, 'same,</w>': 7039, 'same</w>': 7040, 'samov': 7041, 'san': 7042, 'sank</w>': 7043, 'sat': 7044, 'sat</w>': 7045, 'satisfac': 7046, 'satisfaction.</w>': 7047, 'satisfaction</w>': 7048, 'satisfied</w>': 7049, 'sauc': 7050, 'saucer</w>': 7051, 'saus': 7052, 'sav': 7053, 'savage</w>': 7054, 'save</w>': 7055, 'saved</w>': 7056, 'saw</w>': 7057, 'say': 7058, 'say!</w>': 7059, 'say!”</w>': 7060, 'say,</w>': 7061, 'say.</w>': 7062, 'say</w>': 7063, 'say?</w>': 7064, 'say?”</w>': 7065, 'saying': 7066, 'saying,</w>': 7067, 'saying</w>': 7068, 'saying?</w>': 7069, 'says,</w>': 7070, 'says</w>': 7071, 'sc': 7072, 'scaff': 7073, 'scand': 7074, 'scandal': 7075, 'scandal,</w>': 7076, 'scandal.</w>': 7077, 'scandal</w>': 7078, 'scanned</w>': 7079, 'scanning</w>': 7080, 'scar': 7081, 'scarcely</w>': 7082, 'scared</w>': 7083, 'scen': 7084, 'scene</w>': 7085, 'scent': 7086, 'scent.</w>': 7087, 'school.</w>': 7088, 'school</w>': 7089, 'sci': 7090, 'science</w>': 7091, 'scor': 7092, 'scoundrel': 7093, 'scoundrel,</w>': 7094, 'scow': 7095, 'scra': 7096, 'scre': 7097, 'scream': 7098, 'scream.</w>': 7099, 'screamed.</w>': 7100, 'screamed</w>': 7101, 'screaming,</w>': 7102, 'screwed</w>': 7103, 'scri': 7104, 'scrib': 7105, 'scru': 7106, 'scrupul': 7107, 'scrutin': 7108, 'scrutinised</w>': 7109, 'scuffling</w>': 7110, 'se': 7111, 'se,</w>': 7112, 'se.</w>': 7113, 'se;</w>': 7114, 'se</w>': 7115, 'sear': 7116, 'search': 7117, 'search</w>': 7118, 'searching': 7119, 'searching</w>': 7120, 'seat,</w>': 7121, 'seat.</w>': 7122, 'seat</w>': 7123, 'sec': 7124, 'secon': 7125, 'second,</w>': 7126, 'second</w>': 7127, 'secondly,</w>': 7128, 'seconds</w>': 7129, 'secre': 7130, 'secret': 7131, 'secret</w>': 7132, 'secretary</w>': 7133, 'secur': 7134, 'security</w>': 7135, 'sed': 7136, 'sed,</w>': 7137, 'sed.</w>': 7138, 'sed:</w>': 7139, 'sed</w>': 7140, 'see': 7141, 'see!</w>': 7142, 'see,</w>': 7143, 'see;</w>': 7144, 'see</w>': 7145, 'see?</w>': 7146, 'seeing</w>': 7147, 'seek</w>': 7148, 'seeking</w>': 7149, 'seem': 7150, 'seem</w>': 7151, 'seemed</w>': 7152, 'seeming</w>': 7153, 'seems,</w>': 7154, 'seems</w>': 7155, 'seen,</w>': 7156, 'seen.</w>': 7157, 'seen</w>': 7158, 'sees</w>': 7159, 'seized</w>': 7160, 'seizing</w>': 7161, 'sel': 7162, 'self-': 7163, 'self-confid': 7164, 'self-confidence</w>': 7165, 'sell': 7166, 'sell</w>': 7167, 'selling</w>': 7168, 'sely,</w>': 7169, 'sely</w>': 7170, 'semblance</w>': 7171, 'sembled</w>': 7172, 'sen': 7173, 'send</w>': 7174, 'sending</w>': 7175, 'sensation,</w>': 7176, 'sensation.</w>': 7177, 'sensation</w>': 7178, 'sensations</w>': 7179, 'sense': 7180, 'sense</w>': 7181, 'senses.</w>': 7182, 'senses</w>': 7183, 'sensi': 7184, 'sensible,</w>': 7185, 'sensible</w>': 7186, 'sensiti': 7187, 'sent': 7188, 'sent</w>': 7189, 'sentence</w>': 7190, 'sentiment': 7191, 'sentimental</w>': 7192, 'sentiments,</w>': 7193, 'separ': 7194, 'separation</w>': 7195, 'ser': 7196, 'seri': 7197, 'serious': 7198, 'serious</w>': 7199, 'seriously.</w>': 7200, 'seriously</w>': 7201, 'serv': 7202, 'servan': 7203, 'servant,</w>': 7204, 'servant</w>': 7205, 'served</w>': 7206, 'servic': 7207, 'service,</w>': 7208, 'service;</w>': 7209, 'service</w>': 7210, 'service?”</w>': 7211, 'ses': 7212, 'ses,</w>': 7213, 'ses.</w>': 7214, 'ses</w>': 7215, 'set,</w>': 7216, 'set.</w>': 7217, 'set</w>': 7218, 'sett': 7219, 'setting</w>': 7220, 'settled,</w>': 7221, 'settled</w>': 7222, 'seven': 7223, 'seven.</w>': 7224, 'seven</w>': 7225, 'sevent': 7226, 'sevente': 7227, 'sever': 7228, 'several</w>': 7229, 'severely,</w>': 7230, 'sewing</w>': 7231, 'sh': 7232, 'sh</w>': 7233, 'sha': 7234, 'shabb': 7235, 'shabby</w>': 7236, 'shad': 7237, 'shade</w>': 7238, 'shadow</w>': 7239, 'shaft,</w>': 7240, 'shaft</w>': 7241, 'shake</w>': 7242, 'shaken</w>': 7243, 'shaking</w>': 7244, 'shall</w>': 7245, 'shame': 7246, 'shame,</w>': 7247, 'shameful</w>': 7248, 'shan’t</w>': 7249, 'shap': 7250, 'share': 7251, 'share</w>': 7252, 'shared</w>': 7253, 'shares</w>': 7254, 'sharp</w>': 7255, 'sharpl': 7256, 'sharply,</w>': 7257, 'sharply</w>': 7258, 'shat': 7259, 'shattered</w>': 7260, 'shawl': 7261, 'shawl</w>': 7262, 'shawls,</w>': 7263, 'shawls</w>': 7264, 'she': 7265, 'she,</w>': 7266, 'she</w>': 7267, 'shed,</w>': 7268, 'sheet</w>': 7269, 'sheets</w>': 7270, 'she’d</w>': 7271, 'she’ll</w>': 7272, 'she’s</w>': 7273, 'shi': 7274, 'shine</w>': 7275, 'ship,</w>': 7276, 'ship</w>': 7277, 'shir': 7278, 'shirt,</w>': 7279, 'shirt</w>': 7280, 'shirts</w>': 7281, 'shiver': 7282, 'shiver</w>': 7283, 'shivering,</w>': 7284, 'shivering</w>': 7285, 'sho': 7286, 'shock': 7287, 'shock,</w>': 7288, 'shock</w>': 7289, 'shoes,</w>': 7290, 'shone</w>': 7291, 'shoo': 7292, 'shook.</w>': 7293, 'shook</w>': 7294, 'shop': 7295, 'shop,</w>': 7296, 'shop.</w>': 7297, 'shop</w>': 7298, 'shops</w>': 7299, 'shor': 7300, 'short': 7301, 'short,</w>': 7302, 'short-': 7303, 'short</w>': 7304, 'shortly</w>': 7305, 'shot</w>': 7306, 'shou': 7307, 'should</w>': 7308, 'shoulder.</w>': 7309, 'shoulder</w>': 7310, 'shoulders,</w>': 7311, 'shoulders.</w>': 7312, 'shoulders</w>': 7313, 'shouldn’t</w>': 7314, 'shout</w>': 7315, 'shouted,</w>': 7316, 'shouted</w>': 7317, 'shouting,</w>': 7318, 'shouting</w>': 7319, 'show</w>': 7320, 'showed</w>': 7321, 'shower</w>': 7322, 'showered</w>': 7323, 'showing</w>': 7324, 'shown</w>': 7325, 'shows</w>': 7326, 'shr': 7327, 'shreds</w>': 7328, 'shri': 7329, 'shrie': 7330, 'shrilly</w>': 7331, 'shrin': 7332, 'shrugged</w>': 7333, 'shudd': 7334, 'shudder</w>': 7335, 'shuddered.</w>': 7336, 'shuddered</w>': 7337, 'shut': 7338, 'shut</w>': 7339, 'shy</w>': 7340, 'si': 7341, 'sible</w>': 7342, 'sick': 7343, 'sick,</w>': 7344, 'sick</w>': 7345, 'sickening</w>': 7346, 'sickly</w>': 7347, 'side': 7348, 'side,</w>': 7349, 'side.</w>': 7350, 'side</w>': 7351, 'sides,</w>': 7352, 'sides;</w>': 7353, 'sides</w>': 7354, 'sigh': 7355, 'sigh</w>': 7356, 'sighed</w>': 7357, 'sight,</w>': 7358, 'sight.</w>': 7359, 'sight</w>': 7360, 'sign': 7361, 'sign</w>': 7362, 'signat': 7363, 'signature</w>': 7364, 'signatures</w>': 7365, 'signed</w>': 7366, 'signific': 7367, 'significantly.</w>': 7368, 'signing</w>': 7369, 'signs</w>': 7370, 'sil': 7371, 'silence,</w>': 7372, 'silence.</w>': 7373, 'silence</w>': 7374, 'silent!</w>': 7375, 'silent,</w>': 7376, 'silent.</w>': 7377, 'silent</w>': 7378, 'silk</w>': 7379, 'sill': 7380, 'silly!”</w>': 7381, 'silver': 7382, 'silver</w>': 7383, 'sily</w>': 7384, 'simp': 7385, 'simple</w>': 7386, 'simplet': 7387, 'simplic': 7388, 'simplicity</w>': 7389, 'simply,</w>': 7390, 'simply</w>': 7391, 'sin': 7392, 'sin,</w>': 7393, 'since</w>': 7394, 'sincer': 7395, 'sincerely</w>': 7396, 'sing': 7397, 'sing,</w>': 7398, 'sing.</w>': 7399, 'sing</w>': 7400, 'singing,</w>': 7401, 'singing</w>': 7402, 'single</w>': 7403, 'sinister</w>': 7404, 'sink': 7405, 'sink,</w>': 7406, 'sink</w>': 7407, 'sinking</w>': 7408, 'sion': 7409, 'sion,</w>': 7410, 'sion.</w>': 7411, 'sion</w>': 7412, 'sions</w>': 7413, 'sipping</w>': 7414, 'sir': 7415, 'sir,</w>': 7416, 'sir,”</w>': 7417, 'sir.</w>': 7418, 'sir.”</w>': 7419, 'sir?”</w>': 7420, 'sist': 7421, 'sister': 7422, 'sister,</w>': 7423, 'sister.</w>': 7424, 'sister</w>': 7425, 'sister?</w>': 7426, 'sister’s</w>': 7427, 'sit</w>': 7428, 'sits</w>': 7429, 'sitting,</w>': 7430, 'sitting</w>': 7431, 'situ': 7432, 'situation</w>': 7433, 'sive</w>': 7434, 'sively.</w>': 7435, 'sively</w>': 7436, 'six': 7437, 'six,</w>': 7438, 'six</w>': 7439, 'sixty</w>': 7440, 'siz': 7441, 'size</w>': 7442, 'sk': 7443, 'skin': 7444, 'skir': 7445, 'skirt</w>': 7446, 'skull.</w>': 7447, 'skull</w>': 7448, 'sky</w>': 7449, 'sl': 7450, 'sla': 7451, 'sland': 7452, 'slander</w>': 7453, 'sle': 7454, 'sleep': 7455, 'sleep,</w>': 7456, 'sleep.</w>': 7457, 'sleep</w>': 7458, 'sleeping</w>': 7459, 'sleeps</w>': 7460, 'slept</w>': 7461, 'sli': 7462, 'slight</w>': 7463, 'slightest</w>': 7464, 'slightly</w>': 7465, 'slip': 7466, 'slip</w>': 7467, 'slipped</w>': 7468, 'slipping</w>': 7469, 'slop': 7470, 'slow,</w>': 7471, 'slow</w>': 7472, 'slowly,</w>': 7473, 'slowly</w>': 7474, 'sly': 7475, 'sly</w>': 7476, 'sm': 7477, 'small': 7478, 'small,</w>': 7479, 'small</w>': 7480, 'smaller</w>': 7481, 'smar': 7482, 'smart': 7483, 'smart</w>': 7484, 'smartly</w>': 7485, 'smartness,</w>': 7486, 'smartness</w>': 7487, 'smeared</w>': 7488, 'smearing</w>': 7489, 'smell</w>': 7490, 'smelling</w>': 7491, 'smi': 7492, 'smile,</w>': 7493, 'smile.</w>': 7494, 'smile</w>': 7495, 'smiled,</w>': 7496, 'smiled</w>': 7497, 'smiling.</w>': 7498, 'smiling</w>': 7499, 'smith': 7500, 'smoke</w>': 7501, 'smoking</w>': 7502, 'smoo': 7503, 'smooth': 7504, 'smooth</w>': 7505, 'sna': 7506, 'snapped</w>': 7507, 'snat': 7508, 'snatch</w>': 7509, 'snatched</w>': 7510, 'sne': 7511, 'sneering</w>': 7512, 'snigg': 7513, 'snu': 7514, 'snug</w>': 7515, 'sn’t</w>': 7516, 'so': 7517, 'so!</w>': 7518, 'so,</w>': 7519, 'so,”</w>': 7520, 'so...</w>': 7521, 'so.</w>': 7522, 'so.”</w>': 7523, 'so;</w>': 7524, 'so</w>': 7525, 'so?”</w>': 7526, 'soaked</w>': 7527, 'soap</w>': 7528, 'soci': 7529, 'societ': 7530, 'society.</w>': 7531, 'society</w>': 7532, 'sock': 7533, 'sock</w>': 7534, 'socks,</w>': 7535, 'sof': 7536, 'sofa': 7537, 'sofa!</w>': 7538, 'sofa,</w>': 7539, 'sofa.</w>': 7540, 'sofa</w>': 7541, 'soft,</w>': 7542, 'soft</w>': 7543, 'softened</w>': 7544, 'softly,</w>': 7545, 'softly</w>': 7546, 'sol': 7547, 'sold</w>': 7548, 'soldi': 7549, 'soldier</w>': 7550, 'sole': 7551, 'solely</w>': 7552, 'solid</w>': 7553, 'som': 7554, 'sombre</w>': 7555, 'some': 7556, 'some,</w>': 7557, 'some</w>': 7558, 'somebody</w>': 7559, 'somehow.</w>': 7560, 'somehow</w>': 7561, 'someone</w>': 7562, 'something': 7563, 'something,</w>': 7564, 'something...</w>': 7565, 'something.</w>': 7566, 'something</w>': 7567, 'sometimes!</w>': 7568, 'sometimes</w>': 7569, 'somewhat</w>': 7570, 'somewher': 7571, 'somewhere,</w>': 7572, 'somewhere</w>': 7573, 'son': 7574, 'son,</w>': 7575, 'son</w>': 7576, 'song': 7577, 'song,</w>': 7578, 'soon': 7579, 'soon,</w>': 7580, 'soon</w>': 7581, 'sooner</w>': 7582, 'sor': 7583, 'sorrel</w>': 7584, 'sorry</w>': 7585, 'sort!”</w>': 7586, 'sort,</w>': 7587, 'sort.</w>': 7588, 'sort</w>': 7589, 'sorts,</w>': 7590, 'sorts</w>': 7591, 'sought</w>': 7592, 'soul,</w>': 7593, 'soul.</w>': 7594, 'soul</w>': 7595, 'soun': 7596, 'sound,</w>': 7597, 'sound</w>': 7598, 'sounded</w>': 7599, 'sounds,</w>': 7600, 'sounds</w>': 7601, 'soup': 7602, 'soup,</w>': 7603, 'soup.</w>': 7604, 'soup</w>': 7605, 'sp': 7606, 'spac': 7607, 'space</w>': 7608, 'spare</w>': 7609, 'spattered</w>': 7610, 'spe': 7611, 'spea': 7612, 'speak': 7613, 'speak,</w>': 7614, 'speak.</w>': 7615, 'speak</w>': 7616, 'speaker</w>': 7617, 'speaking.</w>': 7618, 'speaking</w>': 7619, 'speci': 7620, 'special': 7621, 'special</w>': 7622, 'spectac': 7623, 'spectacle</w>': 7624, 'spectat': 7625, 'spectators</w>': 7626, 'spee': 7627, 'speech,</w>': 7628, 'speech</w>': 7629, 'speeches</w>': 7630, 'spend</w>': 7631, 'spending</w>': 7632, 'spent</w>': 7633, 'spi': 7634, 'spine.</w>': 7635, 'spine</w>': 7636, 'spir': 7637, 'spirit': 7638, 'spirit,</w>': 7639, 'spirited</w>': 7640, 'spirits</w>': 7641, 'spit': 7642, 'spite': 7643, 'spite</w>': 7644, 'spiteful</w>': 7645, 'spl': 7646, 'splen': 7647, 'splendid</w>': 7648, 'split</w>': 7649, 'spo': 7650, 'spoil</w>': 7651, 'spoke</w>': 7652, 'spoken</w>': 7653, 'spontane': 7654, 'spontaneously</w>': 7655, 'spoon': 7656, 'spoon</w>': 7657, 'spoonful': 7658, 'spoonful</w>': 7659, 'spoonfuls,</w>': 7660, 'spoonfuls</w>': 7661, 'spor': 7662, 'sport,</w>': 7663, 'spot.</w>': 7664, 'spot</w>': 7665, 'spots</w>': 7666, 'spread</w>': 7667, 'spring</w>': 7668, 'squ': 7669, 'squar': 7670, 'square.</w>': 7671, 'square</w>': 7672, 'sque': 7673, 'squealing</w>': 7674, 'squeezed</w>': 7675, 'squeezing</w>': 7676, 'st': 7677, 'st!</w>': 7678, 'st,</w>': 7679, 'st.</w>': 7680, 'st:</w>': 7681, 'st;</w>': 7682, 'st</w>': 7683, 'sta': 7684, 'stac': 7685, 'stagger': 7686, 'staggered,</w>': 7687, 'staggering</w>': 7688, 'stained</w>': 7689, 'stains,</w>': 7690, 'stains</w>': 7691, 'stair': 7692, 'staircase': 7693, 'staircase,</w>': 7694, 'staircase.</w>': 7695, 'staircase</w>': 7696, 'stairs,</w>': 7697, 'stairs--': 7698, 'stairs....</w>': 7699, 'stairs.</w>': 7700, 'stairs</w>': 7701, 'stale</w>': 7702, 'stam': 7703, 'stand': 7704, 'stand</w>': 7705, 'standing,</w>': 7706, 'standing</w>': 7707, 'star': 7708, 'stare.</w>': 7709, 'stare</w>': 7710, 'stared</w>': 7711, 'staring</w>': 7712, 'start': 7713, 'start,</w>': 7714, 'start</w>': 7715, 'started,</w>': 7716, 'started.</w>': 7717, 'started</w>': 7718, 'starv': 7719, 'stat': 7720, 'state</w>': 7721, 'station': 7722, 'station,</w>': 7723, 'station.</w>': 7724, 'station</w>': 7725, 'stay,</w>': 7726, 'stay</w>': 7727, 'stayed</w>': 7728, 'ste': 7729, 'stead': 7730, 'steadily</w>': 7731, 'steal</w>': 7732, 'stealthily</w>': 7733, 'steam': 7734, 'sted,</w>': 7735, 'sted</w>': 7736, 'steel</w>': 7737, 'sten': 7738, 'stench</w>': 7739, 'step': 7740, 'step,</w>': 7741, 'step-': 7742, 'step-mother</w>': 7743, 'step.</w>': 7744, 'step</w>': 7745, 'stepped</w>': 7746, 'steps,</w>': 7747, 'steps.</w>': 7748, 'steps</w>': 7749, 'ster': 7750, 'ster.</w>': 7751, 'stern': 7752, 'stern</w>': 7753, 'sternly,</w>': 7754, 'sternly</w>': 7755, 'sti': 7756, 'stic': 7757, 'stick': 7758, 'stick,</w>': 7759, 'sticky</w>': 7760, 'stiff</w>': 7761, 'stifling</w>': 7762, 'still': 7763, 'still,</w>': 7764, 'still.</w>': 7765, 'still</w>': 7766, 'stimul': 7767, 'stin': 7768, 'sting</w>': 7769, 'stinking</w>': 7770, 'stir': 7771, 'stirring.</w>': 7772, 'stle</w>': 7773, 'stock': 7774, 'stock</w>': 7775, 'stockings</w>': 7776, 'stol': 7777, 'stole</w>': 7778, 'stone,</w>': 7779, 'stone</w>': 7780, 'stones,</w>': 7781, 'stones</w>': 7782, 'stoo': 7783, 'stood,</w>': 7784, 'stood.</w>': 7785, 'stood</w>': 7786, 'stooped</w>': 7787, 'stop': 7788, 'stopp': 7789, 'stopped,</w>': 7790, 'stopped</w>': 7791, 'stopping</w>': 7792, 'stor': 7793, 'storey': 7794, 'storey,</w>': 7795, 'storey.</w>': 7796, 'storey</w>': 7797, 'storeys</w>': 7798, 'storied</w>': 7799, 'storm</w>': 7800, 'story,</w>': 7801, 'story.</w>': 7802, 'story</w>': 7803, 'stout</w>': 7804, 'stov': 7805, 'stove,</w>': 7806, 'stove</w>': 7807, 'str': 7808, 'stra': 7809, 'straigh': 7810, 'straight,</w>': 7811, 'straight</w>': 7812, 'straightforward</w>': 7813, 'strain': 7814, 'strained</w>': 7815, 'strang': 7816, 'strange!</w>': 7817, 'strange.</w>': 7818, 'strange</w>': 7819, 'strangely.</w>': 7820, 'strangely</w>': 7821, 'stranger,</w>': 7822, 'stranger</w>': 7823, 'strangers</w>': 7824, 'strangest</w>': 7825, 'straw</w>': 7826, 'strayed</w>': 7827, 'stre': 7828, 'strea': 7829, 'stream': 7830, 'street': 7831, 'street!</w>': 7832, 'street,</w>': 7833, 'street.</w>': 7834, 'street.”</w>': 7835, 'street</w>': 7836, 'streets.</w>': 7837, 'streets</w>': 7838, 'streng': 7839, 'strength': 7840, 'strength,</w>': 7841, 'strength</w>': 7842, 'stret': 7843, 'stretched</w>': 7844, 'stri': 7845, 'strike</w>': 7846, 'striking</w>': 7847, 'string</w>': 7848, 'strip</w>': 7849, 'strong': 7850, 'strong</w>': 7851, 'stronger</w>': 7852, 'strongly</w>': 7853, 'stru': 7854, 'struck</w>': 7855, 'struggl': 7856, 'struggled</w>': 7857, 'strust': 7858, 'sts,</w>': 7859, 'sts</w>': 7860, 'stu': 7861, 'stuck</w>': 7862, 'stud': 7863, 'student': 7864, 'student,</w>': 7865, 'student</w>': 7866, 'student?”</w>': 7867, 'students,</w>': 7868, 'student’s</w>': 7869, 'studi': 7870, 'studies</w>': 7871, 'study': 7872, 'studying</w>': 7873, 'stuff': 7874, 'stuff</w>': 7875, 'stuffed</w>': 7876, 'stuffing</w>': 7877, 'stum': 7878, 'stumbled</w>': 7879, 'stun': 7880, 'stup': 7881, 'stupefaction</w>': 7882, 'stupid': 7883, 'stupid,</w>': 7884, 'stupid</w>': 7885, 'stupidly</w>': 7886, 'sty': 7887, 'sty</w>': 7888, 'style,</w>': 7889, 'style</w>': 7890, 'su': 7891, 'sub': 7892, 'subje': 7893, 'subject': 7894, 'subject</w>': 7895, 'submis': 7896, 'submissive</w>': 7897, 'subside.</w>': 7898, 'suc': 7899, 'succe': 7900, 'succeed</w>': 7901, 'succeeded</w>': 7902, 'success': 7903, 'success</w>': 7904, 'successfully</w>': 7905, 'such-and-such</w>': 7906, 'such</w>': 7907, 'sudden': 7908, 'sudden,</w>': 7909, 'sudden</w>': 7910, 'suddenly': 7911, 'suddenly,</w>': 7912, 'suddenly.</w>': 7913, 'suddenly</w>': 7914, 'suffer': 7915, 'suffer</w>': 7916, 'suffered</w>': 7917, 'suffering.</w>': 7918, 'suffering</w>': 7919, 'sufferings</w>': 7920, 'sugar</w>': 7921, 'sugg': 7922, 'suit': 7923, 'suit--': 7924, 'suit</w>': 7925, 'suitable</w>': 7926, 'suited</w>': 7927, 'sul': 7928, 'sullen</w>': 7929, 'sum': 7930, 'sume</w>': 7931, 'sumed</w>': 7932, 'summer</w>': 7933, 'summon': 7934, 'summon</w>': 7935, 'summons</w>': 7936, 'sump': 7937, 'sun': 7938, 'sun</w>': 7939, 'sunken</w>': 7940, 'sup': 7941, 'super': 7942, 'supercili': 7943, 'superintendent,</w>': 7944, 'superintendent.</w>': 7945, 'superintendent</w>': 7946, 'superst': 7947, 'superstiti': 7948, 'suppo': 7949, 'suppor': 7950, 'support</w>': 7951, 'suppose': 7952, 'suppose,</w>': 7953, 'suppose</w>': 7954, 'supposed</w>': 7955, 'supposing</w>': 7956, 'sur': 7957, 'sure': 7958, 'sure,</w>': 7959, 'sure</w>': 7960, 'surely</w>': 7961, 'surged</w>': 7962, 'surpri': 7963, 'surprise,</w>': 7964, 'surprise.</w>': 7965, 'surprise</w>': 7966, 'surprised.</w>': 7967, 'surprised</w>': 7968, 'surround': 7969, 'surrounding</w>': 7970, 'surroundings,</w>': 7971, 'surroundings</w>': 7972, 'sus': 7973, 'suspe': 7974, 'suspect</w>': 7975, 'suspic': 7976, 'suspicion': 7977, 'suspicion!</w>': 7978, 'suspicion.</w>': 7979, 'suspicion</w>': 7980, 'suspicious</w>': 7981, 'sw': 7982, 'swa': 7983, 'swallow': 7984, 'swallowed</w>': 7985, 'swarming</w>': 7986, 'swe': 7987, 'swear': 7988, 'swear</w>': 7989, 'sweet': 7990, 'swing</w>': 7991, 'swinging</w>': 7992, 'swo': 7993, 'swollen.</w>': 7994, 'swooning</w>': 7995, 'swore</w>': 7996, 'sworn</w>': 7997, 'swung</w>': 7998, 'sy': 7999, 'sy!”</w>': 8000, 'sy,</w>': 8001, 'sy</w>': 8002, 'symp': 8003, 'sympath': 8004, 'sympathy</w>': 8005, 'system': 8006, 's’</w>': 8007, 't': 8008, 't!</w>': 8009, 't!”</w>': 8010, 't,</w>': 8011, 't,”</w>': 8012, 't-': 8013, 't.</w>': 8014, 't</w>': 8015, 't?</w>': 8016, 't?”</w>': 8017, 'ta': 8018, 'tab': 8019, 'table,</w>': 8020, 'table.</w>': 8021, 'table</w>': 8022, 'tables</w>': 8023, 'tail': 8024, 'tail</w>': 8025, 'tailors,</w>': 8026, 'tain': 8027, 'tain</w>': 8028, 'tained</w>': 8029, 'taining</w>': 8030, 'take</w>': 8031, 'taken</w>': 8032, 'takes</w>': 8033, 'taking</w>': 8034, 'tal': 8035, 'talk': 8036, 'talk.</w>': 8037, 'talk</w>': 8038, 'talkative</w>': 8039, 'talked</w>': 8040, 'talking!</w>': 8041, 'talking,</w>': 8042, 'talking.</w>': 8043, 'talking</w>': 8044, 'tall,</w>': 8045, 'tall</w>': 8046, 'tang': 8047, 'tapped</w>': 8048, 'tar': 8049, 'tasted</w>': 8050, 'tat': 8051, 'taught</w>': 8052, 'tavern': 8053, 'tavern,</w>': 8054, 'tavern-': 8055, 'tavern-keeper</w>': 8056, 'tavern.</w>': 8057, 'tavern</w>': 8058, 'te': 8059, 'te</w>': 8060, 'tea': 8061, 'tea,</w>': 8062, 'tea,”</w>': 8063, 'tea.</w>': 8064, 'tea</w>': 8065, 'tea?</w>': 8066, 'tea?”</w>': 8067, 'teach</w>': 8068, 'tear': 8069, 'tearing</w>': 8070, 'tears,</w>': 8071, 'tears;</w>': 8072, 'tears</w>': 8073, 'ted,</w>': 8074, 'ted.</w>': 8075, 'ted;</w>': 8076, 'ted</w>': 8077, 'tee': 8078, 'teen,</w>': 8079, 'teen.</w>': 8080, 'teen</w>': 8081, 'teeth,</w>': 8082, 'tell': 8083, 'tell</w>': 8084, 'tell?</w>': 8085, 'telling</w>': 8086, 'temp': 8087, 'temper': 8088, 'temper,</w>': 8089, 'temper</w>': 8090, 'tempered,</w>': 8091, 'tempted</w>': 8092, 'ten': 8093, 'ten,</w>': 8094, 'ten</w>': 8095, 'tendency</w>': 8096, 'tending</w>': 8097, 'tened</w>': 8098, 'tent': 8099, 'ter': 8100, 'ter,</w>': 8101, 'ter.</w>': 8102, 'ter</w>': 8103, 'tered,</w>': 8104, 'tered</w>': 8105, 'tering</w>': 8106, 'terms</w>': 8107, 'tern</w>': 8108, 'terri': 8109, 'terrible</w>': 8110, 'terribly</w>': 8111, 'terror,</w>': 8112, 'terror.</w>': 8113, 'terror</w>': 8114, 'terrors</w>': 8115, 'ter’s</w>': 8116, 'testi': 8117, 'th': 8118, 'th,</w>': 8119, 'th.</w>': 8120, 'th</w>': 8121, 'than': 8122, 'than</w>': 8123, 'thank': 8124, 'thank</w>': 8125, 'that': 8126, 'that!</w>': 8127, 'that!”</w>': 8128, 'that,</w>': 8129, 'that,”</w>': 8130, 'that....</w>': 8131, 'that...</w>': 8132, 'that.</w>': 8133, 'that.”</w>': 8134, 'that;</w>': 8135, 'that</w>': 8136, 'that?</w>': 8137, 'that?’</w>': 8138, 'that?”</w>': 8139, 'that’s</w>': 8140, 'the': 8141, 'the</w>': 8142, 'thee</w>': 8143, 'their</w>': 8144, 'them': 8145, 'them!</w>': 8146, 'them!”</w>': 8147, 'them,</w>': 8148, 'them.</w>': 8149, 'them.”</w>': 8150, 'them;</w>': 8151, 'them</w>': 8152, 'them?</w>': 8153, 'them?”</w>': 8154, 'themselv': 8155, 'themselves,</w>': 8156, 'themselves</w>': 8157, 'then': 8158, 'then!</w>': 8159, 'then!”</w>': 8160, 'then,</w>': 8161, 'then,”</w>': 8162, 'then--I</w>': 8163, 'then...</w>': 8164, 'then.</w>': 8165, 'then</w>': 8166, 'then?</w>': 8167, 'then?”</w>': 8168, 'theor': 8169, 'theory</w>': 8170, 'ther': 8171, 'ther,</w>': 8172, 'ther</w>': 8173, 'there': 8174, 'there!</w>': 8175, 'there,</w>': 8176, 'there--': 8177, 'there....</w>': 8178, 'there.</w>': 8179, 'there.”</w>': 8180, 'there</w>': 8181, 'there?”</w>': 8182, 'therefore</w>': 8183, 'there’s</w>': 8184, 'these': 8185, 'these</w>': 8186, 'they,</w>': 8187, 'they</w>': 8188, 'they’d</w>': 8189, 'they’ll</w>': 8190, 'they’re</w>': 8191, 'they’ve</w>': 8192, 'thick': 8193, 'thick</w>': 8194, 'thickly</w>': 8195, 'thin': 8196, 'thin,</w>': 8197, 'thin</w>': 8198, 'thing': 8199, 'thing,</w>': 8200, 'thing--': 8201, 'thing.</w>': 8202, 'thing;</w>': 8203, 'thing</w>': 8204, 'things,</w>': 8205, 'things...</w>': 8206, 'things.</w>': 8207, 'things</w>': 8208, 'think': 8209, 'think,</w>': 8210, 'think,”</w>': 8211, 'think</w>': 8212, 'think?</w>': 8213, 'think?”</w>': 8214, 'thinking,</w>': 8215, 'thinking.</w>': 8216, 'thinking</w>': 8217, 'thinks</w>': 8218, 'thir': 8219, 'third.</w>': 8220, 'third</w>': 8221, 'thirt': 8222, 'thirty,</w>': 8223, 'thirty-': 8224, 'thirty-five</w>': 8225, 'thirty</w>': 8226, 'this': 8227, 'this,</w>': 8228, 'this.</w>': 8229, 'this</w>': 8230, 'this?</w>': 8231, 'this?”</w>': 8232, 'thorough': 8233, 'thoroughly</w>': 8234, 'those</w>': 8235, 'though': 8236, 'though,</w>': 8237, 'though</w>': 8238, 'thought': 8239, 'thought,</w>': 8240, 'thought.</w>': 8241, 'thought</w>': 8242, 'thoughtful</w>': 8243, 'thoughtfully,</w>': 8244, 'thoughtfully.</w>': 8245, 'thoughts,</w>': 8246, 'thoughts</w>': 8247, 'thousand': 8248, 'thousand,</w>': 8249, 'thousand</w>': 8250, 'thousands</w>': 8251, 'thr': 8252, 'thrashed</w>': 8253, 'thre': 8254, 'thread': 8255, 'thread</w>': 8256, 'threat': 8257, 'threat</w>': 8258, 'threats</w>': 8259, 'three,</w>': 8260, 'three</w>': 8261, 'threshold.</w>': 8262, 'threw</w>': 8263, 'thro': 8264, 'throat.</w>': 8265, 'throat</w>': 8266, 'through</w>': 8267, 'throw</w>': 8268, 'thrown</w>': 8269, 'throws</w>': 8270, 'thrust</w>': 8271, 'thump': 8272, 'thumping</w>': 8273, 'thunder': 8274, 'thy</w>': 8275, 'ti': 8276, 'tial</w>': 8277, 'tian</w>': 8278, 'tible</w>': 8279, 'tic': 8280, 'tic</w>': 8281, 'tick': 8282, 'ticket,</w>': 8283, 'tid': 8284, 'tied</w>': 8285, 'ties,</w>': 8286, 'ties</w>': 8287, 'tigh': 8288, 'till</w>': 8289, 'tily</w>': 8290, 'tim': 8291, 'time': 8292, 'time!</w>': 8293, 'time,</w>': 8294, 'time,”</w>': 8295, 'time...</w>': 8296, 'time.</w>': 8297, 'time;</w>': 8298, 'time</w>': 8299, 'times,</w>': 8300, 'times.</w>': 8301, 'times</w>': 8302, 'timi': 8303, 'timid</w>': 8304, 'timidly.</w>': 8305, 'timidly</w>': 8306, 'tin': 8307, 'tin</w>': 8308, 'ting': 8309, 'ting!</w>': 8310, 'ting,</w>': 8311, 'ting.</w>': 8312, 'ting</w>': 8313, 'tink': 8314, 'tinkle</w>': 8315, 'tiny</w>': 8316, 'tion': 8317, 'tion,</w>': 8318, 'tion.</w>': 8319, 'tion</w>': 8320, 'tion?</w>': 8321, 'tional,</w>': 8322, 'tioned</w>': 8323, 'tions</w>': 8324, 'tip': 8325, 'tiptoe,</w>': 8326, 'tiptoe</w>': 8327, 'tire': 8328, 'tired</w>': 8329, 'tit': 8330, 'title</w>': 8331, 'titular</w>': 8332, 'tive</w>': 8333, 'tly,</w>': 8334, 'tly</w>': 8335, 'to': 8336, 'to,</w>': 8337, 'to,”</w>': 8338, 'to-': 8339, 'to-day': 8340, 'to-day,</w>': 8341, 'to-day,”</w>': 8342, 'to-day</w>': 8343, 'to-day?”</w>': 8344, 'to-do</w>': 8345, 'to-morrow': 8346, 'to-morrow,</w>': 8347, 'to-morrow...</w>': 8348, 'to-morrow.</w>': 8349, 'to-morrow;</w>': 8350, 'to-morrow</w>': 8351, 'to-night': 8352, 'to.</w>': 8353, 'to;</w>': 8354, 'to</w>': 8355, 'tobac': 8356, 'tobacco</w>': 8357, 'toes</w>': 8358, 'together': 8359, 'together,</w>': 8360, 'together....</w>': 8361, 'together.</w>': 8362, 'together</w>': 8363, 'told</w>': 8364, 'tomb': 8365, 'ton': 8366, 'tone.</w>': 8367, 'tone</w>': 8368, 'tongue</w>': 8369, 'too': 8370, 'too!</w>': 8371, 'too!”</w>': 8372, 'too,</w>': 8373, 'too,”</w>': 8374, 'too....</w>': 8375, 'too...</w>': 8376, 'too...”</w>': 8377, 'too.</w>': 8378, 'too.”</w>': 8379, 'too;</w>': 8380, 'too</w>': 8381, 'too?</w>': 8382, 'too?”</w>': 8383, 'took</w>': 8384, 'top': 8385, 'top,</w>': 8386, 'top</w>': 8387, 'tor': 8388, 'tore</w>': 8389, 'tormented</w>': 8390, 'tormenting</w>': 8391, 'torn</w>': 8392, 'torture.</w>': 8393, 'torture</w>': 8394, 'tortured</w>': 8395, 'torturing</w>': 8396, 'tou': 8397, 'touch': 8398, 'touch</w>': 8399, 'touched.</w>': 8400, 'touched</w>': 8401, 'touching</w>': 8402, 'tough</w>': 8403, 'towards</w>': 8404, 'towel,</w>': 8405, 'town': 8406, 'town,</w>': 8407, 'town.</w>': 8408, 'town</w>': 8409, 'tr': 8410, 'tra': 8411, 'trac': 8412, 'trace</w>': 8413, 'traces</w>': 8414, 'traces?</w>': 8415, 'tragic</w>': 8416, 'train,</w>': 8417, 'train</w>': 8418, 'tran': 8419, 'trans': 8420, 'transform': 8421, 'transl': 8422, 'translation': 8423, 'trav': 8424, 'travel</w>': 8425, 'tre': 8426, 'treat</w>': 8427, 'treated</w>': 8428, 'treating</w>': 8429, 'trem': 8430, 'trembl': 8431, 'tremble': 8432, 'trembled</w>': 8433, 'trembling</w>': 8434, 'tri': 8435, 'tribul': 8436, 'trick': 8437, 'tried</w>': 8438, 'trifle': 8439, 'trifles': 8440, 'trifles.</w>': 8441, 'trifles</w>': 8442, 'trifling</w>': 8443, 'trink': 8444, 'triump': 8445, 'triumph': 8446, 'triumph</w>': 8447, 'triumphantly,</w>': 8448, 'trivi': 8449, 'trivial</w>': 8450, 'trou': 8451, 'trouble': 8452, 'trouble,</w>': 8453, 'trouble</w>': 8454, 'trousers,</w>': 8455, 'trousers.</w>': 8456, 'trousers</w>': 8457, 'tru': 8458, 'trud': 8459, 'trudging</w>': 8460, 'true,</w>': 8461, 'true,”</w>': 8462, 'true.</w>': 8463, 'true</w>': 8464, 'trunk</w>': 8465, 'trust</w>': 8466, 'truth': 8467, 'truth!</w>': 8468, 'truth,</w>': 8469, 'truth</w>': 8470, 'try</w>': 8471, 'trying</w>': 8472, 'ts,</w>': 8473, 'ts.</w>': 8474, 'ts</w>': 8475, 'tt': 8476, 'tting</w>': 8477, 'tu': 8478, 'tugged</w>': 8479, 'tur': 8480, 'ture.</w>': 8481, 'ture</w>': 8482, 'turmoil.</w>': 8483, 'turn': 8484, 'turn,</w>': 8485, 'turn</w>': 8486, 'turned</w>': 8487, 'turning</w>': 8488, 'turns</w>': 8489, 'tw': 8490, 'twel': 8491, 'twelve</w>': 8492, 'twenty,</w>': 8493, 'twenty-': 8494, 'twenty-five</w>': 8495, 'twenty</w>': 8496, 'twi': 8497, 'twice': 8498, 'twice.</w>': 8499, 'twice</w>': 8500, 'twist</w>': 8501, 'twisted</w>': 8502, 'twitch': 8503, 'twitching</w>': 8504, 'two': 8505, 'two,</w>': 8506, 'two.</w>': 8507, 'two</w>': 8508, 'ty': 8509, 'ty,</w>': 8510, 'ty-': 8511, 'ty.</w>': 8512, 'ty</w>': 8513, 't’s</w>': 8514, 'u': 8515, 'uable</w>': 8516, 'ual</w>': 8517, 'uc': 8518, 'uch</w>': 8519, 'ud': 8520, 'udd': 8521, 'uding</w>': 8522, 'ue,</w>': 8523, 'ue</w>': 8524, 'uf': 8525, 'ug': 8526, 'ugh': 8527, 'ul': 8528, 'ular</w>': 8529, 'ulated</w>': 8530, 'um': 8531, 'um</w>': 8532, 'ump': 8533, 'un': 8534, 'un</w>': 8535, 'unable</w>': 8536, 'unaccountable</w>': 8537, 'unattain': 8538, 'unbearable</w>': 8539, 'unboun': 8540, 'unbuttoned</w>': 8541, 'unc': 8542, 'unceremon': 8543, 'unceremoniously</w>': 8544, 'uncertain</w>': 8545, 'uncle': 8546, 'uncle</w>': 8547, 'unconsci': 8548, 'unconscious,</w>': 8549, 'unconscious</w>': 8550, 'uncou': 8551, 'under': 8552, 'under</w>': 8553, 'undergone</w>': 8554, 'understand': 8555, 'understand!</w>': 8556, 'understand!”</w>': 8557, 'understand,</w>': 8558, 'understand.</w>': 8559, 'understand</w>': 8560, 'understand?</w>': 8561, 'understand?”</w>': 8562, 'understanding,</w>': 8563, 'understanding</w>': 8564, 'understood</w>': 8565, 'undertaking</w>': 8566, 'undertook</w>': 8567, 'undid</w>': 8568, 'undo</w>': 8569, 'undres': 8570, 'undressed</w>': 8571, 'undressing,</w>': 8572, 'undressing</w>': 8573, 'uneas': 8574, 'uneasily.</w>': 8575, 'uneasily</w>': 8576, 'uneasy,</w>': 8577, 'uneasy.</w>': 8578, 'uneasy</w>': 8579, 'unexpect': 8580, 'unexpected</w>': 8581, 'unexpectedly.</w>': 8582, 'unfasten': 8583, 'unfastened</w>': 8584, 'unfortunate</w>': 8585, 'ung</w>': 8586, 'ungentlemanly</w>': 8587, 'ungrate': 8588, 'unhapp': 8589, 'unhappy</w>': 8590, 'uni': 8591, 'univers': 8592, 'universal</w>': 8593, 'university,</w>': 8594, 'university.</w>': 8595, 'university</w>': 8596, 'unk': 8597, 'unk</w>': 8598, 'unkemp': 8599, 'unkempt</w>': 8600, 'unknown</w>': 8601, 'unlatched</w>': 8602, 'unlike</w>': 8603, 'unlooked-for</w>': 8604, 'unmistak': 8605, 'unmistakable</w>': 8606, 'unnatural</w>': 8607, 'unnecessar': 8608, 'unnoticed</w>': 8609, 'unredeemed</w>': 8610, 'unseemly</w>': 8611, 'unshaven</w>': 8612, 'unstead': 8613, 'unti': 8614, 'untie</w>': 8615, 'until</w>': 8616, 'untouched.</w>': 8617, 'unwa': 8618, 'unwarily</w>': 8619, 'unwilling</w>': 8620, 'unworthy</w>': 8621, 'up': 8622, 'up!</w>': 8623, 'up!”</w>': 8624, 'up,</w>': 8625, 'up,”</w>': 8626, 'up.</w>': 8627, 'up.”</w>': 8628, 'up;</w>': 8629, 'up</w>': 8630, 'upon.</w>': 8631, 'upon</w>': 8632, 'upper</w>': 8633, 'upro': 8634, 'uproar</w>': 8635, 'upset</w>': 8636, 'upsetting</w>': 8637, 'upstairs,</w>': 8638, 'upstairs</w>': 8639, 'ur': 8640, 'ure': 8641, 'ure,</w>': 8642, 'ure.</w>': 8643, 'ure;</w>': 8644, 'ure</w>': 8645, 'ured,</w>': 8646, 'ured.</w>': 8647, 'ured</w>': 8648, 'urely</w>': 8649, 'ures,</w>': 8650, 'ures</w>': 8651, 'urge</w>': 8652, 'urgent</w>': 8653, 'uring</w>': 8654, 'us': 8655, 'us!”</w>': 8656, 'us,</w>': 8657, 'us--': 8658, 'us....</w>': 8659, 'us...</w>': 8660, 'us.</w>': 8661, 'us.”</w>': 8662, 'us</w>': 8663, 'us?”</w>': 8664, 'use': 8665, 'use,</w>': 8666, 'use</w>': 8667, 'used': 8668, 'used</w>': 8669, 'useless.</w>': 8670, 'useless</w>': 8671, 'ush': 8672, 'ush</w>': 8673, 'ushed</w>': 8674, 'ushing</w>': 8675, 'using</w>': 8676, 'ussi': 8677, 'ust</w>': 8678, 'usu': 8679, 'usual</w>': 8680, 'usually</w>': 8681, 'ut': 8682, 'ut,</w>': 8683, 'ut</w>': 8684, 'utely</w>': 8685, 'utmost</w>': 8686, 'utter': 8687, 'utter</w>': 8688, 'uttered,</w>': 8689, 'uttered</w>': 8690, 'uttering</w>': 8691, 'utterly</w>': 8692, 'v': 8693, 'vag': 8694, 'val': 8695, 'valuable</w>': 8696, 'value</w>': 8697, 'van': 8698, 'vanity</w>': 8699, 'var': 8700, 'various</w>': 8701, 'vast</w>': 8702, 've': 8703, 've!</w>': 8704, 've!”</w>': 8705, 've,</w>': 8706, 've--': 8707, 've.</w>': 8708, 've</w>': 8709, 'ved</w>': 8710, 'vely,</w>': 8711, 'vely.</w>': 8712, 'vely</w>': 8713, 'ven': 8714, 'ven.</w>': 8715, 'vent': 8716, 'vent</w>': 8717, 'vented</w>': 8718, 'venture</w>': 8719, 'ventured</w>': 8720, 'ver': 8721, 'ver</w>': 8722, 'vers': 8723, 'versts</w>': 8724, 'very,</w>': 8725, 'very</w>': 8726, 'ves</w>': 8727, 'vex': 8728, 'vexation.</w>': 8729, 'vexed</w>': 8730, 'vi': 8731, 'vice,</w>': 8732, 'vice.</w>': 8733, 'vice</w>': 8734, 'victim': 8735, 'victim</w>': 8736, 'vie': 8737, 'view': 8738, 'view</w>': 8739, 'vigor': 8740, 'vil': 8741, 'vile': 8742, 'vile</w>': 8743, 'vill': 8744, 'ving</w>': 8745, 'viol': 8746, 'violent</w>': 8747, 'violently,</w>': 8748, 'violently</w>': 8749, 'vious</w>': 8750, 'vir': 8751, 'virtu': 8752, 'vis': 8753, 'vish': 8754, 'visit': 8755, 'visit,</w>': 8756, 'visit</w>': 8757, 'visited</w>': 8758, 'visiting</w>': 8759, 'visitor': 8760, 'visitor,</w>': 8761, 'visitor</w>': 8762, 'vivi': 8763, 'vivid': 8764, 'vividly</w>': 8765, 'vo': 8766, 'voc': 8767, 'vodk': 8768, 'vodka</w>': 8769, 'vodka?”</w>': 8770, 'voic': 8771, 'voice,</w>': 8772, 'voice--': 8773, 'voice.</w>': 8774, 'voice</w>': 8775, 'voices;</w>': 8776, 'voices</w>': 8777, 'w': 8778, 'w,</w>': 8779, 'w....</w>': 8780, 'w.</w>': 8781, 'w</w>': 8782, 'wa': 8783, 'wadded</w>': 8784, 'wagg': 8785, 'waggon</w>': 8786, 'wailed</w>': 8787, 'wailing,</w>': 8788, 'waist': 8789, 'waistcoat,</w>': 8790, 'waistcoat.</w>': 8791, 'waistcoat</w>': 8792, 'wait': 8793, 'wait</w>': 8794, 'waited,</w>': 8795, 'waited</w>': 8796, 'waiter,</w>': 8797, 'waiting</w>': 8798, 'wake</w>': 8799, 'waked</w>': 8800, 'waking</w>': 8801, 'wal': 8802, 'walk': 8803, 'walk,</w>': 8804, 'walk</w>': 8805, 'walked,</w>': 8806, 'walked</w>': 8807, 'walking</w>': 8808, 'wall': 8809, 'wall,</w>': 8810, 'wall.</w>': 8811, 'wall;</w>': 8812, 'wall</w>': 8813, 'walls,</w>': 8814, 'walls</w>': 8815, 'wand': 8816, 'wandered</w>': 8817, 'wandering</w>': 8818, 'wanderings</w>': 8819, 'want': 8820, 'want...</w>': 8821, 'want</w>': 8822, 'want?</w>': 8823, 'want?”</w>': 8824, 'wanted.</w>': 8825, 'wanted</w>': 8826, 'wants,</w>': 8827, 'wants</w>': 8828, 'war': 8829, 'wards,</w>': 8830, 'wards</w>': 8831, 'ware,</w>': 8832, 'ware</w>': 8833, 'warm': 8834, 'warm,</w>': 8835, 'warm</w>': 8836, 'warmly,</w>': 8837, 'warmly.</w>': 8838, 'warmly</w>': 8839, 'warmth,</w>': 8840, 'warmth.</w>': 8841, 'warn</w>': 8842, 'was': 8843, 'was!</w>': 8844, 'was,</w>': 8845, 'was...</w>': 8846, 'was.</w>': 8847, 'was</w>': 8848, 'wash': 8849, 'wash</w>': 8850, 'washed</w>': 8851, 'washing</w>': 8852, 'wasn’t</w>': 8853, 'wast': 8854, 'waste</w>': 8855, 'wasted</w>': 8856, 'wat': 8857, 'watch,</w>': 8858, 'watch-': 8859, 'watch.</w>': 8860, 'watch</w>': 8861, 'watched</w>': 8862, 'watching</w>': 8863, 'water': 8864, 'water,</w>': 8865, 'water.</w>': 8866, 'water</w>': 8867, 'wave</w>': 8868, 'waved</w>': 8869, 'waving</w>': 8870, 'wax': 8871, 'wax</w>': 8872, 'way': 8873, 'way!</w>': 8874, 'way!”</w>': 8875, 'way,</w>': 8876, 'way,”</w>': 8877, 'way....</w>': 8878, 'way...</w>': 8879, 'way.</w>': 8880, 'way;</w>': 8881, 'way</w>': 8882, 'way?”</w>': 8883, 'we': 8884, 'we</w>': 8885, 'wea': 8886, 'weak': 8887, 'weak,</w>': 8888, 'weak</w>': 8889, 'weakly.</w>': 8890, 'weakness,</w>': 8891, 'weakness</w>': 8892, 'wealth</w>': 8893, 'wear</w>': 8894, 'wearing</w>': 8895, 'weary</w>': 8896, 'wed': 8897, 'wed</w>': 8898, 'wee': 8899, 'week': 8900, 'week</w>': 8901, 'weeks</w>': 8902, 'weep': 8903, 'weep,</w>': 8904, 'weeping</w>': 8905, 'weigh': 8906, 'weighed</w>': 8907, 'weighing</w>': 8908, 'weight</w>': 8909, 'wel': 8910, 'welcome</w>': 8911, 'well': 8912, 'well!”</w>': 8913, 'well,</w>': 8914, 'well-': 8915, 'well.</w>': 8916, 'well.”</w>': 8917, 'well</w>': 8918, 'went</w>': 8919, 'wept</w>': 8920, 'were,</w>': 8921, 'were</w>': 8922, 'weren’t</w>': 8923, 'wet</w>': 8924, 'wetted</w>': 8925, 'we’ll</w>': 8926, 'we’ve</w>': 8927, 'wh': 8928, 'what': 8929, 'what.</w>': 8930, 'what.”</w>': 8931, 'what</w>': 8932, 'what?</w>': 8933, 'what?”</w>': 8934, 'whatever</w>': 8935, 'what’s</w>': 8936, 'whe': 8937, 'wheels</w>': 8938, 'when': 8939, 'when</w>': 8940, 'wher': 8941, 'where,</w>': 8942, 'where.</w>': 8943, 'where</w>': 8944, 'whether</w>': 8945, 'whi': 8946, 'which,</w>': 8947, 'which</w>': 8948, 'while,</w>': 8949, 'while.</w>': 8950, 'while</w>': 8951, 'whilst</w>': 8952, 'whim': 8953, 'whip,</w>': 8954, 'whip</w>': 8955, 'whips</w>': 8956, 'whis': 8957, 'whisk': 8958, 'whiskers.</w>': 8959, 'whisper': 8960, 'whisper,</w>': 8961, 'whisper</w>': 8962, 'whispered</w>': 8963, 'whispering</w>': 8964, 'whispers,</w>': 8965, 'whist': 8966, 'white': 8967, 'white</w>': 8968, 'who': 8969, 'who,</w>': 8970, 'who...</w>': 8971, 'who</w>': 8972, 'whole</w>': 8973, 'whom</w>': 8974, 'whose</w>': 8975, 'why,</w>': 8976, 'why</w>': 8977, 'wi': 8978, 'wid': 8979, 'wide': 8980, 'wide.</w>': 8981, 'wide</w>': 8982, 'widow</w>': 8983, 'wife,</w>': 8984, 'wife.</w>': 8985, 'wife</w>': 8986, 'wig': 8987, 'wild</w>': 8988, 'wildly</w>': 8989, 'will': 8990, 'will,</w>': 8991, 'will,”</w>': 8992, 'will</w>': 8993, 'willing,</w>': 8994, 'willing</w>': 8995, 'win': 8996, 'wind': 8997, 'window': 8998, 'window,</w>': 8999, 'window.</w>': 9000, 'window;</w>': 9001, 'window</w>': 9002, 'windows,</w>': 9003, 'windows</w>': 9004, 'wine</w>': 9005, 'wing</w>': 9006, 'winter</w>': 9007, 'wiped</w>': 9008, 'wiping</w>': 9009, 'wis': 9010, 'wisdom': 9011, 'wise</w>': 9012, 'wish</w>': 9013, 'wit': 9014, 'wit,</w>': 9015, 'wit</w>': 9016, 'with': 9017, 'with,</w>': 9018, 'with.</w>': 9019, 'with</w>': 9020, 'withdraw</w>': 9021, 'within.</w>': 9022, 'within</w>': 9023, 'without</w>': 9024, 'witnes': 9025, 'wn</w>': 9026, 'woke</w>': 9027, 'wom': 9028, 'woman': 9029, 'woman,</w>': 9030, 'woman,”</w>': 9031, 'woman.</w>': 9032, 'woman</w>': 9033, 'woman?</w>': 9034, 'woman’s</w>': 9035, 'women,</w>': 9036, 'women</w>': 9037, 'won': 9038, 'won</w>': 9039, 'wonder': 9040, 'wonder</w>': 9041, 'wondered.</w>': 9042, 'wondered</w>': 9043, 'wonderful,</w>': 9044, 'wonderful</w>': 9045, 'wondering</w>': 9046, 'won’t,</w>': 9047, 'won’t</w>': 9048, 'woo': 9049, 'wood': 9050, 'wood,</w>': 9051, 'wood</w>': 9052, 'wooden</w>': 9053, 'woollen</w>': 9054, 'wor': 9055, 'word': 9056, 'word,</w>': 9057, 'word....</w>': 9058, 'word...</w>': 9059, 'word.</w>': 9060, 'word</w>': 9061, 'words,</w>': 9062, 'words.</w>': 9063, 'words</w>': 9064, 'wore</w>': 9065, 'work': 9066, 'work,</w>': 9067, 'work.</w>': 9068, 'work</w>': 9069, 'work?</w>': 9070, 'worked</w>': 9071, 'working</w>': 9072, 'workman.</w>': 9073, 'workman</w>': 9074, 'workmen</w>': 9075, 'works</w>': 9076, 'worl': 9077, 'world,</w>': 9078, 'world.</w>': 9079, 'world</w>': 9080, 'worn': 9081, 'worn</w>': 9082, 'worried</w>': 9083, 'worries</w>': 9084, 'worry</w>': 9085, 'worrying</w>': 9086, 'worse': 9087, 'worse.</w>': 9088, 'worse</w>': 9089, 'worst</w>': 9090, 'worth': 9091, 'worth</w>': 9092, 'worthy</w>': 9093, 'woul': 9094, 'would,</w>': 9095, 'would</w>': 9096, 'wouldn’t</w>': 9097, 'wounded</w>': 9098, 'wr': 9099, 'wra': 9100, 'wrapped</w>': 9101, 'wrath': 9102, 'wrathfully</w>': 9103, 'wre': 9104, 'wret': 9105, 'wretch': 9106, 'wretched': 9107, 'wretched</w>': 9108, 'wri': 9109, 'wringing</w>': 9110, 'writ': 9111, 'write.</w>': 9112, 'write</w>': 9113, 'writes,</w>': 9114, 'writes</w>': 9115, 'writing</w>': 9116, 'writt': 9117, 'written</w>': 9118, 'wrong': 9119, 'wrong,</w>': 9120, 'wrong</w>': 9121, 'wrote</w>': 9122, 'x': 9123, 'x</w>': 9124, 'xed</w>': 9125, 'y': 9126, 'y!</w>': 9127, 'y!”</w>': 9128, 'y,</w>': 9129, 'y,’</w>': 9130, 'y,”</w>': 9131, 'y-': 9132, 'y--': 9133, 'y--for</w>': 9134, 'y--“': 9135, 'y-five</w>': 9136, 'y....</w>': 9137, 'y...</w>': 9138, 'y...”</w>': 9139, 'y.</w>': 9140, 'y.”</w>': 9141, 'y:</w>': 9142, 'y;</w>': 9143, 'y</w>': 9144, 'y?</w>': 9145, 'y?”</w>': 9146, 'y_</w>': 9147, 'ya': 9148, 'ya</w>': 9149, 'yard,</w>': 9150, 'yard.</w>': 9151, 'yard</w>': 9152, 'yards</w>': 9153, 'yaw': 9154, 'ye</w>': 9155, 'year': 9156, 'year.</w>': 9157, 'year</w>': 9158, 'years,</w>': 9159, 'years.</w>': 9160, 'years</w>': 9161, 'years?</w>': 9162, 'years’</w>': 9163, 'year’s</w>': 9164, 'yed</w>': 9165, 'yellow': 9166, 'yellow,</w>': 9167, 'yellow</w>': 9168, 'yes': 9169, 'yes!</w>': 9170, 'yes,</w>': 9171, 'yes....</w>': 9172, 'yes...</w>': 9173, 'yes.</w>': 9174, 'yes;</w>': 9175, 'yesterday': 9176, 'yesterday,</w>': 9177, 'yesterday,”</w>': 9178, 'yesterday.</w>': 9179, 'yesterday.’</w>': 9180, 'yesterday.”</w>': 9181, 'yesterday</w>': 9182, 'yet': 9183, 'yet,</w>': 9184, 'yet....</w>': 9185, 'yet...</w>': 9186, 'yet</w>': 9187, 'yev,</w>': 9188, 'ying,</w>': 9189, 'ying</w>': 9190, 'yonder': 9191, 'you': 9192, 'you!</w>': 9193, 'you!”</w>': 9194, 'you,</w>': 9195, 'you,’</w>': 9196, 'you,”</w>': 9197, 'you....</w>': 9198, 'you...</w>': 9199, 'you...”</w>': 9200, 'you.</w>': 9201, 'you.”</w>': 9202, 'you;</w>': 9203, 'you</w>': 9204, 'you?...</w>': 9205, 'you?</w>': 9206, 'you?”</w>': 9207, 'young': 9208, 'young,</w>': 9209, 'young</w>': 9210, 'younger,</w>': 9211, 'younger</w>': 9212, 'youngest</w>': 9213, 'your': 9214, 'your</w>': 9215, 'yours,</w>': 9216, 'yours</w>': 9217, 'yourself': 9218, 'yourself,</w>': 9219, 'yourself,”</w>': 9220, 'yourself.</w>': 9221, 'yourself.”</w>': 9222, 'yourself;</w>': 9223, 'yourself</w>': 9224, 'yourselves': 9225, 'yourselves</w>': 9226, 'youth': 9227, 'youth,</w>': 9228, 'youthful</w>': 9229, 'you’d</w>': 9230, 'you’ll</w>': 9231, 'you’re</w>': 9232, 'you’ve</w>': 9233, 'ys</w>': 9234, 'y’': 9235, 'y’s,</w>': 9236, 'y’s</w>': 9237, 'z': 9238, 'z,</w>': 9239, 'zed</w>': 9240, 'zing</w>': 9241, 'zz': 9242, 'é': 9243, 'ê': 9244, 'î': 9245, 'ô': 9246, '‘': 9247, '‘And</w>': 9248, '‘Because</w>': 9249, '‘Come</w>': 9250, '‘Dounia</w>': 9251, '‘I</w>': 9252, '‘Is</w>': 9253, '‘I’ll</w>': 9254, '‘Lord,</w>': 9255, '‘No,</w>': 9256, '‘Semyon</w>': 9257, '‘That</w>': 9258, '‘There</w>': 9259, '‘To</w>': 9260, '‘We</w>': 9261, '‘What</w>': 9262, '‘Where</w>': 9263, '‘Why</w>': 9264, '‘You</w>': 9265, '‘a</w>': 9266, '‘and</w>': 9267, '‘for</w>': 9268, '‘it</w>': 9269, '‘love</w>': 9270, '‘my</w>': 9271, '‘you</w>': 9272, '’': 9273, '’--': 9274, '’</w>': 9275, '’?</w>': 9276, '’d</w>': 9277, '’ll</w>': 9278, '’s,</w>': 9279, '’s,”</w>': 9280, '’s--you</w>': 9281, '’s...</w>': 9282, '’s.</w>': 9283, '’s;</w>': 9284, '’s</w>': 9285, '’t': 9286, '’t,</w>': 9287, '“': 9288, '“...</w>': 9289, '“A': 9290, '“A-': 9291, '“A-ah!</w>': 9292, '“A</w>': 9293, '“About</w>': 9294, '“Ach,</w>': 9295, '“After</w>': 9296, '“Afterwar': 9297, '“Afterwards,”</w>': 9298, '“Ah': 9299, '“Ah!</w>': 9300, '“Ah,</w>': 9301, '“All</w>': 9302, '“Am</w>': 9303, '“Amalia</w>': 9304, '“An': 9305, '“And</w>': 9306, '“Anyway,</w>': 9307, '“Are</w>': 9308, '“As': 9309, '“As</w>': 9310, '“At</w>': 9311, '“B': 9312, '“Bah!”</w>': 9313, '“Bah,</w>': 9314, '“Be</w>': 9315, '“Better</w>': 9316, '“Bloo': 9317, '“Bro': 9318, '“But,</w>': 9319, '“But...</w>': 9320, '“But</w>': 9321, '“C': 9322, '“Can</w>': 9323, '“Come,</w>': 9324, '“Come</w>': 9325, '“D': 9326, '“Damn</w>': 9327, '“Did</w>': 9328, '“Do</w>': 9329, '“Don’t</w>': 9330, '“Dounia,</w>': 9331, '“Excuse</w>': 9332, '“F': 9333, '“Fet': 9334, '“Foo!</w>': 9335, '“For</w>': 9336, '“From</w>': 9337, '“G': 9338, '“Get</w>': 9339, '“Give</w>': 9340, '“Go': 9341, '“Go</w>': 9342, '“God</w>': 9343, '“Good-by': 9344, '“Good</w>': 9345, '“H': 9346, '“Hadn’t</w>': 9347, '“Have</w>': 9348, '“He': 9349, '“He</w>': 9350, '“Her': 9351, '“Here!”</w>': 9352, '“Here,</w>': 9353, '“Here</w>': 9354, '“Hey': 9355, '“Hey,</w>': 9356, '“Hey</w>': 9357, '“He’ll</w>': 9358, '“He’s</w>': 9359, '“Hm': 9360, '“Hm!”</w>': 9361, '“Hm...</w>': 9362, '“Honoured</w>': 9363, '“How</w>': 9364, '“H’': 9365, '“I': 9366, '“I</w>': 9367, '“If</w>': 9368, '“Ilya</w>': 9369, '“In</w>': 9370, '“Is</w>': 9371, '“Isn’t</w>': 9372, '“It</w>': 9373, '“It’s</w>': 9374, '“I’ll</w>': 9375, '“I’m</w>': 9376, '“I’ve</w>': 9377, '“Just</w>': 9378, '“K': 9379, '“Kindly</w>': 9380, '“Koch</w>': 9381, '“Leg': 9382, '“Let</w>': 9383, '“List': 9384, '“Listen,</w>': 9385, '“Listen,”</w>': 9386, '“Listen</w>': 9387, '“Look</w>': 9388, '“M': 9389, '“May': 9390, '“Maybe</w>': 9391, '“Mer': 9392, '“Mercy!</w>': 9393, '“Mercy</w>': 9394, '“Money?</w>': 9395, '“Mother,</w>': 9396, '“My</w>': 9397, '“N': 9398, '“N-no,”</w>': 9399, '“Nastasya,</w>': 9400, '“Never</w>': 9401, '“No': 9402, '“No,</w>': 9403, '“No,”</w>': 9404, '“No</w>': 9405, '“Nobody</w>': 9406, '“Nonsense!</w>': 9407, '“Not</w>': 9408, '“Noth': 9409, '“Nothing,”</w>': 9410, '“Nothing</w>': 9411, '“Now</w>': 9412, '“O': 9413, '“Of</w>': 9414, '“Oh': 9415, '“Oh,</w>': 9416, '“Oh...</w>': 9417, '“On</w>': 9418, '“One</w>': 9419, '“Only</w>': 9420, '“P': 9421, '“Perhaps</w>': 9422, '“Please</w>': 9423, '“Polenk': 9424, '“Poor</w>': 9425, '“Pr': 9426, '“Pyotr</w>': 9427, '“Quite</w>': 9428, '“R': 9429, '“Rodya,</w>': 9430, '“Run</w>': 9431, '“S': 9432, '“Shall</w>': 9433, '“She</w>': 9434, '“She’ll</w>': 9435, '“She’s</w>': 9436, '“Since</w>': 9437, '“So</w>': 9438, '“Sofya</w>': 9439, '“Some</w>': 9440, '“St': 9441, '“Sta': 9442, '“Stay!”</w>': 9443, '“Stay,”</w>': 9444, '“Stop,</w>': 9445, '“Str': 9446, '“T': 9447, '“Take</w>': 9448, '“Talked</w>': 9449, '“Tell</w>': 9450, '“Th': 9451, '“Thank</w>': 9452, '“That</w>': 9453, '“That’s</w>': 9454, '“The': 9455, '“The</w>': 9456, '“Then</w>': 9457, '“There</w>': 9458, '“There’s</w>': 9459, '“They</w>': 9460, '“They’': 9461, '“They’re</w>': 9462, '“Thirty</w>': 9463, '“This</w>': 9464, '“Though</w>': 9465, '“To-day,</w>': 9466, '“To-morr': 9467, '“To</w>': 9468, '“Tw': 9469, '“Twenty</w>': 9470, '“Upon</w>': 9471, '“Very</w>': 9472, '“W': 9473, '“Wa': 9474, '“Wait!</w>': 9475, '“Wait</w>': 9476, '“Was</w>': 9477, '“We': 9478, '“We</w>': 9479, '“Well': 9480, '“Well,</w>': 9481, '“Well?”</w>': 9482, '“We’ve</w>': 9483, '“Wh': 9484, '“What!</w>': 9485, '“What</w>': 9486, '“What?”</w>': 9487, '“What’s</w>': 9488, '“Where</w>': 9489, '“Which</w>': 9490, '“Who': 9491, '“Who</w>': 9492, '“Why,</w>': 9493, '“Why</w>': 9494, '“Why?”</w>': 9495, '“Will</w>': 9496, '“Won’t</w>': 9497, '“Y': 9498, '“Yes': 9499, '“Yes,</w>': 9500, '“Yes...</w>': 9501, '“Yes.</w>': 9502, '“Yes.”</w>': 9503, '“You': 9504, '“You</w>': 9505, '“Your</w>': 9506, '“You’d</w>': 9507, '“You’ll</w>': 9508, '“You’re</w>': 9509, '“You’ve</w>': 9510, '“and</w>': 9511, '“better</w>': 9512, '“but</w>': 9513, '“cab': 9514, '“come</w>': 9515, '“don’t</w>': 9516, '“for</w>': 9517, '“he</w>': 9518, '“how</w>': 9519, '“if</w>': 9520, '“is</w>': 9521, '“it</w>': 9522, '“it’s</w>': 9523, '“of</w>': 9524, '“she</w>': 9525, '“some</w>': 9526, '“that</w>': 9527, '“the</w>': 9528, '“though</w>': 9529, '“to</w>': 9530, '“very</w>': 9531, '“we</w>': 9532, '“what</w>': 9533, '“you</w>': 9534, '”': 9535, '”--and</w>': 9536, '”</w>': 9537, '[UNK]': 9538, '[PAD]': 9539}\n",
      "Token IDs: [[4064], [2940], [4946], [4946], [5817], [9538, 98], [8782], [5817], [6640], [4946], [2468]]\n"
     ]
    },
    {
     "ename": "AttributeError",
     "evalue": "'BPETokenizer' object has no attribute 'id_to_token'",
     "output_type": "error",
     "traceback": [
      "\u001b[1;31m---------------------------------------------------------------------------\u001b[0m",
      "\u001b[1;31mAttributeError\u001b[0m                            Traceback (most recent call last)",
      "Cell \u001b[1;32mIn[26], line 17\u001b[0m\n\u001b[0;32m     14\u001b[0m \u001b[38;5;28mprint\u001b[39m(\u001b[38;5;124m\"\u001b[39m\u001b[38;5;124mToken IDs:\u001b[39m\u001b[38;5;124m\"\u001b[39m, tokens)\n\u001b[0;32m     16\u001b[0m \u001b[38;5;66;03m# Tes decode (opsional)\u001b[39;00m\n\u001b[1;32m---> 17\u001b[0m decoded \u001b[38;5;241m=\u001b[39m \u001b[43mtokenizer\u001b[49m\u001b[38;5;241;43m.\u001b[39;49m\u001b[43mdecode\u001b[49m\u001b[43m(\u001b[49m\u001b[43mtokens\u001b[49m\u001b[43m)\u001b[49m\n\u001b[0;32m     18\u001b[0m \u001b[38;5;28mprint\u001b[39m(\u001b[38;5;124m\"\u001b[39m\u001b[38;5;124mDecoded:\u001b[39m\u001b[38;5;124m\"\u001b[39m, decoded)\n",
      "File \u001b[1;32mc:\\Users\\USER DK\\Documents\\Llama\\llama_model\\llama_from_scratch.py:184\u001b[0m, in \u001b[0;36mBPETokenizer.decode\u001b[1;34m(self, token_ids)\u001b[0m\n\u001b[0;32m    182\u001b[0m \u001b[38;5;28;01mdef\u001b[39;00m \u001b[38;5;21mdecode\u001b[39m(\u001b[38;5;28mself\u001b[39m, token_ids):\n\u001b[0;32m    183\u001b[0m \u001b[38;5;250m    \u001b[39m\u001b[38;5;124;03m\"\"\"Decode list of token IDs into a readable sentence\"\"\"\u001b[39;00m\n\u001b[1;32m--> 184\u001b[0m     tokens \u001b[38;5;241m=\u001b[39m \u001b[43m[\u001b[49m\u001b[38;5;28;43mself\u001b[39;49m\u001b[38;5;241;43m.\u001b[39;49m\u001b[43mid_to_token\u001b[49m\u001b[38;5;241;43m.\u001b[39;49m\u001b[43mget\u001b[49m\u001b[43m(\u001b[49m\u001b[43mtid\u001b[49m\u001b[43m,\u001b[49m\u001b[43m \u001b[49m\u001b[38;5;124;43m\"\u001b[39;49m\u001b[38;5;124;43m[UNK]\u001b[39;49m\u001b[38;5;124;43m\"\u001b[39;49m\u001b[43m)\u001b[49m\u001b[43m \u001b[49m\u001b[38;5;28;43;01mfor\u001b[39;49;00m\u001b[43m \u001b[49m\u001b[43mtid\u001b[49m\u001b[43m \u001b[49m\u001b[38;5;129;43;01min\u001b[39;49;00m\u001b[43m \u001b[49m\u001b[43mtoken_ids\u001b[49m\u001b[43m]\u001b[49m\n\u001b[0;32m    185\u001b[0m     \u001b[38;5;66;03m# Gabungkan token, hilangkan penanda akhir kata, lalu pisahkan jadi kata\u001b[39;00m\n\u001b[0;32m    186\u001b[0m     text \u001b[38;5;241m=\u001b[39m \u001b[38;5;124m'\u001b[39m\u001b[38;5;124m'\u001b[39m\u001b[38;5;241m.\u001b[39mjoin(tokens)\u001b[38;5;241m.\u001b[39mreplace(\u001b[38;5;124m\"\u001b[39m\u001b[38;5;124m</w>\u001b[39m\u001b[38;5;124m\"\u001b[39m, \u001b[38;5;124m\"\u001b[39m\u001b[38;5;124m \u001b[39m\u001b[38;5;124m\"\u001b[39m)\u001b[38;5;241m.\u001b[39mstrip()\n",
      "File \u001b[1;32mc:\\Users\\USER DK\\Documents\\Llama\\llama_model\\llama_from_scratch.py:184\u001b[0m, in \u001b[0;36m<listcomp>\u001b[1;34m(.0)\u001b[0m\n\u001b[0;32m    182\u001b[0m \u001b[38;5;28;01mdef\u001b[39;00m \u001b[38;5;21mdecode\u001b[39m(\u001b[38;5;28mself\u001b[39m, token_ids):\n\u001b[0;32m    183\u001b[0m \u001b[38;5;250m    \u001b[39m\u001b[38;5;124;03m\"\"\"Decode list of token IDs into a readable sentence\"\"\"\u001b[39;00m\n\u001b[1;32m--> 184\u001b[0m     tokens \u001b[38;5;241m=\u001b[39m [\u001b[38;5;28;43mself\u001b[39;49m\u001b[38;5;241;43m.\u001b[39;49m\u001b[43mid_to_token\u001b[49m\u001b[38;5;241m.\u001b[39mget(tid, \u001b[38;5;124m\"\u001b[39m\u001b[38;5;124m[UNK]\u001b[39m\u001b[38;5;124m\"\u001b[39m) \u001b[38;5;28;01mfor\u001b[39;00m tid \u001b[38;5;129;01min\u001b[39;00m token_ids]\n\u001b[0;32m    185\u001b[0m     \u001b[38;5;66;03m# Gabungkan token, hilangkan penanda akhir kata, lalu pisahkan jadi kata\u001b[39;00m\n\u001b[0;32m    186\u001b[0m     text \u001b[38;5;241m=\u001b[39m \u001b[38;5;124m'\u001b[39m\u001b[38;5;124m'\u001b[39m\u001b[38;5;241m.\u001b[39mjoin(tokens)\u001b[38;5;241m.\u001b[39mreplace(\u001b[38;5;124m\"\u001b[39m\u001b[38;5;124m</w>\u001b[39m\u001b[38;5;124m\"\u001b[39m, \u001b[38;5;124m\"\u001b[39m\u001b[38;5;124m \u001b[39m\u001b[38;5;124m\"\u001b[39m)\u001b[38;5;241m.\u001b[39mstrip()\n",
      "\u001b[1;31mAttributeError\u001b[0m: 'BPETokenizer' object has no attribute 'id_to_token'"
     ]
    }
   ],
   "source": [
    "import pickle\n",
    "\n",
    "with open(\"llama_model/tokenizer.pkl\", \"rb\") as f:\n",
    "    obj = pickle.load(f)\n",
    "# with open(\"llama_model/model.pt\", \"r\") as j:\n",
    "#     obj = pickle.load(j)\n",
    "\n",
    "print(type(obj))  # Cek tipe data-nya\n",
    "print(dir(obj))   # Lihat isinya kalau objek\n",
    "print(obj.vocab)  # ✅ akses langsung dari objek\n",
    "\n",
    "text = \"hello world\"\n",
    "tokens = tokenizer.encode(text)\n",
    "print(\"Token IDs:\", tokens)\n",
    "\n",
    "# Tes decode (opsional)\n",
    "decoded = tokenizer.decode(tokens)\n",
    "print(\"Decoded:\", decoded)\n",
    "\n"
   ]
  },
  {
   "cell_type": "code",
   "execution_count": null,
   "metadata": {},
   "outputs": [],
   "source": []
  }
 ],
 "metadata": {
  "kernelspec": {
   "display_name": "Python 3",
   "language": "python",
   "name": "python3"
  },
  "language_info": {
   "codemirror_mode": {
    "name": "ipython",
    "version": 3
   },
   "file_extension": ".py",
   "mimetype": "text/x-python",
   "name": "python",
   "nbconvert_exporter": "python",
   "pygments_lexer": "ipython3",
   "version": "3.11.2"
  }
 },
 "nbformat": 4,
 "nbformat_minor": 2
}
